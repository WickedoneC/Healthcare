{
 "cells": [
  {
   "cell_type": "markdown",
   "metadata": {},
   "source": [
    "### Using NLP to Analyze Drug Reviews from Druglib.com"
   ]
  },
  {
   "cell_type": "code",
   "execution_count": 1,
   "metadata": {},
   "outputs": [],
   "source": [
    "# https://archive.ics.uci.edu/ml/datasets/Drug+Review+Dataset+%28Druglib.com%29"
   ]
  },
  {
   "cell_type": "code",
   "execution_count": 2,
   "metadata": {},
   "outputs": [],
   "source": [
    "# https://towardsdatascience.com/end-to-end-topic-modeling-in-python-latent-dirichlet-allocation-lda-35ce4ed6b3e0"
   ]
  },
  {
   "cell_type": "code",
   "execution_count": 3,
   "metadata": {},
   "outputs": [],
   "source": [
    "# https://stackabuse.com/python-for-nlp-topic-modeling/"
   ]
  },
  {
   "cell_type": "markdown",
   "metadata": {},
   "source": [
    "## Step by Step NLP Analysis"
   ]
  },
  {
   "cell_type": "code",
   "execution_count": 4,
   "metadata": {},
   "outputs": [],
   "source": [
    "import nltk\n",
    "import matplotlib.pyplot as plt\n",
    "import pandas as pd\n",
    "from sklearn.feature_extraction.text import CountVectorizer\n",
    "from sklearn.feature_extraction.text import TfidfVectorizer\n",
    "from sklearn.feature_extraction.text import TfidfTransformer\n",
    "from nltk.probability import FreqDist\n",
    "from nltk.corpus import stopwords\n",
    "from nltk.stem import PorterStemmer\n",
    "from sklearn.metrics import confusion_matrix\n",
    "import seaborn as sns; sns.set()\n",
    "from sklearn.naive_bayes import MultinomialNB\n",
    "from sklearn import metrics\n",
    "from sklearn.model_selection import train_test_split\n",
    "from matplotlib import cm\n",
    "import numpy as np\n",
    "from sklearn.ensemble import RandomForestClassifier\n",
    "from sklearn.ensemble import GradientBoostingClassifier\n",
    "from sklearn.metrics import accuracy_score\n",
    "from sklearn.metrics import f1_score\n",
    "from sklearn.naive_bayes import MultinomialNB\n",
    "from nltk.tokenize import RegexpTokenizer\n",
    "from nltk.stem import PorterStemmer\n",
    "from nltk.stem import WordNetLemmatizer\n",
    "from nltk.tokenize import RegexpTokenizer\n",
    "import string, re\n",
    "from wordcloud import WordCloud\n",
    "\n",
    "# nltk.download('stopwords')\n",
    "# nltk.download('punkt')\n",
    "# nltk.download('wordnet')"
   ]
  },
  {
   "cell_type": "code",
   "execution_count": 5,
   "metadata": {},
   "outputs": [
    {
     "name": "stdout",
     "output_type": "stream",
     "text": [
      "3107\n"
     ]
    },
    {
     "data": {
      "text/html": [
       "<div>\n",
       "<style scoped>\n",
       "    .dataframe tbody tr th:only-of-type {\n",
       "        vertical-align: middle;\n",
       "    }\n",
       "\n",
       "    .dataframe tbody tr th {\n",
       "        vertical-align: top;\n",
       "    }\n",
       "\n",
       "    .dataframe thead th {\n",
       "        text-align: right;\n",
       "    }\n",
       "</style>\n",
       "<table border=\"1\" class=\"dataframe\">\n",
       "  <thead>\n",
       "    <tr style=\"text-align: right;\">\n",
       "      <th></th>\n",
       "      <th>Unnamed: 0</th>\n",
       "      <th>urlDrugName</th>\n",
       "      <th>rating</th>\n",
       "      <th>effectiveness</th>\n",
       "      <th>sideEffects</th>\n",
       "      <th>condition</th>\n",
       "      <th>benefitsReview</th>\n",
       "      <th>sideEffectsReview</th>\n",
       "      <th>commentsReview</th>\n",
       "    </tr>\n",
       "  </thead>\n",
       "  <tbody>\n",
       "    <tr>\n",
       "      <th>0</th>\n",
       "      <td>2202</td>\n",
       "      <td>enalapril</td>\n",
       "      <td>4</td>\n",
       "      <td>Highly Effective</td>\n",
       "      <td>Mild Side Effects</td>\n",
       "      <td>management of congestive heart failure</td>\n",
       "      <td>slowed the progression of left ventricular dys...</td>\n",
       "      <td>cough, hypotension , proteinuria, impotence , ...</td>\n",
       "      <td>monitor blood pressure , weight and asses for ...</td>\n",
       "    </tr>\n",
       "    <tr>\n",
       "      <th>1</th>\n",
       "      <td>3117</td>\n",
       "      <td>ortho-tri-cyclen</td>\n",
       "      <td>1</td>\n",
       "      <td>Highly Effective</td>\n",
       "      <td>Severe Side Effects</td>\n",
       "      <td>birth prevention</td>\n",
       "      <td>Although this type of birth control has more c...</td>\n",
       "      <td>Heavy Cycle, Cramps, Hot Flashes, Fatigue, Lon...</td>\n",
       "      <td>I Hate This Birth Control, I Would Not Suggest...</td>\n",
       "    </tr>\n",
       "    <tr>\n",
       "      <th>2</th>\n",
       "      <td>1146</td>\n",
       "      <td>ponstel</td>\n",
       "      <td>10</td>\n",
       "      <td>Highly Effective</td>\n",
       "      <td>No Side Effects</td>\n",
       "      <td>menstrual cramps</td>\n",
       "      <td>I was used to having cramps so badly that they...</td>\n",
       "      <td>Heavier bleeding and clotting than normal.</td>\n",
       "      <td>I took 2 pills at the onset of my menstrual cr...</td>\n",
       "    </tr>\n",
       "    <tr>\n",
       "      <th>3</th>\n",
       "      <td>3947</td>\n",
       "      <td>prilosec</td>\n",
       "      <td>3</td>\n",
       "      <td>Marginally Effective</td>\n",
       "      <td>Mild Side Effects</td>\n",
       "      <td>acid reflux</td>\n",
       "      <td>The acid reflux went away for a few months aft...</td>\n",
       "      <td>Constipation, dry mouth and some mild dizzines...</td>\n",
       "      <td>I was given Prilosec prescription at a dose of...</td>\n",
       "    </tr>\n",
       "  </tbody>\n",
       "</table>\n",
       "</div>"
      ],
      "text/plain": [
       "   Unnamed: 0       urlDrugName  rating         effectiveness  \\\n",
       "0        2202         enalapril       4      Highly Effective   \n",
       "1        3117  ortho-tri-cyclen       1      Highly Effective   \n",
       "2        1146           ponstel      10      Highly Effective   \n",
       "3        3947          prilosec       3  Marginally Effective   \n",
       "\n",
       "           sideEffects                               condition  \\\n",
       "0    Mild Side Effects  management of congestive heart failure   \n",
       "1  Severe Side Effects                        birth prevention   \n",
       "2      No Side Effects                        menstrual cramps   \n",
       "3    Mild Side Effects                             acid reflux   \n",
       "\n",
       "                                      benefitsReview  \\\n",
       "0  slowed the progression of left ventricular dys...   \n",
       "1  Although this type of birth control has more c...   \n",
       "2  I was used to having cramps so badly that they...   \n",
       "3  The acid reflux went away for a few months aft...   \n",
       "\n",
       "                                   sideEffectsReview  \\\n",
       "0  cough, hypotension , proteinuria, impotence , ...   \n",
       "1  Heavy Cycle, Cramps, Hot Flashes, Fatigue, Lon...   \n",
       "2         Heavier bleeding and clotting than normal.   \n",
       "3  Constipation, dry mouth and some mild dizzines...   \n",
       "\n",
       "                                      commentsReview  \n",
       "0  monitor blood pressure , weight and asses for ...  \n",
       "1  I Hate This Birth Control, I Would Not Suggest...  \n",
       "2  I took 2 pills at the onset of my menstrual cr...  \n",
       "3  I was given Prilosec prescription at a dose of...  "
      ]
     },
     "execution_count": 5,
     "metadata": {},
     "output_type": "execute_result"
    }
   ],
   "source": [
    "d_text = pd.read_csv('drugLibTrain_raw.tsv', sep='\\t')\n",
    "print(len(d_text))\n",
    "d_text.head(4)"
   ]
  },
  {
   "cell_type": "markdown",
   "metadata": {},
   "source": [
    "### Text EDA"
   ]
  },
  {
   "cell_type": "code",
   "execution_count": 6,
   "metadata": {},
   "outputs": [
    {
     "data": {
      "text/plain": [
       "3107"
      ]
     },
     "execution_count": 6,
     "metadata": {},
     "output_type": "execute_result"
    }
   ],
   "source": [
    "len(d_text)"
   ]
  },
  {
   "cell_type": "code",
   "execution_count": 7,
   "metadata": {},
   "outputs": [
    {
     "data": {
      "text/html": [
       "<div>\n",
       "<style scoped>\n",
       "    .dataframe tbody tr th:only-of-type {\n",
       "        vertical-align: middle;\n",
       "    }\n",
       "\n",
       "    .dataframe tbody tr th {\n",
       "        vertical-align: top;\n",
       "    }\n",
       "\n",
       "    .dataframe thead th {\n",
       "        text-align: right;\n",
       "    }\n",
       "</style>\n",
       "<table border=\"1\" class=\"dataframe\">\n",
       "  <thead>\n",
       "    <tr style=\"text-align: right;\">\n",
       "      <th></th>\n",
       "      <th>Unnamed: 0</th>\n",
       "      <th>urlDrugName</th>\n",
       "      <th>rating</th>\n",
       "      <th>effectiveness</th>\n",
       "      <th>sideEffects</th>\n",
       "      <th>condition</th>\n",
       "      <th>benefitsReview</th>\n",
       "      <th>sideEffectsReview</th>\n",
       "      <th>commentsReview</th>\n",
       "    </tr>\n",
       "  </thead>\n",
       "  <tbody>\n",
       "    <tr>\n",
       "      <th>0</th>\n",
       "      <td>2202</td>\n",
       "      <td>enalapril</td>\n",
       "      <td>4</td>\n",
       "      <td>Highly Effective</td>\n",
       "      <td>Mild Side Effects</td>\n",
       "      <td>management of congestive heart failure</td>\n",
       "      <td>slowed the progression of left ventricular dys...</td>\n",
       "      <td>cough, hypotension , proteinuria, impotence , ...</td>\n",
       "      <td>monitor blood pressure , weight and asses for ...</td>\n",
       "    </tr>\n",
       "    <tr>\n",
       "      <th>1</th>\n",
       "      <td>3117</td>\n",
       "      <td>ortho-tri-cyclen</td>\n",
       "      <td>1</td>\n",
       "      <td>Highly Effective</td>\n",
       "      <td>Severe Side Effects</td>\n",
       "      <td>birth prevention</td>\n",
       "      <td>Although this type of birth control has more c...</td>\n",
       "      <td>Heavy Cycle, Cramps, Hot Flashes, Fatigue, Lon...</td>\n",
       "      <td>I Hate This Birth Control, I Would Not Suggest...</td>\n",
       "    </tr>\n",
       "    <tr>\n",
       "      <th>2</th>\n",
       "      <td>1146</td>\n",
       "      <td>ponstel</td>\n",
       "      <td>10</td>\n",
       "      <td>Highly Effective</td>\n",
       "      <td>No Side Effects</td>\n",
       "      <td>menstrual cramps</td>\n",
       "      <td>I was used to having cramps so badly that they...</td>\n",
       "      <td>Heavier bleeding and clotting than normal.</td>\n",
       "      <td>I took 2 pills at the onset of my menstrual cr...</td>\n",
       "    </tr>\n",
       "    <tr>\n",
       "      <th>3</th>\n",
       "      <td>3947</td>\n",
       "      <td>prilosec</td>\n",
       "      <td>3</td>\n",
       "      <td>Marginally Effective</td>\n",
       "      <td>Mild Side Effects</td>\n",
       "      <td>acid reflux</td>\n",
       "      <td>The acid reflux went away for a few months aft...</td>\n",
       "      <td>Constipation, dry mouth and some mild dizzines...</td>\n",
       "      <td>I was given Prilosec prescription at a dose of...</td>\n",
       "    </tr>\n",
       "  </tbody>\n",
       "</table>\n",
       "</div>"
      ],
      "text/plain": [
       "   Unnamed: 0       urlDrugName  rating         effectiveness  \\\n",
       "0        2202         enalapril       4      Highly Effective   \n",
       "1        3117  ortho-tri-cyclen       1      Highly Effective   \n",
       "2        1146           ponstel      10      Highly Effective   \n",
       "3        3947          prilosec       3  Marginally Effective   \n",
       "\n",
       "           sideEffects                               condition  \\\n",
       "0    Mild Side Effects  management of congestive heart failure   \n",
       "1  Severe Side Effects                        birth prevention   \n",
       "2      No Side Effects                        menstrual cramps   \n",
       "3    Mild Side Effects                             acid reflux   \n",
       "\n",
       "                                      benefitsReview  \\\n",
       "0  slowed the progression of left ventricular dys...   \n",
       "1  Although this type of birth control has more c...   \n",
       "2  I was used to having cramps so badly that they...   \n",
       "3  The acid reflux went away for a few months aft...   \n",
       "\n",
       "                                   sideEffectsReview  \\\n",
       "0  cough, hypotension , proteinuria, impotence , ...   \n",
       "1  Heavy Cycle, Cramps, Hot Flashes, Fatigue, Lon...   \n",
       "2         Heavier bleeding and clotting than normal.   \n",
       "3  Constipation, dry mouth and some mild dizzines...   \n",
       "\n",
       "                                      commentsReview  \n",
       "0  monitor blood pressure , weight and asses for ...  \n",
       "1  I Hate This Birth Control, I Would Not Suggest...  \n",
       "2  I took 2 pills at the onset of my menstrual cr...  \n",
       "3  I was given Prilosec prescription at a dose of...  "
      ]
     },
     "execution_count": 7,
     "metadata": {},
     "output_type": "execute_result"
    }
   ],
   "source": [
    "d_text.head(4)"
   ]
  },
  {
   "cell_type": "code",
   "execution_count": 8,
   "metadata": {},
   "outputs": [
    {
     "data": {
      "text/plain": [
       "Highly Effective          1330\n",
       "Considerably Effective     928\n",
       "Moderately Effective       415\n",
       "Ineffective                247\n",
       "Marginally Effective       187\n",
       "Name: effectiveness, dtype: int64"
      ]
     },
     "execution_count": 8,
     "metadata": {},
     "output_type": "execute_result"
    }
   ],
   "source": [
    "d_text['effectiveness'].value_counts()"
   ]
  },
  {
   "cell_type": "code",
   "execution_count": 9,
   "metadata": {},
   "outputs": [
    {
     "data": {
      "text/plain": [
       "Mild Side Effects                1019\n",
       "No Side Effects                   930\n",
       "Moderate Side Effects             614\n",
       "Severe Side Effects               369\n",
       "Extremely Severe Side Effects     175\n",
       "Name: sideEffects, dtype: int64"
      ]
     },
     "execution_count": 9,
     "metadata": {},
     "output_type": "execute_result"
    }
   ],
   "source": [
    "d_text['sideEffects'].value_counts()"
   ]
  },
  {
   "cell_type": "code",
   "execution_count": 10,
   "metadata": {},
   "outputs": [
    {
     "data": {
      "text/plain": [
       "10    742\n",
       "8     558\n",
       "9     480\n",
       "7     350\n",
       "1     305\n",
       "5     159\n",
       "6     157\n",
       "3     146\n",
       "4     107\n",
       "2     103\n",
       "Name: rating, dtype: int64"
      ]
     },
     "execution_count": 10,
     "metadata": {},
     "output_type": "execute_result"
    }
   ],
   "source": [
    "d_text['rating'].value_counts()"
   ]
  },
  {
   "cell_type": "code",
   "execution_count": 11,
   "metadata": {},
   "outputs": [
    {
     "data": {
      "text/plain": [
       "depression                                       236\n",
       "acne                                             165\n",
       "anxiety                                           63\n",
       "insomnia                                          54\n",
       "birth control                                     49\n",
       "                                                ... \n",
       "hypothyroid - hashimoto's disease                  1\n",
       "chronic back pain/depression/anxiety               1\n",
       "heavy periods                                      1\n",
       "rheumatoid arthritis joint pain, fibromyalgia      1\n",
       "migaine/tension headches                           1\n",
       "Name: condition, Length: 1426, dtype: int64"
      ]
     },
     "execution_count": 11,
     "metadata": {},
     "output_type": "execute_result"
    }
   ],
   "source": [
    "d_text['condition'].value_counts()"
   ]
  },
  {
   "cell_type": "code",
   "execution_count": 12,
   "metadata": {},
   "outputs": [
    {
     "data": {
      "text/plain": [
       "0       slowed the progression of left ventricular dys...\n",
       "1       Although this type of birth control has more c...\n",
       "2       I was used to having cramps so badly that they...\n",
       "3       The acid reflux went away for a few months aft...\n",
       "4       I think that the Lyrica was starting to help w...\n",
       "                              ...                        \n",
       "3102    Increased focus, attention, productivity. Bett...\n",
       "3103      Emotions were somewhat blunted. Less moodiness.\n",
       "3104                                                  ---\n",
       "3105                 Controlled complex partial seizures.\n",
       "3106    The drug Micardis did seem to alleviate my hig...\n",
       "Name: benefitsReview, Length: 3107, dtype: object"
      ]
     },
     "execution_count": 12,
     "metadata": {},
     "output_type": "execute_result"
    }
   ],
   "source": [
    "d_text['benefitsReview']"
   ]
  },
  {
   "cell_type": "code",
   "execution_count": 13,
   "metadata": {},
   "outputs": [
    {
     "data": {
      "text/plain": [
       "0       slowed the progression of left ventricular dys...\n",
       "1       Although this type of birth control has more c...\n",
       "2       I was used to having cramps so badly that they...\n",
       "3       The acid reflux went away for a few months aft...\n",
       "4       I think that the Lyrica was starting to help w...\n",
       "                              ...                        \n",
       "3102    Increased focus, attention, productivity. Bett...\n",
       "3103      Emotions were somewhat blunted. Less moodiness.\n",
       "3104                                                  ---\n",
       "3105                 Controlled complex partial seizures.\n",
       "3106    The drug Micardis did seem to alleviate my hig...\n",
       "Name: benefitsReview, Length: 3107, dtype: object"
      ]
     },
     "execution_count": 13,
     "metadata": {},
     "output_type": "execute_result"
    }
   ],
   "source": [
    "review = d_text['benefitsReview']\n",
    "review"
   ]
  },
  {
   "cell_type": "markdown",
   "metadata": {},
   "source": [
    "### Text Formatting"
   ]
  },
  {
   "cell_type": "markdown",
   "metadata": {},
   "source": [
    "#### Tokenizing"
   ]
  },
  {
   "cell_type": "markdown",
   "metadata": {},
   "source": [
    "Do this for each Review column"
   ]
  },
  {
   "cell_type": "code",
   "execution_count": 14,
   "metadata": {},
   "outputs": [
    {
     "data": {
      "text/plain": [
       "0    [slowed, the, progression, of, left, ventricul...\n",
       "1    [Although, this, type, of, birth, control, has...\n",
       "2    [I, was, used, to, having, cramps, so, badly, ...\n",
       "Name: benefitsReview, dtype: object"
      ]
     },
     "execution_count": 14,
     "metadata": {},
     "output_type": "execute_result"
    }
   ],
   "source": [
    "tokenized_review = review.apply(nltk.word_tokenize)\n",
    "tokenized_review.head(3)"
   ]
  },
  {
   "cell_type": "code",
   "execution_count": 15,
   "metadata": {},
   "outputs": [
    {
     "name": "stdout",
     "output_type": "stream",
     "text": [
      "0       [slowed, the, progression, of, left, ventricul...\n",
      "1       [Although, this, type, of, birth, control, has...\n",
      "2       [I, was, used, to, having, cramps, so, badly, ...\n",
      "3       [The, acid, reflux, went, away, for, a, few, m...\n",
      "4       [I, think, that, the, Lyrica, was, starting, t...\n",
      "                              ...                        \n",
      "3102    [Increased, focus, ,, attention, ,, productivi...\n",
      "3103    [Emotions, were, somewhat, blunted, ., Less, m...\n",
      "3104                                              [--, -]\n",
      "3105          [Controlled, complex, partial, seizures, .]\n",
      "3106    [The, drug, Micardis, did, seem, to, alleviate...\n",
      "Name: benefitsReview, Length: 3107, dtype: object\n"
     ]
    }
   ],
   "source": [
    "print(tokenized_review)"
   ]
  },
  {
   "cell_type": "code",
   "execution_count": 16,
   "metadata": {},
   "outputs": [],
   "source": [
    "total_words = []\n",
    "for sentence in tokenized_review:\n",
    "    for word in sentence:\n",
    "        total_words.append(word)"
   ]
  },
  {
   "cell_type": "code",
   "execution_count": 17,
   "metadata": {},
   "outputs": [
    {
     "name": "stdout",
     "output_type": "stream",
     "text": [
      "<FreqDist with 9540 samples and 126845 outcomes>\n"
     ]
    }
   ],
   "source": [
    "fdist = FreqDist(total_words)\n",
    "print(fdist)"
   ]
  },
  {
   "cell_type": "code",
   "execution_count": 18,
   "metadata": {},
   "outputs": [
    {
     "data": {
      "image/png": "[encoded data removed]",
      "text/plain": [
       "<Figure size 720x720 with 1 Axes>"
      ]
     },
     "metadata": {},
     "output_type": "display_data"
    },
    {
     "data": {
      "text/plain": [
       "<AxesSubplot:xlabel='Samples', ylabel='Counts'>"
      ]
     },
     "execution_count": 18,
     "metadata": {},
     "output_type": "execute_result"
    }
   ],
   "source": [
    "plt.figure(figsize=(10,10))\n",
    "fdist.plot(30)"
   ]
  },
  {
   "cell_type": "markdown",
   "metadata": {},
   "source": [
    "#### Removing Stop Words"
   ]
  },
  {
   "cell_type": "code",
   "execution_count": 19,
   "metadata": {},
   "outputs": [
    {
     "name": "stdout",
     "output_type": "stream",
     "text": [
      "{'their', 'theirs', 'd', 'in', 'we', 'he', 'been', 'i', \"you'll\", 'himself', 'themselves', 'there', 'his', \"you'd\", 'before', 'wasn', \"wasn't\", 'you', 'mightn', 'which', 'of', 'doing', 'didn', \"haven't\", 'how', 'any', 'during', 'weren', 'hadn', \"needn't\", 'if', 'other', \"mustn't\", \"you're\", 'above', 'doesn', 'shouldn', 'having', 'can', \"couldn't\", \"wouldn't\", 'to', 'when', 'whom', 'needn', 'were', 'she', 'yours', 'itself', 'not', 'yourself', \"hadn't\", 'hers', 'that', 'very', 'does', 'again', 'aren', \"mightn't\", 'couldn', 's', \"aren't\", \"she's\", 'and', 'more', 'won', 'had', 'into', 'between', 'what', 't', 'under', \"weren't\", 'through', 'it', 'on', 'isn', 'than', 'while', 'her', \"shan't\", 'for', 'after', 'then', 'over', 'ma', 'have', 'why', 'out', 'against', 'by', 'until', 'was', 'be', 'here', 've', 'yourselves', 'him', \"won't\", 'once', 'as', 'such', 'mustn', 'because', \"that'll\", 'don', 'some', 'same', 'or', 'm', 'is', 'ain', 'am', 'about', \"don't\", 'wouldn', 'our', 'just', 'own', 'most', 'its', 'ourselves', 'so', 'shan', 'me', 'has', 'will', \"hasn't\", 'only', 'with', 'but', 'this', 'at', 'they', 'further', 'herself', 'off', 'nor', 'should', 'these', 'a', 'down', \"you've\", 'ours', 'your', 'haven', \"doesn't\", 'y', 'where', 'who', \"shouldn't\", 'no', 'myself', 'did', 'the', 'them', 'both', 'an', 'too', 'are', 'from', \"it's\", 'o', 'those', \"should've\", 'being', 'my', 're', 'll', 'all', 'hasn', 'below', 'up', 'do', 'now', 'each', \"didn't\", 'few', \"isn't\"}\n"
     ]
    }
   ],
   "source": [
    "stop_words=set(stopwords.words(\"english\"))\n",
    "print(stop_words)"
   ]
  },
  {
   "cell_type": "code",
   "execution_count": 20,
   "metadata": {},
   "outputs": [
    {
     "name": "stdout",
     "output_type": "stream",
     "text": [
      "Filterd Words: ['slowed', 'progression', 'left', 'ventricular', 'dysfunction', 'overt', 'heart', 'failure', 'alone', 'agents', 'managment', 'hypertension', 'mangagement', 'congestive', 'heart', 'failur', 'Although', 'type', 'birth', 'control']\n"
     ]
    }
   ],
   "source": [
    "filtered_review=[]\n",
    "for w in total_words:\n",
    "    if w not in stop_words:\n",
    "        filtered_review.append(w)\n",
    "print(\"Filterd Words:\",filtered_review[:20])"
   ]
  },
  {
   "cell_type": "code",
   "execution_count": 21,
   "metadata": {},
   "outputs": [
    {
     "name": "stdout",
     "output_type": "stream",
     "text": [
      "126845\n",
      "82365\n"
     ]
    }
   ],
   "source": [
    "print(len(total_words))\n",
    "print(len(filtered_review))"
   ]
  },
  {
   "cell_type": "code",
   "execution_count": 22,
   "metadata": {},
   "outputs": [
    {
     "data": {
      "image/png": "[encoded data removed]",
      "text/plain": [
       "<Figure size 720x720 with 1 Axes>"
      ]
     },
     "metadata": {},
     "output_type": "display_data"
    },
    {
     "data": {
      "text/plain": [
       "<AxesSubplot:xlabel='Samples', ylabel='Counts'>"
      ]
     },
     "execution_count": 22,
     "metadata": {},
     "output_type": "execute_result"
    }
   ],
   "source": [
    "fdist = FreqDist(filtered_review)\n",
    "plt.figure(figsize=(10,10))\n",
    "fdist.plot(10)"
   ]
  },
  {
   "cell_type": "markdown",
   "metadata": {},
   "source": [
    "Why are words like The, It, -, (, ) appearing above?"
   ]
  },
  {
   "cell_type": "markdown",
   "metadata": {},
   "source": [
    "#### Stemming"
   ]
  },
  {
   "cell_type": "code",
   "execution_count": 23,
   "metadata": {},
   "outputs": [],
   "source": [
    "ps = PorterStemmer()\n",
    "\n",
    "stemmed_review=[]\n",
    "for w in filtered_review:\n",
    "    stemmed_review.append(ps.stem(w))\n",
    "\n",
    "# print(stemmed_review)"
   ]
  },
  {
   "cell_type": "code",
   "execution_count": 24,
   "metadata": {},
   "outputs": [
    {
     "data": {
      "image/png": "[encoded data removed]",
      "text/plain": [
       "<Figure size 432x288 with 1 Axes>"
      ]
     },
     "metadata": {},
     "output_type": "display_data"
    },
    {
     "data": {
      "text/plain": [
       "<AxesSubplot:xlabel='Samples', ylabel='Counts'>"
      ]
     },
     "execution_count": 24,
     "metadata": {},
     "output_type": "execute_result"
    }
   ],
   "source": [
    "fdist = FreqDist(stemmed_review)\n",
    "fdist.plot(30)"
   ]
  },
  {
   "cell_type": "markdown",
   "metadata": {},
   "source": [
    "#### Lemmatiziation"
   ]
  },
  {
   "cell_type": "code",
   "execution_count": 25,
   "metadata": {},
   "outputs": [],
   "source": [
    "lemmatizer = WordNetLemmatizer() "
   ]
  },
  {
   "cell_type": "code",
   "execution_count": 26,
   "metadata": {},
   "outputs": [
    {
     "name": "stdout",
     "output_type": "stream",
     "text": [
      "movies: movie\n",
      "collecting: collecting\n",
      "collection: collection\n",
      "collections: collection\n"
     ]
    }
   ],
   "source": [
    "print(\"movies:\", lemmatizer.lemmatize(\"movies\")) \n",
    "print(\"collecting:\", lemmatizer.lemmatize(\"collecting\")) \n",
    "print(\"collection:\", lemmatizer.lemmatize(\"collection\")) \n",
    "print(\"collections:\", lemmatizer.lemmatize(\"collections\")) "
   ]
  },
  {
   "cell_type": "code",
   "execution_count": 27,
   "metadata": {},
   "outputs": [
    {
     "name": "stdout",
     "output_type": "stream",
     "text": [
      "movies: movi\n",
      "collecting : collect\n"
     ]
    }
   ],
   "source": [
    "# comparing it with stemming \n",
    "print(\"movies:\", ps.stem(\"movies\")) \n",
    "print(\"collecting :\", ps.stem(\"collecting\")) "
   ]
  },
  {
   "cell_type": "code",
   "execution_count": 28,
   "metadata": {},
   "outputs": [],
   "source": [
    "# we can also lemmatize our original reviews\n",
    "lemmatized_review=[]\n",
    "for w in filtered_review:\n",
    "    lemmatized_review.append(lemmatizer.lemmatize(w))\n",
    "\n",
    "# print(lemmatized_review)"
   ]
  },
  {
   "cell_type": "markdown",
   "metadata": {},
   "source": [
    "### Feature Engineering for NLP"
   ]
  },
  {
   "cell_type": "markdown",
   "metadata": {},
   "source": [
    "#### Vectorizing"
   ]
  },
  {
   "cell_type": "code",
   "execution_count": 29,
   "metadata": {},
   "outputs": [
    {
     "data": {
      "text/html": [
       "<div>\n",
       "<style scoped>\n",
       "    .dataframe tbody tr th:only-of-type {\n",
       "        vertical-align: middle;\n",
       "    }\n",
       "\n",
       "    .dataframe tbody tr th {\n",
       "        vertical-align: top;\n",
       "    }\n",
       "\n",
       "    .dataframe thead th {\n",
       "        text-align: right;\n",
       "    }\n",
       "</style>\n",
       "<table border=\"1\" class=\"dataframe\">\n",
       "  <thead>\n",
       "    <tr style=\"text-align: right;\">\n",
       "      <th></th>\n",
       "      <th>00</th>\n",
       "      <th>000</th>\n",
       "      <th>02</th>\n",
       "      <th>05</th>\n",
       "      <th>09</th>\n",
       "      <th>10</th>\n",
       "      <th>100</th>\n",
       "      <th>1000</th>\n",
       "      <th>100mg</th>\n",
       "      <th>101</th>\n",
       "      <th>...</th>\n",
       "      <th>zone</th>\n",
       "      <th>zoning</th>\n",
       "      <th>zoster</th>\n",
       "      <th>zovirax</th>\n",
       "      <th>zpak</th>\n",
       "      <th>zyban</th>\n",
       "      <th>zydol</th>\n",
       "      <th>zyprexa</th>\n",
       "      <th>zyrtec</th>\n",
       "      <th>zyvox</th>\n",
       "    </tr>\n",
       "  </thead>\n",
       "  <tbody>\n",
       "    <tr>\n",
       "      <th>0</th>\n",
       "      <td>0</td>\n",
       "      <td>0</td>\n",
       "      <td>0</td>\n",
       "      <td>0</td>\n",
       "      <td>0</td>\n",
       "      <td>0</td>\n",
       "      <td>0</td>\n",
       "      <td>0</td>\n",
       "      <td>0</td>\n",
       "      <td>0</td>\n",
       "      <td>...</td>\n",
       "      <td>0</td>\n",
       "      <td>0</td>\n",
       "      <td>0</td>\n",
       "      <td>0</td>\n",
       "      <td>0</td>\n",
       "      <td>0</td>\n",
       "      <td>0</td>\n",
       "      <td>0</td>\n",
       "      <td>0</td>\n",
       "      <td>0</td>\n",
       "    </tr>\n",
       "    <tr>\n",
       "      <th>1</th>\n",
       "      <td>0</td>\n",
       "      <td>0</td>\n",
       "      <td>0</td>\n",
       "      <td>0</td>\n",
       "      <td>0</td>\n",
       "      <td>0</td>\n",
       "      <td>0</td>\n",
       "      <td>0</td>\n",
       "      <td>0</td>\n",
       "      <td>0</td>\n",
       "      <td>...</td>\n",
       "      <td>0</td>\n",
       "      <td>0</td>\n",
       "      <td>0</td>\n",
       "      <td>0</td>\n",
       "      <td>0</td>\n",
       "      <td>0</td>\n",
       "      <td>0</td>\n",
       "      <td>0</td>\n",
       "      <td>0</td>\n",
       "      <td>0</td>\n",
       "    </tr>\n",
       "    <tr>\n",
       "      <th>2</th>\n",
       "      <td>0</td>\n",
       "      <td>0</td>\n",
       "      <td>0</td>\n",
       "      <td>0</td>\n",
       "      <td>0</td>\n",
       "      <td>0</td>\n",
       "      <td>0</td>\n",
       "      <td>0</td>\n",
       "      <td>0</td>\n",
       "      <td>0</td>\n",
       "      <td>...</td>\n",
       "      <td>0</td>\n",
       "      <td>0</td>\n",
       "      <td>0</td>\n",
       "      <td>0</td>\n",
       "      <td>0</td>\n",
       "      <td>0</td>\n",
       "      <td>0</td>\n",
       "      <td>0</td>\n",
       "      <td>0</td>\n",
       "      <td>0</td>\n",
       "    </tr>\n",
       "    <tr>\n",
       "      <th>3</th>\n",
       "      <td>0</td>\n",
       "      <td>0</td>\n",
       "      <td>0</td>\n",
       "      <td>0</td>\n",
       "      <td>0</td>\n",
       "      <td>0</td>\n",
       "      <td>0</td>\n",
       "      <td>0</td>\n",
       "      <td>0</td>\n",
       "      <td>0</td>\n",
       "      <td>...</td>\n",
       "      <td>0</td>\n",
       "      <td>0</td>\n",
       "      <td>0</td>\n",
       "      <td>0</td>\n",
       "      <td>0</td>\n",
       "      <td>0</td>\n",
       "      <td>0</td>\n",
       "      <td>0</td>\n",
       "      <td>0</td>\n",
       "      <td>0</td>\n",
       "    </tr>\n",
       "    <tr>\n",
       "      <th>4</th>\n",
       "      <td>0</td>\n",
       "      <td>0</td>\n",
       "      <td>0</td>\n",
       "      <td>0</td>\n",
       "      <td>0</td>\n",
       "      <td>0</td>\n",
       "      <td>0</td>\n",
       "      <td>0</td>\n",
       "      <td>0</td>\n",
       "      <td>0</td>\n",
       "      <td>...</td>\n",
       "      <td>0</td>\n",
       "      <td>0</td>\n",
       "      <td>0</td>\n",
       "      <td>0</td>\n",
       "      <td>0</td>\n",
       "      <td>0</td>\n",
       "      <td>0</td>\n",
       "      <td>0</td>\n",
       "      <td>0</td>\n",
       "      <td>0</td>\n",
       "    </tr>\n",
       "    <tr>\n",
       "      <th>...</th>\n",
       "      <td>...</td>\n",
       "      <td>...</td>\n",
       "      <td>...</td>\n",
       "      <td>...</td>\n",
       "      <td>...</td>\n",
       "      <td>...</td>\n",
       "      <td>...</td>\n",
       "      <td>...</td>\n",
       "      <td>...</td>\n",
       "      <td>...</td>\n",
       "      <td>...</td>\n",
       "      <td>...</td>\n",
       "      <td>...</td>\n",
       "      <td>...</td>\n",
       "      <td>...</td>\n",
       "      <td>...</td>\n",
       "      <td>...</td>\n",
       "      <td>...</td>\n",
       "      <td>...</td>\n",
       "      <td>...</td>\n",
       "      <td>...</td>\n",
       "    </tr>\n",
       "    <tr>\n",
       "      <th>3102</th>\n",
       "      <td>0</td>\n",
       "      <td>0</td>\n",
       "      <td>0</td>\n",
       "      <td>0</td>\n",
       "      <td>0</td>\n",
       "      <td>0</td>\n",
       "      <td>0</td>\n",
       "      <td>0</td>\n",
       "      <td>0</td>\n",
       "      <td>0</td>\n",
       "      <td>...</td>\n",
       "      <td>0</td>\n",
       "      <td>0</td>\n",
       "      <td>0</td>\n",
       "      <td>0</td>\n",
       "      <td>0</td>\n",
       "      <td>0</td>\n",
       "      <td>0</td>\n",
       "      <td>0</td>\n",
       "      <td>0</td>\n",
       "      <td>0</td>\n",
       "    </tr>\n",
       "    <tr>\n",
       "      <th>3103</th>\n",
       "      <td>0</td>\n",
       "      <td>0</td>\n",
       "      <td>0</td>\n",
       "      <td>0</td>\n",
       "      <td>0</td>\n",
       "      <td>0</td>\n",
       "      <td>0</td>\n",
       "      <td>0</td>\n",
       "      <td>0</td>\n",
       "      <td>0</td>\n",
       "      <td>...</td>\n",
       "      <td>0</td>\n",
       "      <td>0</td>\n",
       "      <td>0</td>\n",
       "      <td>0</td>\n",
       "      <td>0</td>\n",
       "      <td>0</td>\n",
       "      <td>0</td>\n",
       "      <td>0</td>\n",
       "      <td>0</td>\n",
       "      <td>0</td>\n",
       "    </tr>\n",
       "    <tr>\n",
       "      <th>3104</th>\n",
       "      <td>0</td>\n",
       "      <td>0</td>\n",
       "      <td>0</td>\n",
       "      <td>0</td>\n",
       "      <td>0</td>\n",
       "      <td>0</td>\n",
       "      <td>0</td>\n",
       "      <td>0</td>\n",
       "      <td>0</td>\n",
       "      <td>0</td>\n",
       "      <td>...</td>\n",
       "      <td>0</td>\n",
       "      <td>0</td>\n",
       "      <td>0</td>\n",
       "      <td>0</td>\n",
       "      <td>0</td>\n",
       "      <td>0</td>\n",
       "      <td>0</td>\n",
       "      <td>0</td>\n",
       "      <td>0</td>\n",
       "      <td>0</td>\n",
       "    </tr>\n",
       "    <tr>\n",
       "      <th>3105</th>\n",
       "      <td>0</td>\n",
       "      <td>0</td>\n",
       "      <td>0</td>\n",
       "      <td>0</td>\n",
       "      <td>0</td>\n",
       "      <td>0</td>\n",
       "      <td>0</td>\n",
       "      <td>0</td>\n",
       "      <td>0</td>\n",
       "      <td>0</td>\n",
       "      <td>...</td>\n",
       "      <td>0</td>\n",
       "      <td>0</td>\n",
       "      <td>0</td>\n",
       "      <td>0</td>\n",
       "      <td>0</td>\n",
       "      <td>0</td>\n",
       "      <td>0</td>\n",
       "      <td>0</td>\n",
       "      <td>0</td>\n",
       "      <td>0</td>\n",
       "    </tr>\n",
       "    <tr>\n",
       "      <th>3106</th>\n",
       "      <td>0</td>\n",
       "      <td>0</td>\n",
       "      <td>0</td>\n",
       "      <td>0</td>\n",
       "      <td>0</td>\n",
       "      <td>0</td>\n",
       "      <td>0</td>\n",
       "      <td>0</td>\n",
       "      <td>0</td>\n",
       "      <td>0</td>\n",
       "      <td>...</td>\n",
       "      <td>0</td>\n",
       "      <td>0</td>\n",
       "      <td>0</td>\n",
       "      <td>0</td>\n",
       "      <td>0</td>\n",
       "      <td>0</td>\n",
       "      <td>0</td>\n",
       "      <td>0</td>\n",
       "      <td>0</td>\n",
       "      <td>0</td>\n",
       "    </tr>\n",
       "  </tbody>\n",
       "</table>\n",
       "<p>3107 rows × 7664 columns</p>\n",
       "</div>"
      ],
      "text/plain": [
       "      00  000  02  05  09  10  100  1000  100mg  101  ...  zone  zoning  \\\n",
       "0      0    0   0   0   0   0    0     0      0    0  ...     0       0   \n",
       "1      0    0   0   0   0   0    0     0      0    0  ...     0       0   \n",
       "2      0    0   0   0   0   0    0     0      0    0  ...     0       0   \n",
       "3      0    0   0   0   0   0    0     0      0    0  ...     0       0   \n",
       "4      0    0   0   0   0   0    0     0      0    0  ...     0       0   \n",
       "...   ..  ...  ..  ..  ..  ..  ...   ...    ...  ...  ...   ...     ...   \n",
       "3102   0    0   0   0   0   0    0     0      0    0  ...     0       0   \n",
       "3103   0    0   0   0   0   0    0     0      0    0  ...     0       0   \n",
       "3104   0    0   0   0   0   0    0     0      0    0  ...     0       0   \n",
       "3105   0    0   0   0   0   0    0     0      0    0  ...     0       0   \n",
       "3106   0    0   0   0   0   0    0     0      0    0  ...     0       0   \n",
       "\n",
       "      zoster  zovirax  zpak  zyban  zydol  zyprexa  zyrtec  zyvox  \n",
       "0          0        0     0      0      0        0       0      0  \n",
       "1          0        0     0      0      0        0       0      0  \n",
       "2          0        0     0      0      0        0       0      0  \n",
       "3          0        0     0      0      0        0       0      0  \n",
       "4          0        0     0      0      0        0       0      0  \n",
       "...      ...      ...   ...    ...    ...      ...     ...    ...  \n",
       "3102       0        0     0      0      0        0       0      0  \n",
       "3103       0        0     0      0      0        0       0      0  \n",
       "3104       0        0     0      0      0        0       0      0  \n",
       "3105       0        0     0      0      0        0       0      0  \n",
       "3106       0        0     0      0      0        0       0      0  \n",
       "\n",
       "[3107 rows x 7664 columns]"
      ]
     },
     "execution_count": 29,
     "metadata": {},
     "output_type": "execute_result"
    }
   ],
   "source": [
    "# Convert a collection of text documents to a matrix of token counts\n",
    "docs = review\n",
    "vec = CountVectorizer(stop_words=None)\n",
    "X = vec.fit_transform(docs)\n",
    "\n",
    "df = pd.DataFrame(X.toarray(), columns = vec.get_feature_names())\n",
    "df"
   ]
  },
  {
   "cell_type": "code",
   "execution_count": 30,
   "metadata": {},
   "outputs": [
    {
     "data": {
      "text/plain": [
       "0       slowed the progression of left ventricular dys...\n",
       "1       Although this type of birth control has more c...\n",
       "2       I was used to having cramps so badly that they...\n",
       "3       The acid reflux went away for a few months aft...\n",
       "4       I think that the Lyrica was starting to help w...\n",
       "                              ...                        \n",
       "3102    Increased focus, attention, productivity. Bett...\n",
       "3103      Emotions were somewhat blunted. Less moodiness.\n",
       "3104                                                  ---\n",
       "3105                 Controlled complex partial seizures.\n",
       "3106    The drug Micardis did seem to alleviate my hig...\n",
       "Name: benefitsReview, Length: 3107, dtype: object"
      ]
     },
     "execution_count": 30,
     "metadata": {},
     "output_type": "execute_result"
    }
   ],
   "source": [
    "review"
   ]
  },
  {
   "cell_type": "code",
   "execution_count": 31,
   "metadata": {},
   "outputs": [],
   "source": [
    "# vec.get_feature_names()"
   ]
  },
  {
   "cell_type": "markdown",
   "metadata": {},
   "source": [
    "#### TF-IDF"
   ]
  },
  {
   "cell_type": "code",
   "execution_count": 32,
   "metadata": {},
   "outputs": [],
   "source": [
    "# term frequency-inverse document frequency \n",
    "# Essentially, tf-idf normalizes the raw count of the document term matrix \n",
    "# And it represents how important a word is in the given document"
   ]
  },
  {
   "cell_type": "code",
   "execution_count": 33,
   "metadata": {},
   "outputs": [],
   "source": [
    "# using count vectorizer\n",
    "token = RegexpTokenizer(r'[a-zA-Z0-9]+')\n",
    "cv = CountVectorizer(lowercase=True,stop_words='english',ngram_range = (1,1),tokenizer = token.tokenize)\n",
    "text_counts= cv.fit_transform(review)"
   ]
  },
  {
   "cell_type": "code",
   "execution_count": 34,
   "metadata": {},
   "outputs": [
    {
     "data": {
      "text/plain": [
       "scipy.sparse.csr.csr_matrix"
      ]
     },
     "execution_count": 34,
     "metadata": {},
     "output_type": "execute_result"
    }
   ],
   "source": [
    "type(text_counts)"
   ]
  },
  {
   "cell_type": "code",
   "execution_count": 35,
   "metadata": {},
   "outputs": [
    {
     "data": {
      "text/html": [
       "<div>\n",
       "<style scoped>\n",
       "    .dataframe tbody tr th:only-of-type {\n",
       "        vertical-align: middle;\n",
       "    }\n",
       "\n",
       "    .dataframe tbody tr th {\n",
       "        vertical-align: top;\n",
       "    }\n",
       "\n",
       "    .dataframe thead th {\n",
       "        text-align: right;\n",
       "    }\n",
       "</style>\n",
       "<table border=\"1\" class=\"dataframe\">\n",
       "  <thead>\n",
       "    <tr style=\"text-align: right;\">\n",
       "      <th></th>\n",
       "      <th>0</th>\n",
       "    </tr>\n",
       "  </thead>\n",
       "  <tbody>\n",
       "    <tr>\n",
       "      <th>0</th>\n",
       "      <td>(0, 6017)\\t1\\n  (0, 5108)\\t1\\n  (0, 3769)\\t1...</td>\n",
       "    </tr>\n",
       "    <tr>\n",
       "      <th>1</th>\n",
       "      <td>(0, 6895)\\t1\\n  (0, 912)\\t1\\n  (0, 1568)\\t1\\...</td>\n",
       "    </tr>\n",
       "    <tr>\n",
       "      <th>2</th>\n",
       "      <td>(0, 1651)\\t1\\n  (0, 7030)\\t1\\n  (0, 3068)\\t1...</td>\n",
       "    </tr>\n",
       "    <tr>\n",
       "      <th>3</th>\n",
       "      <td>(0, 1942)\\t1\\n  (0, 1763)\\t1\\n  (0, 6529)\\t2...</td>\n",
       "    </tr>\n",
       "    <tr>\n",
       "      <th>4</th>\n",
       "      <td>(0, 3108)\\t1\\n  (0, 4680)\\t1\\n  (0, 3644)\\t1...</td>\n",
       "    </tr>\n",
       "    <tr>\n",
       "      <th>...</th>\n",
       "      <td>...</td>\n",
       "    </tr>\n",
       "    <tr>\n",
       "      <th>3102</th>\n",
       "      <td>(0, 2237)\\t1\\n  (0, 5867)\\t1\\n  (0, 4250)\\t1...</td>\n",
       "    </tr>\n",
       "    <tr>\n",
       "      <th>3103</th>\n",
       "      <td>(0, 6089)\\t1\\n  (0, 2283)\\t1\\n  (0, 4251)\\t1...</td>\n",
       "    </tr>\n",
       "    <tr>\n",
       "      <th>3104</th>\n",
       "      <td></td>\n",
       "    </tr>\n",
       "    <tr>\n",
       "      <th>3105</th>\n",
       "      <td>(0, 1574)\\t1\\n  (0, 5820)\\t1\\n  (0, 4724)\\t1...</td>\n",
       "    </tr>\n",
       "    <tr>\n",
       "      <th>3106</th>\n",
       "      <td>(0, 1942)\\t1\\n  (0, 1812)\\t1\\n  (0, 2164)\\t1...</td>\n",
       "    </tr>\n",
       "  </tbody>\n",
       "</table>\n",
       "<p>3107 rows × 1 columns</p>\n",
       "</div>"
      ],
      "text/plain": [
       "                                                      0\n",
       "0       (0, 6017)\\t1\\n  (0, 5108)\\t1\\n  (0, 3769)\\t1...\n",
       "1       (0, 6895)\\t1\\n  (0, 912)\\t1\\n  (0, 1568)\\t1\\...\n",
       "2       (0, 1651)\\t1\\n  (0, 7030)\\t1\\n  (0, 3068)\\t1...\n",
       "3       (0, 1942)\\t1\\n  (0, 1763)\\t1\\n  (0, 6529)\\t2...\n",
       "4       (0, 3108)\\t1\\n  (0, 4680)\\t1\\n  (0, 3644)\\t1...\n",
       "...                                                 ...\n",
       "3102    (0, 2237)\\t1\\n  (0, 5867)\\t1\\n  (0, 4250)\\t1...\n",
       "3103    (0, 6089)\\t1\\n  (0, 2283)\\t1\\n  (0, 4251)\\t1...\n",
       "3104                                                   \n",
       "3105    (0, 1574)\\t1\\n  (0, 5820)\\t1\\n  (0, 4724)\\t1...\n",
       "3106    (0, 1942)\\t1\\n  (0, 1812)\\t1\\n  (0, 2164)\\t1...\n",
       "\n",
       "[3107 rows x 1 columns]"
      ]
     },
     "execution_count": 35,
     "metadata": {},
     "output_type": "execute_result"
    }
   ],
   "source": [
    "pd.DataFrame(text_counts)"
   ]
  },
  {
   "cell_type": "code",
   "execution_count": 36,
   "metadata": {},
   "outputs": [
    {
     "data": {
      "text/html": [
       "<div>\n",
       "<style scoped>\n",
       "    .dataframe tbody tr th:only-of-type {\n",
       "        vertical-align: middle;\n",
       "    }\n",
       "\n",
       "    .dataframe tbody tr th {\n",
       "        vertical-align: top;\n",
       "    }\n",
       "\n",
       "    .dataframe thead th {\n",
       "        text-align: right;\n",
       "    }\n",
       "</style>\n",
       "<table border=\"1\" class=\"dataframe\">\n",
       "  <thead>\n",
       "    <tr style=\"text-align: right;\">\n",
       "      <th></th>\n",
       "      <th>0</th>\n",
       "      <th>00</th>\n",
       "      <th>000</th>\n",
       "      <th>02</th>\n",
       "      <th>05</th>\n",
       "      <th>09</th>\n",
       "      <th>1</th>\n",
       "      <th>10</th>\n",
       "      <th>100</th>\n",
       "      <th>1000</th>\n",
       "      <th>...</th>\n",
       "      <th>zone</th>\n",
       "      <th>zoning</th>\n",
       "      <th>zoster</th>\n",
       "      <th>zovirax</th>\n",
       "      <th>zpak</th>\n",
       "      <th>zyban</th>\n",
       "      <th>zydol</th>\n",
       "      <th>zyprexa</th>\n",
       "      <th>zyrtec</th>\n",
       "      <th>zyvox</th>\n",
       "    </tr>\n",
       "  </thead>\n",
       "  <tbody>\n",
       "    <tr>\n",
       "      <th>0</th>\n",
       "      <td>0</td>\n",
       "      <td>0</td>\n",
       "      <td>0</td>\n",
       "      <td>0</td>\n",
       "      <td>0</td>\n",
       "      <td>0</td>\n",
       "      <td>0</td>\n",
       "      <td>0</td>\n",
       "      <td>0</td>\n",
       "      <td>0</td>\n",
       "      <td>...</td>\n",
       "      <td>0</td>\n",
       "      <td>0</td>\n",
       "      <td>0</td>\n",
       "      <td>0</td>\n",
       "      <td>0</td>\n",
       "      <td>0</td>\n",
       "      <td>0</td>\n",
       "      <td>0</td>\n",
       "      <td>0</td>\n",
       "      <td>0</td>\n",
       "    </tr>\n",
       "    <tr>\n",
       "      <th>1</th>\n",
       "      <td>0</td>\n",
       "      <td>0</td>\n",
       "      <td>0</td>\n",
       "      <td>0</td>\n",
       "      <td>0</td>\n",
       "      <td>0</td>\n",
       "      <td>0</td>\n",
       "      <td>0</td>\n",
       "      <td>0</td>\n",
       "      <td>0</td>\n",
       "      <td>...</td>\n",
       "      <td>0</td>\n",
       "      <td>0</td>\n",
       "      <td>0</td>\n",
       "      <td>0</td>\n",
       "      <td>0</td>\n",
       "      <td>0</td>\n",
       "      <td>0</td>\n",
       "      <td>0</td>\n",
       "      <td>0</td>\n",
       "      <td>0</td>\n",
       "    </tr>\n",
       "    <tr>\n",
       "      <th>2</th>\n",
       "      <td>0</td>\n",
       "      <td>0</td>\n",
       "      <td>0</td>\n",
       "      <td>0</td>\n",
       "      <td>0</td>\n",
       "      <td>0</td>\n",
       "      <td>0</td>\n",
       "      <td>0</td>\n",
       "      <td>0</td>\n",
       "      <td>0</td>\n",
       "      <td>...</td>\n",
       "      <td>0</td>\n",
       "      <td>0</td>\n",
       "      <td>0</td>\n",
       "      <td>0</td>\n",
       "      <td>0</td>\n",
       "      <td>0</td>\n",
       "      <td>0</td>\n",
       "      <td>0</td>\n",
       "      <td>0</td>\n",
       "      <td>0</td>\n",
       "    </tr>\n",
       "    <tr>\n",
       "      <th>3</th>\n",
       "      <td>0</td>\n",
       "      <td>0</td>\n",
       "      <td>0</td>\n",
       "      <td>0</td>\n",
       "      <td>0</td>\n",
       "      <td>0</td>\n",
       "      <td>0</td>\n",
       "      <td>0</td>\n",
       "      <td>0</td>\n",
       "      <td>0</td>\n",
       "      <td>...</td>\n",
       "      <td>0</td>\n",
       "      <td>0</td>\n",
       "      <td>0</td>\n",
       "      <td>0</td>\n",
       "      <td>0</td>\n",
       "      <td>0</td>\n",
       "      <td>0</td>\n",
       "      <td>0</td>\n",
       "      <td>0</td>\n",
       "      <td>0</td>\n",
       "    </tr>\n",
       "    <tr>\n",
       "      <th>4</th>\n",
       "      <td>0</td>\n",
       "      <td>0</td>\n",
       "      <td>0</td>\n",
       "      <td>0</td>\n",
       "      <td>0</td>\n",
       "      <td>0</td>\n",
       "      <td>0</td>\n",
       "      <td>0</td>\n",
       "      <td>0</td>\n",
       "      <td>0</td>\n",
       "      <td>...</td>\n",
       "      <td>0</td>\n",
       "      <td>0</td>\n",
       "      <td>0</td>\n",
       "      <td>0</td>\n",
       "      <td>0</td>\n",
       "      <td>0</td>\n",
       "      <td>0</td>\n",
       "      <td>0</td>\n",
       "      <td>0</td>\n",
       "      <td>0</td>\n",
       "    </tr>\n",
       "    <tr>\n",
       "      <th>...</th>\n",
       "      <td>...</td>\n",
       "      <td>...</td>\n",
       "      <td>...</td>\n",
       "      <td>...</td>\n",
       "      <td>...</td>\n",
       "      <td>...</td>\n",
       "      <td>...</td>\n",
       "      <td>...</td>\n",
       "      <td>...</td>\n",
       "      <td>...</td>\n",
       "      <td>...</td>\n",
       "      <td>...</td>\n",
       "      <td>...</td>\n",
       "      <td>...</td>\n",
       "      <td>...</td>\n",
       "      <td>...</td>\n",
       "      <td>...</td>\n",
       "      <td>...</td>\n",
       "      <td>...</td>\n",
       "      <td>...</td>\n",
       "      <td>...</td>\n",
       "    </tr>\n",
       "    <tr>\n",
       "      <th>3102</th>\n",
       "      <td>0</td>\n",
       "      <td>0</td>\n",
       "      <td>0</td>\n",
       "      <td>0</td>\n",
       "      <td>0</td>\n",
       "      <td>0</td>\n",
       "      <td>0</td>\n",
       "      <td>0</td>\n",
       "      <td>0</td>\n",
       "      <td>0</td>\n",
       "      <td>...</td>\n",
       "      <td>0</td>\n",
       "      <td>0</td>\n",
       "      <td>0</td>\n",
       "      <td>0</td>\n",
       "      <td>0</td>\n",
       "      <td>0</td>\n",
       "      <td>0</td>\n",
       "      <td>0</td>\n",
       "      <td>0</td>\n",
       "      <td>0</td>\n",
       "    </tr>\n",
       "    <tr>\n",
       "      <th>3103</th>\n",
       "      <td>0</td>\n",
       "      <td>0</td>\n",
       "      <td>0</td>\n",
       "      <td>0</td>\n",
       "      <td>0</td>\n",
       "      <td>0</td>\n",
       "      <td>0</td>\n",
       "      <td>0</td>\n",
       "      <td>0</td>\n",
       "      <td>0</td>\n",
       "      <td>...</td>\n",
       "      <td>0</td>\n",
       "      <td>0</td>\n",
       "      <td>0</td>\n",
       "      <td>0</td>\n",
       "      <td>0</td>\n",
       "      <td>0</td>\n",
       "      <td>0</td>\n",
       "      <td>0</td>\n",
       "      <td>0</td>\n",
       "      <td>0</td>\n",
       "    </tr>\n",
       "    <tr>\n",
       "      <th>3104</th>\n",
       "      <td>0</td>\n",
       "      <td>0</td>\n",
       "      <td>0</td>\n",
       "      <td>0</td>\n",
       "      <td>0</td>\n",
       "      <td>0</td>\n",
       "      <td>0</td>\n",
       "      <td>0</td>\n",
       "      <td>0</td>\n",
       "      <td>0</td>\n",
       "      <td>...</td>\n",
       "      <td>0</td>\n",
       "      <td>0</td>\n",
       "      <td>0</td>\n",
       "      <td>0</td>\n",
       "      <td>0</td>\n",
       "      <td>0</td>\n",
       "      <td>0</td>\n",
       "      <td>0</td>\n",
       "      <td>0</td>\n",
       "      <td>0</td>\n",
       "    </tr>\n",
       "    <tr>\n",
       "      <th>3105</th>\n",
       "      <td>0</td>\n",
       "      <td>0</td>\n",
       "      <td>0</td>\n",
       "      <td>0</td>\n",
       "      <td>0</td>\n",
       "      <td>0</td>\n",
       "      <td>0</td>\n",
       "      <td>0</td>\n",
       "      <td>0</td>\n",
       "      <td>0</td>\n",
       "      <td>...</td>\n",
       "      <td>0</td>\n",
       "      <td>0</td>\n",
       "      <td>0</td>\n",
       "      <td>0</td>\n",
       "      <td>0</td>\n",
       "      <td>0</td>\n",
       "      <td>0</td>\n",
       "      <td>0</td>\n",
       "      <td>0</td>\n",
       "      <td>0</td>\n",
       "    </tr>\n",
       "    <tr>\n",
       "      <th>3106</th>\n",
       "      <td>0</td>\n",
       "      <td>0</td>\n",
       "      <td>0</td>\n",
       "      <td>0</td>\n",
       "      <td>0</td>\n",
       "      <td>0</td>\n",
       "      <td>0</td>\n",
       "      <td>0</td>\n",
       "      <td>0</td>\n",
       "      <td>0</td>\n",
       "      <td>...</td>\n",
       "      <td>0</td>\n",
       "      <td>0</td>\n",
       "      <td>0</td>\n",
       "      <td>0</td>\n",
       "      <td>0</td>\n",
       "      <td>0</td>\n",
       "      <td>0</td>\n",
       "      <td>0</td>\n",
       "      <td>0</td>\n",
       "      <td>0</td>\n",
       "    </tr>\n",
       "  </tbody>\n",
       "</table>\n",
       "<p>3107 rows × 7421 columns</p>\n",
       "</div>"
      ],
      "text/plain": [
       "      0  00  000  02  05  09  1  10  100  1000  ...  zone  zoning  zoster  \\\n",
       "0     0   0    0   0   0   0  0   0    0     0  ...     0       0       0   \n",
       "1     0   0    0   0   0   0  0   0    0     0  ...     0       0       0   \n",
       "2     0   0    0   0   0   0  0   0    0     0  ...     0       0       0   \n",
       "3     0   0    0   0   0   0  0   0    0     0  ...     0       0       0   \n",
       "4     0   0    0   0   0   0  0   0    0     0  ...     0       0       0   \n",
       "...  ..  ..  ...  ..  ..  .. ..  ..  ...   ...  ...   ...     ...     ...   \n",
       "3102  0   0    0   0   0   0  0   0    0     0  ...     0       0       0   \n",
       "3103  0   0    0   0   0   0  0   0    0     0  ...     0       0       0   \n",
       "3104  0   0    0   0   0   0  0   0    0     0  ...     0       0       0   \n",
       "3105  0   0    0   0   0   0  0   0    0     0  ...     0       0       0   \n",
       "3106  0   0    0   0   0   0  0   0    0     0  ...     0       0       0   \n",
       "\n",
       "      zovirax  zpak  zyban  zydol  zyprexa  zyrtec  zyvox  \n",
       "0           0     0      0      0        0       0      0  \n",
       "1           0     0      0      0        0       0      0  \n",
       "2           0     0      0      0        0       0      0  \n",
       "3           0     0      0      0        0       0      0  \n",
       "4           0     0      0      0        0       0      0  \n",
       "...       ...   ...    ...    ...      ...     ...    ...  \n",
       "3102        0     0      0      0        0       0      0  \n",
       "3103        0     0      0      0        0       0      0  \n",
       "3104        0     0      0      0        0       0      0  \n",
       "3105        0     0      0      0        0       0      0  \n",
       "3106        0     0      0      0        0       0      0  \n",
       "\n",
       "[3107 rows x 7421 columns]"
      ]
     },
     "execution_count": 36,
     "metadata": {},
     "output_type": "execute_result"
    }
   ],
   "source": [
    "df = pd.DataFrame(text_counts.todense(),columns = cv.get_feature_names())\n",
    "df"
   ]
  },
  {
   "cell_type": "code",
   "execution_count": 37,
   "metadata": {},
   "outputs": [
    {
     "data": {
      "text/plain": [
       "Index(['0', '00', '000', '02', '05', '09', '1', '10', '100', '1000',\n",
       "       ...\n",
       "       'zone', 'zoning', 'zoster', 'zovirax', 'zpak', 'zyban', 'zydol',\n",
       "       'zyprexa', 'zyrtec', 'zyvox'],\n",
       "      dtype='object', length=7421)"
      ]
     },
     "execution_count": 37,
     "metadata": {},
     "output_type": "execute_result"
    }
   ],
   "source": [
    "df.columns"
   ]
  },
  {
   "cell_type": "code",
   "execution_count": 38,
   "metadata": {},
   "outputs": [],
   "source": [
    "# using tfidf vectorizer instead"
   ]
  },
  {
   "cell_type": "code",
   "execution_count": 39,
   "metadata": {},
   "outputs": [
    {
     "data": {
      "text/plain": [
       "array([0.26653355, 0.24440442, 0.26653355, ..., 0.09047276, 0.07477417,\n",
       "       0.07082331])"
      ]
     },
     "execution_count": 39,
     "metadata": {},
     "output_type": "execute_result"
    }
   ],
   "source": [
    "tf=TfidfVectorizer()\n",
    "text_tf= tf.fit_transform(review)\n",
    "text_tf.data"
   ]
  },
  {
   "cell_type": "code",
   "execution_count": 40,
   "metadata": {},
   "outputs": [
    {
     "name": "stdout",
     "output_type": "stream",
     "text": [
      "<class 'scipy.sparse.csr.csr_matrix'>\n",
      "<class 'numpy.ndarray'>\n"
     ]
    }
   ],
   "source": [
    "# examine what type of object text_tf is\n",
    "print(type(text_tf))\n",
    "print(type(text_tf.data))"
   ]
  },
  {
   "cell_type": "code",
   "execution_count": 41,
   "metadata": {},
   "outputs": [],
   "source": [
    "def fn_tdm_df(docs, xColNames = None, **kwargs):\n",
    "    ''' create a term document matrix as pandas DataFrame\n",
    "    with **kwargs you can pass arguments of CountVectorizer\n",
    "    if xColNames is given the dataframe gets columns Names'''\n",
    "\n",
    "    #initialize the  vectorizer\n",
    "    vectorizer = CountVectorizer(**kwargs)\n",
    "    x1 = vectorizer.fit_transform(docs)\n",
    "    #create dataFrame\n",
    "    df = pd.DataFrame(x1.toarray().transpose(), index = vectorizer.get_feature_names())\n",
    "\n",
    "    if xColNames is not None:\n",
    "        df.columns = xColNames\n",
    "\n",
    "    return df\n",
    "\n"
   ]
  },
  {
   "cell_type": "code",
   "execution_count": 42,
   "metadata": {},
   "outputs": [
    {
     "data": {
      "text/html": [
       "<div>\n",
       "<style scoped>\n",
       "    .dataframe tbody tr th:only-of-type {\n",
       "        vertical-align: middle;\n",
       "    }\n",
       "\n",
       "    .dataframe tbody tr th {\n",
       "        vertical-align: top;\n",
       "    }\n",
       "\n",
       "    .dataframe thead th {\n",
       "        text-align: right;\n",
       "    }\n",
       "</style>\n",
       "<table border=\"1\" class=\"dataframe\">\n",
       "  <thead>\n",
       "    <tr style=\"text-align: right;\">\n",
       "      <th></th>\n",
       "      <th>00</th>\n",
       "      <th>000</th>\n",
       "      <th>02</th>\n",
       "      <th>05</th>\n",
       "      <th>09</th>\n",
       "      <th>10</th>\n",
       "      <th>100</th>\n",
       "      <th>1000</th>\n",
       "      <th>100mg</th>\n",
       "      <th>101</th>\n",
       "      <th>...</th>\n",
       "      <th>zone</th>\n",
       "      <th>zoning</th>\n",
       "      <th>zoster</th>\n",
       "      <th>zovirax</th>\n",
       "      <th>zpak</th>\n",
       "      <th>zyban</th>\n",
       "      <th>zydol</th>\n",
       "      <th>zyprexa</th>\n",
       "      <th>zyrtec</th>\n",
       "      <th>zyvox</th>\n",
       "    </tr>\n",
       "  </thead>\n",
       "  <tbody>\n",
       "    <tr>\n",
       "      <th>0</th>\n",
       "      <td>0</td>\n",
       "      <td>0</td>\n",
       "      <td>0</td>\n",
       "      <td>0</td>\n",
       "      <td>0</td>\n",
       "      <td>0</td>\n",
       "      <td>0</td>\n",
       "      <td>0</td>\n",
       "      <td>0</td>\n",
       "      <td>0</td>\n",
       "      <td>...</td>\n",
       "      <td>0</td>\n",
       "      <td>0</td>\n",
       "      <td>0</td>\n",
       "      <td>0</td>\n",
       "      <td>0</td>\n",
       "      <td>0</td>\n",
       "      <td>0</td>\n",
       "      <td>0</td>\n",
       "      <td>0</td>\n",
       "      <td>0</td>\n",
       "    </tr>\n",
       "    <tr>\n",
       "      <th>1</th>\n",
       "      <td>0</td>\n",
       "      <td>0</td>\n",
       "      <td>0</td>\n",
       "      <td>0</td>\n",
       "      <td>0</td>\n",
       "      <td>0</td>\n",
       "      <td>0</td>\n",
       "      <td>0</td>\n",
       "      <td>0</td>\n",
       "      <td>0</td>\n",
       "      <td>...</td>\n",
       "      <td>0</td>\n",
       "      <td>0</td>\n",
       "      <td>0</td>\n",
       "      <td>0</td>\n",
       "      <td>0</td>\n",
       "      <td>0</td>\n",
       "      <td>0</td>\n",
       "      <td>0</td>\n",
       "      <td>0</td>\n",
       "      <td>0</td>\n",
       "    </tr>\n",
       "    <tr>\n",
       "      <th>2</th>\n",
       "      <td>0</td>\n",
       "      <td>0</td>\n",
       "      <td>0</td>\n",
       "      <td>0</td>\n",
       "      <td>0</td>\n",
       "      <td>0</td>\n",
       "      <td>0</td>\n",
       "      <td>0</td>\n",
       "      <td>0</td>\n",
       "      <td>0</td>\n",
       "      <td>...</td>\n",
       "      <td>0</td>\n",
       "      <td>0</td>\n",
       "      <td>0</td>\n",
       "      <td>0</td>\n",
       "      <td>0</td>\n",
       "      <td>0</td>\n",
       "      <td>0</td>\n",
       "      <td>0</td>\n",
       "      <td>0</td>\n",
       "      <td>0</td>\n",
       "    </tr>\n",
       "    <tr>\n",
       "      <th>3</th>\n",
       "      <td>0</td>\n",
       "      <td>0</td>\n",
       "      <td>0</td>\n",
       "      <td>0</td>\n",
       "      <td>0</td>\n",
       "      <td>0</td>\n",
       "      <td>0</td>\n",
       "      <td>0</td>\n",
       "      <td>0</td>\n",
       "      <td>0</td>\n",
       "      <td>...</td>\n",
       "      <td>0</td>\n",
       "      <td>0</td>\n",
       "      <td>0</td>\n",
       "      <td>0</td>\n",
       "      <td>0</td>\n",
       "      <td>0</td>\n",
       "      <td>0</td>\n",
       "      <td>0</td>\n",
       "      <td>0</td>\n",
       "      <td>0</td>\n",
       "    </tr>\n",
       "    <tr>\n",
       "      <th>4</th>\n",
       "      <td>0</td>\n",
       "      <td>0</td>\n",
       "      <td>0</td>\n",
       "      <td>0</td>\n",
       "      <td>0</td>\n",
       "      <td>0</td>\n",
       "      <td>0</td>\n",
       "      <td>0</td>\n",
       "      <td>0</td>\n",
       "      <td>0</td>\n",
       "      <td>...</td>\n",
       "      <td>0</td>\n",
       "      <td>0</td>\n",
       "      <td>0</td>\n",
       "      <td>0</td>\n",
       "      <td>0</td>\n",
       "      <td>0</td>\n",
       "      <td>0</td>\n",
       "      <td>0</td>\n",
       "      <td>0</td>\n",
       "      <td>0</td>\n",
       "    </tr>\n",
       "    <tr>\n",
       "      <th>...</th>\n",
       "      <td>...</td>\n",
       "      <td>...</td>\n",
       "      <td>...</td>\n",
       "      <td>...</td>\n",
       "      <td>...</td>\n",
       "      <td>...</td>\n",
       "      <td>...</td>\n",
       "      <td>...</td>\n",
       "      <td>...</td>\n",
       "      <td>...</td>\n",
       "      <td>...</td>\n",
       "      <td>...</td>\n",
       "      <td>...</td>\n",
       "      <td>...</td>\n",
       "      <td>...</td>\n",
       "      <td>...</td>\n",
       "      <td>...</td>\n",
       "      <td>...</td>\n",
       "      <td>...</td>\n",
       "      <td>...</td>\n",
       "      <td>...</td>\n",
       "    </tr>\n",
       "    <tr>\n",
       "      <th>3102</th>\n",
       "      <td>0</td>\n",
       "      <td>0</td>\n",
       "      <td>0</td>\n",
       "      <td>0</td>\n",
       "      <td>0</td>\n",
       "      <td>0</td>\n",
       "      <td>0</td>\n",
       "      <td>0</td>\n",
       "      <td>0</td>\n",
       "      <td>0</td>\n",
       "      <td>...</td>\n",
       "      <td>0</td>\n",
       "      <td>0</td>\n",
       "      <td>0</td>\n",
       "      <td>0</td>\n",
       "      <td>0</td>\n",
       "      <td>0</td>\n",
       "      <td>0</td>\n",
       "      <td>0</td>\n",
       "      <td>0</td>\n",
       "      <td>0</td>\n",
       "    </tr>\n",
       "    <tr>\n",
       "      <th>3103</th>\n",
       "      <td>0</td>\n",
       "      <td>0</td>\n",
       "      <td>0</td>\n",
       "      <td>0</td>\n",
       "      <td>0</td>\n",
       "      <td>0</td>\n",
       "      <td>0</td>\n",
       "      <td>0</td>\n",
       "      <td>0</td>\n",
       "      <td>0</td>\n",
       "      <td>...</td>\n",
       "      <td>0</td>\n",
       "      <td>0</td>\n",
       "      <td>0</td>\n",
       "      <td>0</td>\n",
       "      <td>0</td>\n",
       "      <td>0</td>\n",
       "      <td>0</td>\n",
       "      <td>0</td>\n",
       "      <td>0</td>\n",
       "      <td>0</td>\n",
       "    </tr>\n",
       "    <tr>\n",
       "      <th>3104</th>\n",
       "      <td>0</td>\n",
       "      <td>0</td>\n",
       "      <td>0</td>\n",
       "      <td>0</td>\n",
       "      <td>0</td>\n",
       "      <td>0</td>\n",
       "      <td>0</td>\n",
       "      <td>0</td>\n",
       "      <td>0</td>\n",
       "      <td>0</td>\n",
       "      <td>...</td>\n",
       "      <td>0</td>\n",
       "      <td>0</td>\n",
       "      <td>0</td>\n",
       "      <td>0</td>\n",
       "      <td>0</td>\n",
       "      <td>0</td>\n",
       "      <td>0</td>\n",
       "      <td>0</td>\n",
       "      <td>0</td>\n",
       "      <td>0</td>\n",
       "    </tr>\n",
       "    <tr>\n",
       "      <th>3105</th>\n",
       "      <td>0</td>\n",
       "      <td>0</td>\n",
       "      <td>0</td>\n",
       "      <td>0</td>\n",
       "      <td>0</td>\n",
       "      <td>0</td>\n",
       "      <td>0</td>\n",
       "      <td>0</td>\n",
       "      <td>0</td>\n",
       "      <td>0</td>\n",
       "      <td>...</td>\n",
       "      <td>0</td>\n",
       "      <td>0</td>\n",
       "      <td>0</td>\n",
       "      <td>0</td>\n",
       "      <td>0</td>\n",
       "      <td>0</td>\n",
       "      <td>0</td>\n",
       "      <td>0</td>\n",
       "      <td>0</td>\n",
       "      <td>0</td>\n",
       "    </tr>\n",
       "    <tr>\n",
       "      <th>3106</th>\n",
       "      <td>0</td>\n",
       "      <td>0</td>\n",
       "      <td>0</td>\n",
       "      <td>0</td>\n",
       "      <td>0</td>\n",
       "      <td>0</td>\n",
       "      <td>0</td>\n",
       "      <td>0</td>\n",
       "      <td>0</td>\n",
       "      <td>0</td>\n",
       "      <td>...</td>\n",
       "      <td>0</td>\n",
       "      <td>0</td>\n",
       "      <td>0</td>\n",
       "      <td>0</td>\n",
       "      <td>0</td>\n",
       "      <td>0</td>\n",
       "      <td>0</td>\n",
       "      <td>0</td>\n",
       "      <td>0</td>\n",
       "      <td>0</td>\n",
       "    </tr>\n",
       "  </tbody>\n",
       "</table>\n",
       "<p>3107 rows × 7664 columns</p>\n",
       "</div>"
      ],
      "text/plain": [
       "      00  000  02  05  09  10  100  1000  100mg  101  ...  zone  zoning  \\\n",
       "0      0    0   0   0   0   0    0     0      0    0  ...     0       0   \n",
       "1      0    0   0   0   0   0    0     0      0    0  ...     0       0   \n",
       "2      0    0   0   0   0   0    0     0      0    0  ...     0       0   \n",
       "3      0    0   0   0   0   0    0     0      0    0  ...     0       0   \n",
       "4      0    0   0   0   0   0    0     0      0    0  ...     0       0   \n",
       "...   ..  ...  ..  ..  ..  ..  ...   ...    ...  ...  ...   ...     ...   \n",
       "3102   0    0   0   0   0   0    0     0      0    0  ...     0       0   \n",
       "3103   0    0   0   0   0   0    0     0      0    0  ...     0       0   \n",
       "3104   0    0   0   0   0   0    0     0      0    0  ...     0       0   \n",
       "3105   0    0   0   0   0   0    0     0      0    0  ...     0       0   \n",
       "3106   0    0   0   0   0   0    0     0      0    0  ...     0       0   \n",
       "\n",
       "      zoster  zovirax  zpak  zyban  zydol  zyprexa  zyrtec  zyvox  \n",
       "0          0        0     0      0      0        0       0      0  \n",
       "1          0        0     0      0      0        0       0      0  \n",
       "2          0        0     0      0      0        0       0      0  \n",
       "3          0        0     0      0      0        0       0      0  \n",
       "4          0        0     0      0      0        0       0      0  \n",
       "...      ...      ...   ...    ...    ...      ...     ...    ...  \n",
       "3102       0        0     0      0      0        0       0      0  \n",
       "3103       0        0     0      0      0        0       0      0  \n",
       "3104       0        0     0      0      0        0       0      0  \n",
       "3105       0        0     0      0      0        0       0      0  \n",
       "3106       0        0     0      0      0        0       0      0  \n",
       "\n",
       "[3107 rows x 7664 columns]"
      ]
     },
     "execution_count": 42,
     "metadata": {},
     "output_type": "execute_result"
    }
   ],
   "source": [
    "fn_tdm_df(review).T"
   ]
  },
  {
   "cell_type": "code",
   "execution_count": 43,
   "metadata": {},
   "outputs": [],
   "source": [
    "def fn_tdm_tfidf(docs, xColNames = None, **kwargs):\n",
    "    ''' create a term document matrix as pandas DataFrame\n",
    "    with **kwargs you can pass arguments of CountVectorizer\n",
    "    if xColNames is given the dataframe gets columns Names'''\n",
    "\n",
    "    #initialize the  vectorizer\n",
    "    tf = TfidfVectorizer(**kwargs)\n",
    "    x1 = tf.fit_transform(docs)\n",
    "    #create dataFrame\n",
    "    df = pd.DataFrame(x1.toarray().transpose(), index = tf.get_feature_names())\n",
    "\n",
    "    if xColNames is not None:\n",
    "        df.columns = xColNames\n",
    "\n",
    "    return df"
   ]
  },
  {
   "cell_type": "code",
   "execution_count": 44,
   "metadata": {},
   "outputs": [
    {
     "data": {
      "text/html": [
       "<div>\n",
       "<style scoped>\n",
       "    .dataframe tbody tr th:only-of-type {\n",
       "        vertical-align: middle;\n",
       "    }\n",
       "\n",
       "    .dataframe tbody tr th {\n",
       "        vertical-align: top;\n",
       "    }\n",
       "\n",
       "    .dataframe thead th {\n",
       "        text-align: right;\n",
       "    }\n",
       "</style>\n",
       "<table border=\"1\" class=\"dataframe\">\n",
       "  <thead>\n",
       "    <tr style=\"text-align: right;\">\n",
       "      <th></th>\n",
       "      <th>00</th>\n",
       "      <th>000</th>\n",
       "      <th>02</th>\n",
       "      <th>05</th>\n",
       "      <th>09</th>\n",
       "      <th>10</th>\n",
       "      <th>100</th>\n",
       "      <th>1000</th>\n",
       "      <th>100mg</th>\n",
       "      <th>101</th>\n",
       "      <th>...</th>\n",
       "      <th>zone</th>\n",
       "      <th>zoning</th>\n",
       "      <th>zoster</th>\n",
       "      <th>zovirax</th>\n",
       "      <th>zpak</th>\n",
       "      <th>zyban</th>\n",
       "      <th>zydol</th>\n",
       "      <th>zyprexa</th>\n",
       "      <th>zyrtec</th>\n",
       "      <th>zyvox</th>\n",
       "    </tr>\n",
       "  </thead>\n",
       "  <tbody>\n",
       "    <tr>\n",
       "      <th>0</th>\n",
       "      <td>0.0</td>\n",
       "      <td>0.0</td>\n",
       "      <td>0.0</td>\n",
       "      <td>0.0</td>\n",
       "      <td>0.0</td>\n",
       "      <td>0.0</td>\n",
       "      <td>0.0</td>\n",
       "      <td>0.0</td>\n",
       "      <td>0.0</td>\n",
       "      <td>0.0</td>\n",
       "      <td>...</td>\n",
       "      <td>0.0</td>\n",
       "      <td>0.0</td>\n",
       "      <td>0.0</td>\n",
       "      <td>0.0</td>\n",
       "      <td>0.0</td>\n",
       "      <td>0.0</td>\n",
       "      <td>0.0</td>\n",
       "      <td>0.0</td>\n",
       "      <td>0.0</td>\n",
       "      <td>0.0</td>\n",
       "    </tr>\n",
       "    <tr>\n",
       "      <th>1</th>\n",
       "      <td>0.0</td>\n",
       "      <td>0.0</td>\n",
       "      <td>0.0</td>\n",
       "      <td>0.0</td>\n",
       "      <td>0.0</td>\n",
       "      <td>0.0</td>\n",
       "      <td>0.0</td>\n",
       "      <td>0.0</td>\n",
       "      <td>0.0</td>\n",
       "      <td>0.0</td>\n",
       "      <td>...</td>\n",
       "      <td>0.0</td>\n",
       "      <td>0.0</td>\n",
       "      <td>0.0</td>\n",
       "      <td>0.0</td>\n",
       "      <td>0.0</td>\n",
       "      <td>0.0</td>\n",
       "      <td>0.0</td>\n",
       "      <td>0.0</td>\n",
       "      <td>0.0</td>\n",
       "      <td>0.0</td>\n",
       "    </tr>\n",
       "    <tr>\n",
       "      <th>2</th>\n",
       "      <td>0.0</td>\n",
       "      <td>0.0</td>\n",
       "      <td>0.0</td>\n",
       "      <td>0.0</td>\n",
       "      <td>0.0</td>\n",
       "      <td>0.0</td>\n",
       "      <td>0.0</td>\n",
       "      <td>0.0</td>\n",
       "      <td>0.0</td>\n",
       "      <td>0.0</td>\n",
       "      <td>...</td>\n",
       "      <td>0.0</td>\n",
       "      <td>0.0</td>\n",
       "      <td>0.0</td>\n",
       "      <td>0.0</td>\n",
       "      <td>0.0</td>\n",
       "      <td>0.0</td>\n",
       "      <td>0.0</td>\n",
       "      <td>0.0</td>\n",
       "      <td>0.0</td>\n",
       "      <td>0.0</td>\n",
       "    </tr>\n",
       "    <tr>\n",
       "      <th>3</th>\n",
       "      <td>0.0</td>\n",
       "      <td>0.0</td>\n",
       "      <td>0.0</td>\n",
       "      <td>0.0</td>\n",
       "      <td>0.0</td>\n",
       "      <td>0.0</td>\n",
       "      <td>0.0</td>\n",
       "      <td>0.0</td>\n",
       "      <td>0.0</td>\n",
       "      <td>0.0</td>\n",
       "      <td>...</td>\n",
       "      <td>0.0</td>\n",
       "      <td>0.0</td>\n",
       "      <td>0.0</td>\n",
       "      <td>0.0</td>\n",
       "      <td>0.0</td>\n",
       "      <td>0.0</td>\n",
       "      <td>0.0</td>\n",
       "      <td>0.0</td>\n",
       "      <td>0.0</td>\n",
       "      <td>0.0</td>\n",
       "    </tr>\n",
       "    <tr>\n",
       "      <th>4</th>\n",
       "      <td>0.0</td>\n",
       "      <td>0.0</td>\n",
       "      <td>0.0</td>\n",
       "      <td>0.0</td>\n",
       "      <td>0.0</td>\n",
       "      <td>0.0</td>\n",
       "      <td>0.0</td>\n",
       "      <td>0.0</td>\n",
       "      <td>0.0</td>\n",
       "      <td>0.0</td>\n",
       "      <td>...</td>\n",
       "      <td>0.0</td>\n",
       "      <td>0.0</td>\n",
       "      <td>0.0</td>\n",
       "      <td>0.0</td>\n",
       "      <td>0.0</td>\n",
       "      <td>0.0</td>\n",
       "      <td>0.0</td>\n",
       "      <td>0.0</td>\n",
       "      <td>0.0</td>\n",
       "      <td>0.0</td>\n",
       "    </tr>\n",
       "    <tr>\n",
       "      <th>...</th>\n",
       "      <td>...</td>\n",
       "      <td>...</td>\n",
       "      <td>...</td>\n",
       "      <td>...</td>\n",
       "      <td>...</td>\n",
       "      <td>...</td>\n",
       "      <td>...</td>\n",
       "      <td>...</td>\n",
       "      <td>...</td>\n",
       "      <td>...</td>\n",
       "      <td>...</td>\n",
       "      <td>...</td>\n",
       "      <td>...</td>\n",
       "      <td>...</td>\n",
       "      <td>...</td>\n",
       "      <td>...</td>\n",
       "      <td>...</td>\n",
       "      <td>...</td>\n",
       "      <td>...</td>\n",
       "      <td>...</td>\n",
       "      <td>...</td>\n",
       "    </tr>\n",
       "    <tr>\n",
       "      <th>3102</th>\n",
       "      <td>0.0</td>\n",
       "      <td>0.0</td>\n",
       "      <td>0.0</td>\n",
       "      <td>0.0</td>\n",
       "      <td>0.0</td>\n",
       "      <td>0.0</td>\n",
       "      <td>0.0</td>\n",
       "      <td>0.0</td>\n",
       "      <td>0.0</td>\n",
       "      <td>0.0</td>\n",
       "      <td>...</td>\n",
       "      <td>0.0</td>\n",
       "      <td>0.0</td>\n",
       "      <td>0.0</td>\n",
       "      <td>0.0</td>\n",
       "      <td>0.0</td>\n",
       "      <td>0.0</td>\n",
       "      <td>0.0</td>\n",
       "      <td>0.0</td>\n",
       "      <td>0.0</td>\n",
       "      <td>0.0</td>\n",
       "    </tr>\n",
       "    <tr>\n",
       "      <th>3103</th>\n",
       "      <td>0.0</td>\n",
       "      <td>0.0</td>\n",
       "      <td>0.0</td>\n",
       "      <td>0.0</td>\n",
       "      <td>0.0</td>\n",
       "      <td>0.0</td>\n",
       "      <td>0.0</td>\n",
       "      <td>0.0</td>\n",
       "      <td>0.0</td>\n",
       "      <td>0.0</td>\n",
       "      <td>...</td>\n",
       "      <td>0.0</td>\n",
       "      <td>0.0</td>\n",
       "      <td>0.0</td>\n",
       "      <td>0.0</td>\n",
       "      <td>0.0</td>\n",
       "      <td>0.0</td>\n",
       "      <td>0.0</td>\n",
       "      <td>0.0</td>\n",
       "      <td>0.0</td>\n",
       "      <td>0.0</td>\n",
       "    </tr>\n",
       "    <tr>\n",
       "      <th>3104</th>\n",
       "      <td>0.0</td>\n",
       "      <td>0.0</td>\n",
       "      <td>0.0</td>\n",
       "      <td>0.0</td>\n",
       "      <td>0.0</td>\n",
       "      <td>0.0</td>\n",
       "      <td>0.0</td>\n",
       "      <td>0.0</td>\n",
       "      <td>0.0</td>\n",
       "      <td>0.0</td>\n",
       "      <td>...</td>\n",
       "      <td>0.0</td>\n",
       "      <td>0.0</td>\n",
       "      <td>0.0</td>\n",
       "      <td>0.0</td>\n",
       "      <td>0.0</td>\n",
       "      <td>0.0</td>\n",
       "      <td>0.0</td>\n",
       "      <td>0.0</td>\n",
       "      <td>0.0</td>\n",
       "      <td>0.0</td>\n",
       "    </tr>\n",
       "    <tr>\n",
       "      <th>3105</th>\n",
       "      <td>0.0</td>\n",
       "      <td>0.0</td>\n",
       "      <td>0.0</td>\n",
       "      <td>0.0</td>\n",
       "      <td>0.0</td>\n",
       "      <td>0.0</td>\n",
       "      <td>0.0</td>\n",
       "      <td>0.0</td>\n",
       "      <td>0.0</td>\n",
       "      <td>0.0</td>\n",
       "      <td>...</td>\n",
       "      <td>0.0</td>\n",
       "      <td>0.0</td>\n",
       "      <td>0.0</td>\n",
       "      <td>0.0</td>\n",
       "      <td>0.0</td>\n",
       "      <td>0.0</td>\n",
       "      <td>0.0</td>\n",
       "      <td>0.0</td>\n",
       "      <td>0.0</td>\n",
       "      <td>0.0</td>\n",
       "    </tr>\n",
       "    <tr>\n",
       "      <th>3106</th>\n",
       "      <td>0.0</td>\n",
       "      <td>0.0</td>\n",
       "      <td>0.0</td>\n",
       "      <td>0.0</td>\n",
       "      <td>0.0</td>\n",
       "      <td>0.0</td>\n",
       "      <td>0.0</td>\n",
       "      <td>0.0</td>\n",
       "      <td>0.0</td>\n",
       "      <td>0.0</td>\n",
       "      <td>...</td>\n",
       "      <td>0.0</td>\n",
       "      <td>0.0</td>\n",
       "      <td>0.0</td>\n",
       "      <td>0.0</td>\n",
       "      <td>0.0</td>\n",
       "      <td>0.0</td>\n",
       "      <td>0.0</td>\n",
       "      <td>0.0</td>\n",
       "      <td>0.0</td>\n",
       "      <td>0.0</td>\n",
       "    </tr>\n",
       "  </tbody>\n",
       "</table>\n",
       "<p>3107 rows × 7664 columns</p>\n",
       "</div>"
      ],
      "text/plain": [
       "       00  000   02   05   09   10  100  1000  100mg  101  ...  zone  zoning  \\\n",
       "0     0.0  0.0  0.0  0.0  0.0  0.0  0.0   0.0    0.0  0.0  ...   0.0     0.0   \n",
       "1     0.0  0.0  0.0  0.0  0.0  0.0  0.0   0.0    0.0  0.0  ...   0.0     0.0   \n",
       "2     0.0  0.0  0.0  0.0  0.0  0.0  0.0   0.0    0.0  0.0  ...   0.0     0.0   \n",
       "3     0.0  0.0  0.0  0.0  0.0  0.0  0.0   0.0    0.0  0.0  ...   0.0     0.0   \n",
       "4     0.0  0.0  0.0  0.0  0.0  0.0  0.0   0.0    0.0  0.0  ...   0.0     0.0   \n",
       "...   ...  ...  ...  ...  ...  ...  ...   ...    ...  ...  ...   ...     ...   \n",
       "3102  0.0  0.0  0.0  0.0  0.0  0.0  0.0   0.0    0.0  0.0  ...   0.0     0.0   \n",
       "3103  0.0  0.0  0.0  0.0  0.0  0.0  0.0   0.0    0.0  0.0  ...   0.0     0.0   \n",
       "3104  0.0  0.0  0.0  0.0  0.0  0.0  0.0   0.0    0.0  0.0  ...   0.0     0.0   \n",
       "3105  0.0  0.0  0.0  0.0  0.0  0.0  0.0   0.0    0.0  0.0  ...   0.0     0.0   \n",
       "3106  0.0  0.0  0.0  0.0  0.0  0.0  0.0   0.0    0.0  0.0  ...   0.0     0.0   \n",
       "\n",
       "      zoster  zovirax  zpak  zyban  zydol  zyprexa  zyrtec  zyvox  \n",
       "0        0.0      0.0   0.0    0.0    0.0      0.0     0.0    0.0  \n",
       "1        0.0      0.0   0.0    0.0    0.0      0.0     0.0    0.0  \n",
       "2        0.0      0.0   0.0    0.0    0.0      0.0     0.0    0.0  \n",
       "3        0.0      0.0   0.0    0.0    0.0      0.0     0.0    0.0  \n",
       "4        0.0      0.0   0.0    0.0    0.0      0.0     0.0    0.0  \n",
       "...      ...      ...   ...    ...    ...      ...     ...    ...  \n",
       "3102     0.0      0.0   0.0    0.0    0.0      0.0     0.0    0.0  \n",
       "3103     0.0      0.0   0.0    0.0    0.0      0.0     0.0    0.0  \n",
       "3104     0.0      0.0   0.0    0.0    0.0      0.0     0.0    0.0  \n",
       "3105     0.0      0.0   0.0    0.0    0.0      0.0     0.0    0.0  \n",
       "3106     0.0      0.0   0.0    0.0    0.0      0.0     0.0    0.0  \n",
       "\n",
       "[3107 rows x 7664 columns]"
      ]
     },
     "execution_count": 44,
     "metadata": {},
     "output_type": "execute_result"
    }
   ],
   "source": [
    "fn_tdm_tfidf(review).transpose()"
   ]
  },
  {
   "cell_type": "markdown",
   "metadata": {},
   "source": [
    "## Text Classification"
   ]
  },
  {
   "cell_type": "markdown",
   "metadata": {},
   "source": [
    "Using patients' drug and treatment reviews to predict effectiveness of treatment"
   ]
  },
  {
   "cell_type": "markdown",
   "metadata": {},
   "source": [
    "#### Preprocessing and Cleaning"
   ]
  },
  {
   "cell_type": "code",
   "execution_count": 45,
   "metadata": {},
   "outputs": [
    {
     "data": {
      "text/plain": [
       "0       slowed the progression of left ventricular dys...\n",
       "1       Although this type of birth control has more c...\n",
       "2       I was used to having cramps so badly that they...\n",
       "3       The acid reflux went away for a few months aft...\n",
       "4       I think that the Lyrica was starting to help w...\n",
       "                              ...                        \n",
       "3102    Increased focus, attention, productivity. Bett...\n",
       "3103      Emotions were somewhat blunted. Less moodiness.\n",
       "3104                                                  ---\n",
       "3105                 Controlled complex partial seizures.\n",
       "3106    The drug Micardis did seem to alleviate my hig...\n",
       "Name: benefitsReview, Length: 3107, dtype: object"
      ]
     },
     "execution_count": 45,
     "metadata": {},
     "output_type": "execute_result"
    }
   ],
   "source": [
    "review"
   ]
  },
  {
   "cell_type": "markdown",
   "metadata": {},
   "source": [
    "**Formatting the data for classification based on effective vs not effective**"
   ]
  },
  {
   "cell_type": "code",
   "execution_count": 46,
   "metadata": {},
   "outputs": [
    {
     "data": {
      "text/plain": [
       "Highly Effective          0.428066\n",
       "Considerably Effective    0.298680\n",
       "Moderately Effective      0.133569\n",
       "Ineffective               0.079498\n",
       "Marginally Effective      0.060187\n",
       "Name: effectiveness, dtype: float64"
      ]
     },
     "execution_count": 46,
     "metadata": {},
     "output_type": "execute_result"
    }
   ],
   "source": [
    "d_text['effectiveness'].value_counts(normalize=True)"
   ]
  },
  {
   "cell_type": "code",
   "execution_count": 47,
   "metadata": {},
   "outputs": [],
   "source": [
    "d_text['effectiveness'].replace('Highly Effective', 'Effective', inplace=True)\n",
    "d_text['effectiveness'].replace('Considerably Effective', 'Effective', inplace=True)\n",
    "d_text['effectiveness'].replace('Moderately Effective', 'Effective', inplace=True)\n",
    "d_text['effectiveness'].replace('Ineffective', 'Not Effective', inplace=True)\n",
    "d_text['effectiveness'].replace('Marginally Effective', 'Not Effective', inplace=True)"
   ]
  },
  {
   "cell_type": "code",
   "execution_count": 48,
   "metadata": {},
   "outputs": [
    {
     "data": {
      "text/plain": [
       "Effective        0.860315\n",
       "Not Effective    0.139685\n",
       "Name: effectiveness, dtype: float64"
      ]
     },
     "execution_count": 48,
     "metadata": {},
     "output_type": "execute_result"
    }
   ],
   "source": [
    "d_text['effectiveness'].value_counts(normalize=True)"
   ]
  },
  {
   "cell_type": "code",
   "execution_count": 49,
   "metadata": {},
   "outputs": [],
   "source": [
    "d_text['effectiveness'].replace('Effective', 1, inplace=True)\n",
    "d_text['effectiveness'].replace('Not Effective', 0, inplace=True)"
   ]
  },
  {
   "cell_type": "code",
   "execution_count": 50,
   "metadata": {},
   "outputs": [
    {
     "data": {
      "text/plain": [
       "1    2673\n",
       "0     434\n",
       "Name: effectiveness, dtype: int64"
      ]
     },
     "execution_count": 50,
     "metadata": {},
     "output_type": "execute_result"
    }
   ],
   "source": [
    "d_text['effectiveness'].value_counts()"
   ]
  },
  {
   "cell_type": "code",
   "execution_count": 51,
   "metadata": {},
   "outputs": [],
   "source": [
    "target = d_text['effectiveness']\n",
    "data = review"
   ]
  },
  {
   "cell_type": "markdown",
   "metadata": {},
   "source": [
    "#### Text Formatting"
   ]
  },
  {
   "cell_type": "code",
   "execution_count": 52,
   "metadata": {},
   "outputs": [
    {
     "data": {
      "text/plain": [
       "'!\"#$%&\\'()*+,-./:;<=>?@[\\\\]^_`{|}~'"
      ]
     },
     "execution_count": 52,
     "metadata": {},
     "output_type": "execute_result"
    }
   ],
   "source": [
    "string.punctuation"
   ]
  },
  {
   "cell_type": "code",
   "execution_count": 53,
   "metadata": {},
   "outputs": [],
   "source": [
    "## setting stopwords and punctuations\n",
    "\n",
    "#### need to format this for specific corpus working with\n",
    "\n",
    "sw_list = stopwords.words('english')\n",
    "sw_list += list(string.punctuation)\n",
    "sw_list += [\"''\", '\"\"', '...', '``', '’', '“', '’', '”', '‘', '‘', '©',\n",
    "            'said', 'one', 'com', '-', '–', '—']\n",
    "sw_set = set(sw_list)"
   ]
  },
  {
   "cell_type": "code",
   "execution_count": 54,
   "metadata": {},
   "outputs": [],
   "source": [
    "# we can define a function that removes stopwords \n",
    "def process_text(text):\n",
    "    tokens = nltk.word_tokenize(text)\n",
    "    stopwords_removed = [token.lower() for token in tokens if token.lower() not in sw_set]\n",
    "    return stopwords_removed "
   ]
  },
  {
   "cell_type": "code",
   "execution_count": 55,
   "metadata": {},
   "outputs": [],
   "source": [
    "processed_text = list(map(process_text, data))"
   ]
  },
  {
   "cell_type": "code",
   "execution_count": 56,
   "metadata": {},
   "outputs": [],
   "source": [
    "# processed_text"
   ]
  },
  {
   "cell_type": "code",
   "execution_count": 57,
   "metadata": {},
   "outputs": [
    {
     "data": {
      "text/plain": [
       "8111"
      ]
     },
     "execution_count": 57,
     "metadata": {},
     "output_type": "execute_result"
    }
   ],
   "source": [
    "total_vocab = set()\n",
    "for comment in processed_text:\n",
    "    total_vocab.update(comment)\n",
    "len(total_vocab)"
   ]
  },
  {
   "cell_type": "code",
   "execution_count": 58,
   "metadata": {},
   "outputs": [],
   "source": [
    "# creating a list with all lemmatized outputs\n",
    "lemmatized_output = []\n",
    "\n",
    "for listy in processed_text:\n",
    "    lemmed = ' '.join([lemmatizer.lemmatize(w) for w in listy])\n",
    "    lemmatized_output.append(lemmed)"
   ]
  },
  {
   "cell_type": "code",
   "execution_count": 59,
   "metadata": {},
   "outputs": [
    {
     "data": {
      "text/plain": [
       "<1x7664 sparse matrix of type '<class 'numpy.int64'>'\n",
       "\twith 67 stored elements in Compressed Sparse Row format>"
      ]
     },
     "execution_count": 59,
     "metadata": {},
     "output_type": "execute_result"
    }
   ],
   "source": [
    "X_lem = lemmatized_output\n",
    "[' '.join(d) for d in processed_text]\n",
    "\n",
    "y_lem = target\n",
    "X[3]"
   ]
  },
  {
   "cell_type": "markdown",
   "metadata": {},
   "source": [
    "### Corpus Statistics and EDA"
   ]
  },
  {
   "cell_type": "code",
   "execution_count": 60,
   "metadata": {},
   "outputs": [
    {
     "data": {
      "text/plain": [
       "<2485x6385 sparse matrix of type '<class 'numpy.float64'>'\n",
       "\twith 43543 stored elements in Compressed Sparse Row format>"
      ]
     },
     "execution_count": 60,
     "metadata": {},
     "output_type": "execute_result"
    }
   ],
   "source": [
    "X_train_lem, X_test_lem, y_train_lem, y_test_lem = train_test_split(X_lem, y_lem, test_size=0.20, random_state=1)\n",
    "tfidf = TfidfVectorizer()\n",
    "\n",
    "tfidf_data_train_lem = tfidf.fit_transform(X_train_lem)\n",
    "tfidf_data_test_lem = tfidf.transform(X_test_lem)\n",
    "\n",
    "tfidf_data_train_lem"
   ]
  },
  {
   "cell_type": "code",
   "execution_count": 61,
   "metadata": {},
   "outputs": [
    {
     "name": "stdout",
     "output_type": "stream",
     "text": [
      "Average Number of Non-Zero Elements in Vectorized Review: 17.522334004024145\n",
      "Percentage of columns containing ZERO: 0.9972557033666368\n"
     ]
    }
   ],
   "source": [
    "non_zero_cols = tfidf_data_train_lem.nnz / float(tfidf_data_train_lem.shape[0])\n",
    "print(\"Average Number of Non-Zero Elements in Vectorized Review: {}\".format(non_zero_cols))\n",
    "\n",
    "percent_sparse = 1 - (non_zero_cols / float(tfidf_data_train_lem.shape[1]))\n",
    "print('Percentage of columns containing ZERO: {}'.format(percent_sparse))"
   ]
  },
  {
   "cell_type": "markdown",
   "metadata": {},
   "source": [
    "#### Most Frequent Words"
   ]
  },
  {
   "cell_type": "code",
   "execution_count": 62,
   "metadata": {},
   "outputs": [],
   "source": [
    "# target = d_text['effectiveness']\n",
    "# data = review\n",
    "\n",
    "df = d_text.copy(deep=True)"
   ]
  },
  {
   "cell_type": "code",
   "execution_count": 63,
   "metadata": {},
   "outputs": [],
   "source": [
    "df_freq_effective = df[df['effectiveness']==1]\n",
    "df_freq_not_effective = df[df['effectiveness']==0]"
   ]
  },
  {
   "cell_type": "code",
   "execution_count": 64,
   "metadata": {},
   "outputs": [],
   "source": [
    "data_eff = df_freq_effective['benefitsReview']\n",
    "data_not_eff = df_freq_not_effective['benefitsReview']"
   ]
  },
  {
   "cell_type": "code",
   "execution_count": 65,
   "metadata": {},
   "outputs": [],
   "source": [
    "pros_effective = list(map(process_text, data_eff))\n",
    "pros_not_effective = list(map(process_text, data_not_eff))"
   ]
  },
  {
   "cell_type": "code",
   "execution_count": 66,
   "metadata": {},
   "outputs": [
    {
     "data": {
      "text/plain": [
       "7649"
      ]
     },
     "execution_count": 66,
     "metadata": {},
     "output_type": "execute_result"
    }
   ],
   "source": [
    "total_vocab_eff = set()\n",
    "for comment in pros_effective:\n",
    "    total_vocab_eff.update(comment)\n",
    "len(total_vocab_eff)"
   ]
  },
  {
   "cell_type": "code",
   "execution_count": 67,
   "metadata": {},
   "outputs": [
    {
     "data": {
      "text/plain": [
       "1990"
      ]
     },
     "execution_count": 67,
     "metadata": {},
     "output_type": "execute_result"
    }
   ],
   "source": [
    "total_vocab_NOT_eff = set()\n",
    "for comment in pros_not_effective:\n",
    "    total_vocab_NOT_eff.update(comment)\n",
    "len(total_vocab_NOT_eff)"
   ]
  },
  {
   "cell_type": "code",
   "execution_count": 68,
   "metadata": {},
   "outputs": [
    {
     "name": "stdout",
     "output_type": "stream",
     "text": [
      "[['slowed', 'progression', 'left', 'ventricular', 'dysfunction', 'overt', 'heart', 'failure', 'alone', 'agents', 'managment', 'hypertension', 'mangagement', 'congestive', 'heart', 'failur'], ['although', 'type', 'birth', 'control', 'cons', 'pros', 'help', 'cramps', \"'s\", 'also', 'effective', 'prevention', 'pregnancy', 'along', 'use', 'condoms', 'well']]\n"
     ]
    }
   ],
   "source": [
    "print(pros_effective[:2])"
   ]
  },
  {
   "cell_type": "code",
   "execution_count": 69,
   "metadata": {},
   "outputs": [],
   "source": [
    "# Preprocessing:\n",
    "# We will use these again later on\n",
    "# FORMAT:  flat_list = [item for sublist in l for item in sublist]\n",
    "\n",
    "flat_effective = [item for sublist in pros_effective for item in sublist]\n",
    "flat_not_effective = [item for sublist in pros_not_effective for item in sublist]"
   ]
  },
  {
   "cell_type": "code",
   "execution_count": 70,
   "metadata": {},
   "outputs": [],
   "source": [
    "effective_freq = FreqDist(flat_effective)\n",
    "not_effective_freq = FreqDist(flat_not_effective)"
   ]
  },
  {
   "cell_type": "code",
   "execution_count": 71,
   "metadata": {},
   "outputs": [
    {
     "data": {
      "text/plain": [
       "[('pain', 532),\n",
       " ('taking', 422),\n",
       " ('drug', 378),\n",
       " ('also', 374),\n",
       " ('day', 355),\n",
       " ('sleep', 327),\n",
       " ('able', 326),\n",
       " ('skin', 322),\n",
       " (\"n't\", 320),\n",
       " ('would', 301),\n",
       " ('better', 301),\n",
       " ('time', 301),\n",
       " ('medication', 295),\n",
       " ('treatment', 276),\n",
       " ('take', 274),\n",
       " ('much', 269),\n",
       " ('symptoms', 260),\n",
       " ('feel', 260),\n",
       " ('less', 258),\n",
       " ('depression', 256)]"
      ]
     },
     "execution_count": 71,
     "metadata": {},
     "output_type": "execute_result"
    }
   ],
   "source": [
    "# Top 20 satire words:\n",
    "\n",
    "effective_freq.most_common(20)"
   ]
  },
  {
   "cell_type": "code",
   "execution_count": 72,
   "metadata": {},
   "outputs": [
    {
     "data": {
      "text/plain": [
       "[('benefits', 91),\n",
       " ('none', 90),\n",
       " (\"n't\", 65),\n",
       " ('treatment', 63),\n",
       " ('drug', 61),\n",
       " ('pain', 60),\n",
       " ('effects', 57),\n",
       " ('side', 55),\n",
       " ('taking', 47),\n",
       " ('would', 38),\n",
       " ('skin', 38),\n",
       " ('medication', 37),\n",
       " ('still', 34),\n",
       " ('benefit', 32),\n",
       " ('acne', 31),\n",
       " ('time', 31),\n",
       " ('doctor', 30),\n",
       " ('help', 30),\n",
       " ('better', 30),\n",
       " ('could', 28)]"
      ]
     },
     "execution_count": 72,
     "metadata": {},
     "output_type": "execute_result"
    }
   ],
   "source": [
    "# Top 20 non-satire words:\n",
    "\n",
    "not_effective_freq.most_common(20)"
   ]
  },
  {
   "cell_type": "code",
   "execution_count": 73,
   "metadata": {},
   "outputs": [],
   "source": [
    "## need to fix the \" n't \""
   ]
  },
  {
   "cell_type": "markdown",
   "metadata": {},
   "source": [
    "#### Normalized Word Frequencies:"
   ]
  },
  {
   "cell_type": "code",
   "execution_count": 74,
   "metadata": {},
   "outputs": [
    {
     "name": "stdout",
     "output_type": "stream",
     "text": [
      "Word \t\t Normalized Frequency\n",
      "\n",
      "pain \t\t 0.009611\n",
      "taking \t\t 0.007624\n",
      "drug \t\t 0.006829\n",
      "also \t\t 0.006757\n",
      "day \t\t 0.006413\n",
      "sleep \t\t 0.005908\n",
      "able \t\t 0.00589\n",
      "skin \t\t 0.005817\n",
      "n't \t\t 0.005781\n",
      "would \t\t 0.005438\n",
      "better \t\t 0.005438\n",
      "time \t\t 0.005438\n",
      "medication \t\t 0.00533\n",
      "treatment \t\t 0.004986\n",
      "take \t\t 0.00495\n",
      "much \t\t 0.00486\n",
      "symptoms \t\t 0.004697\n",
      "feel \t\t 0.004697\n",
      "less \t\t 0.004661\n",
      "depression \t\t 0.004625\n",
      "effects \t\t 0.004625\n",
      "get \t\t 0.004571\n",
      "helped \t\t 0.004535\n",
      "reduced \t\t 0.004444\n",
      "years \t\t 0.00439\n"
     ]
    }
   ],
   "source": [
    "review_total_word_count = sum(effective_freq.values())\n",
    "review_top_25 = effective_freq.most_common(25)\n",
    "print(\"Word \\t\\t Normalized Frequency\")\n",
    "print()\n",
    "for word in review_top_25:\n",
    "    normalized_frequency = word[1]/review_total_word_count\n",
    "    print(\"{} \\t\\t {:.4}\".format(word[0], normalized_frequency))"
   ]
  },
  {
   "cell_type": "code",
   "execution_count": 75,
   "metadata": {},
   "outputs": [
    {
     "name": "stdout",
     "output_type": "stream",
     "text": [
      "Word \t\t Normalized Frequency\n",
      "\n",
      "benefits \t\t 0.01547\n",
      "none \t\t 0.0153\n",
      "n't \t\t 0.01105\n",
      "treatment \t\t 0.01071\n",
      "drug \t\t 0.01037\n",
      "pain \t\t 0.0102\n",
      "effects \t\t 0.009687\n",
      "side \t\t 0.009347\n",
      "taking \t\t 0.007988\n",
      "would \t\t 0.006458\n",
      "skin \t\t 0.006458\n",
      "medication \t\t 0.006288\n",
      "still \t\t 0.005778\n",
      "benefit \t\t 0.005438\n",
      "acne \t\t 0.005269\n",
      "time \t\t 0.005269\n",
      "doctor \t\t 0.005099\n",
      "help \t\t 0.005099\n",
      "better \t\t 0.005099\n",
      "could \t\t 0.004759\n",
      "helped \t\t 0.004759\n",
      "severe \t\t 0.004589\n",
      "improvement \t\t 0.004589\n",
      "get \t\t 0.004419\n",
      "took \t\t 0.004419\n"
     ]
    }
   ],
   "source": [
    "not_effective_total_word_count = sum(not_effective_freq.values())\n",
    "not_effective_top_25 = not_effective_freq.most_common(25)\n",
    "print(\"Word \\t\\t Normalized Frequency\")\n",
    "print()\n",
    "for word in not_effective_top_25:\n",
    "    normalized_frequency = word[1]/not_effective_total_word_count\n",
    "    print(\"{} \\t\\t {:.4}\".format(word[0], normalized_frequency))"
   ]
  },
  {
   "cell_type": "markdown",
   "metadata": {},
   "source": [
    "#### Visualizing the Text"
   ]
  },
  {
   "cell_type": "code",
   "execution_count": 76,
   "metadata": {},
   "outputs": [],
   "source": [
    "# create counts of satire and not satire with values and words\n",
    "effective_bar_counts = [x[1] for x in effective_freq.most_common(25)]\n",
    "effective_bar_words = [x[0] for x in effective_freq.most_common(25)]\n",
    "\n",
    "not_effective_bar_counts = [x[1] for x in not_effective_freq.most_common(25)]\n",
    "not_effective_bar_words = [x[0] for x in not_effective_freq.most_common(25)]"
   ]
  },
  {
   "cell_type": "code",
   "execution_count": 77,
   "metadata": {},
   "outputs": [],
   "source": [
    "# set the color of our bar graphs\n",
    "color = cm.viridis_r(np.linspace(.4,.8, 30))"
   ]
  },
  {
   "cell_type": "code",
   "execution_count": 78,
   "metadata": {},
   "outputs": [
    {
     "data": {
      "image/png": "[encoded data removed]",
      "text/plain": [
       "<Figure size 1152x288 with 2 Axes>"
      ]
     },
     "metadata": {},
     "output_type": "display_data"
    }
   ],
   "source": [
    "new_figure = plt.figure(figsize=(16,4))\n",
    "\n",
    "ax = new_figure.add_subplot(121)\n",
    "ax2 = new_figure.add_subplot(122)\n",
    "\n",
    "# Generate a line plot on first axes\n",
    "ax.bar(effective_bar_words, effective_bar_counts, color=color)\n",
    "# ax.plot(colormap='PRGn')\n",
    "\n",
    "# Draw a scatter plot on 2nd axes\n",
    "ax2.bar(not_effective_bar_words, not_effective_bar_counts, color=color )\n",
    "\n",
    "ax.title.set_text('Effective')\n",
    "ax2.title.set_text('Not Effective')\n",
    "\n",
    "for ax in new_figure.axes:\n",
    "    plt.sca(ax)\n",
    "    plt.xticks(rotation=60)\n",
    "\n",
    "plt.tight_layout(pad=0)\n",
    "\n",
    "# plt.savefig('word count bar graphs.png')\n",
    "\n",
    "plt.show()"
   ]
  },
  {
   "cell_type": "markdown",
   "metadata": {},
   "source": [
    "#### Word Clouds"
   ]
  },
  {
   "cell_type": "code",
   "execution_count": 79,
   "metadata": {},
   "outputs": [],
   "source": [
    "# Getting our data into a dictionary\n",
    "# FORMAT:  dictionary = dict(zip(keys, values))\n",
    "\n",
    "effective_dictionary = dict(zip(effective_bar_words, effective_bar_counts))\n",
    "not_effective_dictionary = dict(zip(not_effective_bar_words, not_effective_bar_counts))"
   ]
  },
  {
   "cell_type": "code",
   "execution_count": 80,
   "metadata": {},
   "outputs": [
    {
     "data": {
      "text/plain": [
       "{'pain': 532,\n",
       " 'taking': 422,\n",
       " 'drug': 378,\n",
       " 'also': 374,\n",
       " 'day': 355,\n",
       " 'sleep': 327,\n",
       " 'able': 326,\n",
       " 'skin': 322,\n",
       " \"n't\": 320,\n",
       " 'would': 301,\n",
       " 'better': 301,\n",
       " 'time': 301,\n",
       " 'medication': 295,\n",
       " 'treatment': 276,\n",
       " 'take': 274,\n",
       " 'much': 269,\n",
       " 'symptoms': 260,\n",
       " 'feel': 260,\n",
       " 'less': 258,\n",
       " 'depression': 256,\n",
       " 'effects': 256,\n",
       " 'get': 253,\n",
       " 'helped': 251,\n",
       " 'reduced': 246,\n",
       " 'years': 243}"
      ]
     },
     "execution_count": 80,
     "metadata": {},
     "output_type": "execute_result"
    }
   ],
   "source": [
    "effective_dictionary"
   ]
  },
  {
   "cell_type": "code",
   "execution_count": 81,
   "metadata": {},
   "outputs": [
    {
     "data": {
      "image/png": "[encoded data removed]",
      "text/plain": [
       "<Figure size 720x720 with 1 Axes>"
      ]
     },
     "metadata": {},
     "output_type": "display_data"
    }
   ],
   "source": [
    "# creating a word cloud\n",
    "\n",
    "wordcloud = WordCloud(colormap='Spectral').generate_from_frequencies(effective_dictionary)\n",
    "\n",
    "# Display the generated image w/ matplotlib:\n",
    "\n",
    "plt.figure(figsize=(10,10), facecolor='k')\n",
    "plt.imshow(wordcloud, interpolation='bilinear')\n",
    "plt.axis(\"off\")\n",
    "plt.tight_layout(pad=0)\n",
    "\n",
    "# Uncomment the next line if you want to save your image:\n",
    "# plt.savefig('satire_wordcloud.png')\n",
    "\n",
    "plt.show()"
   ]
  },
  {
   "cell_type": "code",
   "execution_count": 82,
   "metadata": {},
   "outputs": [
    {
     "data": {
      "image/png": "[encoded data removed]",
      "text/plain": [
       "<Figure size 720x720 with 1 Axes>"
      ]
     },
     "metadata": {},
     "output_type": "display_data"
    }
   ],
   "source": [
    "wordcloud = WordCloud(colormap='Spectral').generate_from_frequencies(not_effective_dictionary)\n",
    "\n",
    "plt.figure(figsize=(10,10), facecolor='k')\n",
    "plt.imshow(wordcloud, interpolation='bilinear')\n",
    "plt.axis(\"off\")\n",
    "plt.tight_layout(pad=0)\n",
    "# plt.savefig('not_satire_wordcloud.png')\n",
    "\n",
    "plt.show()"
   ]
  },
  {
   "cell_type": "markdown",
   "metadata": {},
   "source": [
    "### Classification"
   ]
  },
  {
   "cell_type": "markdown",
   "metadata": {},
   "source": [
    "Using a Random Forest classifier"
   ]
  },
  {
   "cell_type": "code",
   "execution_count": 83,
   "metadata": {},
   "outputs": [],
   "source": [
    "rf_classifier_lem = RandomForestClassifier(n_estimators=100, random_state=5)"
   ]
  },
  {
   "cell_type": "code",
   "execution_count": 84,
   "metadata": {},
   "outputs": [],
   "source": [
    "rf_classifier_lem.fit(tfidf_data_train_lem, y_train_lem)\n",
    "\n",
    "rf_test_preds_lem = rf_classifier_lem.predict(tfidf_data_test_lem)"
   ]
  },
  {
   "cell_type": "code",
   "execution_count": 85,
   "metadata": {},
   "outputs": [
    {
     "name": "stdout",
     "output_type": "stream",
     "text": [
      "Random Forest with Lemmatization Features\n",
      "Testing Accuracy: 0.8955\n",
      "\n",
      "F1 Score: 0.9416\n"
     ]
    }
   ],
   "source": [
    "rf_acc_score_lem = accuracy_score(y_test_lem, rf_test_preds_lem)\n",
    "rf_f1_score_lem = f1_score(y_test_lem, rf_test_preds_lem)\n",
    "print('Random Forest with Lemmatization Features')\n",
    "print(\"Testing Accuracy: {:.4}\".format(rf_acc_score_lem))\n",
    "print()\n",
    "print(\"F1 Score: {:.4}\".format(rf_f1_score_lem))"
   ]
  },
  {
   "cell_type": "code",
   "execution_count": 86,
   "metadata": {},
   "outputs": [
    {
     "data": {
      "image/png": "[encoded data removed]",
      "text/plain": [
       "<Figure size 432x288 with 1 Axes>"
      ]
     },
     "metadata": {},
     "output_type": "display_data"
    }
   ],
   "source": [
    "mat = confusion_matrix(y_test_lem, rf_test_preds_lem)\n",
    "sns.heatmap(mat.T, square=True, annot=True, fmt='d', cbar=False,\n",
    "            xticklabels=['Effective', 'Not_EFfective'], yticklabels=['Effective', 'Not_Effective'])\n",
    "plt.xlabel('true label')\n",
    "plt.ylabel('predicted label');"
   ]
  },
  {
   "cell_type": "markdown",
   "metadata": {},
   "source": [
    "Using a Gradient Boost classifier"
   ]
  },
  {
   "cell_type": "code",
   "execution_count": 102,
   "metadata": {},
   "outputs": [],
   "source": [
    "gb_classifier_lem = GradientBoostingClassifier(n_estimators=100, learning_rate=.7, \n",
    "    max_depth=5, min_samples_leaf=5, random_state=6)"
   ]
  },
  {
   "cell_type": "code",
   "execution_count": 103,
   "metadata": {},
   "outputs": [],
   "source": [
    "gb_classifier_lem.fit(tfidf_data_train_lem, y_train_lem)\n",
    "\n",
    "gb_test_preds_lem = gb_classifier_lem.predict(tfidf_data_test_lem)"
   ]
  },
  {
   "cell_type": "code",
   "execution_count": 104,
   "metadata": {},
   "outputs": [
    {
     "name": "stdout",
     "output_type": "stream",
     "text": [
      "Random Forest with Lemmatization Features\n",
      "Testing Accuracy: 0.8553\n",
      "\n",
      "F1 Score: 0.9167\n"
     ]
    }
   ],
   "source": [
    "gb_acc_score_lem = accuracy_score(y_test_lem, gb_test_preds_lem)\n",
    "gb_f1_score_lem = f1_score(y_test_lem, gb_test_preds_lem)\n",
    "print('Random Forest with Lemmatization Features')\n",
    "print(\"Testing Accuracy: {:.4}\".format(gb_acc_score_lem))\n",
    "print()\n",
    "print(\"F1 Score: {:.4}\".format(gb_f1_score_lem))"
   ]
  },
  {
   "cell_type": "code",
   "execution_count": 105,
   "metadata": {},
   "outputs": [
    {
     "data": {
      "image/png": "[encoded data removed]",
      "text/plain": [
       "<Figure size 432x288 with 1 Axes>"
      ]
     },
     "metadata": {},
     "output_type": "display_data"
    }
   ],
   "source": [
    "mat = confusion_matrix(y_test_lem, gb_test_preds_lem)\n",
    "sns.heatmap(mat.T, square=True, annot=True, fmt='d', cbar=False,\n",
    "            xticklabels=['Effective', 'Not_EFfective'], yticklabels=['Effective', 'Not_Effective'])\n",
    "plt.xlabel('true label')\n",
    "plt.ylabel('predicted label');"
   ]
  },
  {
   "cell_type": "code",
   "execution_count": 110,
   "metadata": {},
   "outputs": [
    {
     "data": {
      "text/plain": [
       "array([[0.02565148, 0.97434852],\n",
       "       [0.02565148, 0.97434852],\n",
       "       [0.02565148, 0.97434852],\n",
       "       ...,\n",
       "       [0.02565148, 0.97434852],\n",
       "       [0.02565148, 0.97434852],\n",
       "       [0.02565148, 0.97434852]])"
      ]
     },
     "execution_count": 110,
     "metadata": {},
     "output_type": "execute_result"
    }
   ],
   "source": [
    "probs = gb_classifier_lem.predict_proba(tfidf_data_test_lem)\n",
    "probs"
   ]
  },
  {
   "cell_type": "code",
   "execution_count": 116,
   "metadata": {},
   "outputs": [
    {
     "data": {
      "image/png": "[encoded data removed]",
      "text/plain": [
       "<Figure size 432x288 with 1 Axes>"
      ]
     },
     "metadata": {},
     "output_type": "display_data"
    }
   ],
   "source": [
    "plt.scatter(probs[:,0], probs[:,1])\n",
    "plt.show()"
   ]
  },
  {
   "cell_type": "markdown",
   "metadata": {},
   "source": [
    "Preparing and Predicting on the Test Dataset"
   ]
  },
  {
   "cell_type": "code",
   "execution_count": null,
   "metadata": {},
   "outputs": [],
   "source": [
    "# import the test dataset\n",
    "# isolate the target and body columns\n",
    "# clean and transform the body column\n",
    "# transform the target column to 1 and 0\n",
    "# train and predict\n",
    "# evaluate"
   ]
  },
  {
   "cell_type": "markdown",
   "metadata": {},
   "source": [
    "## Using NLP to Predict Drug Effectiveness\n",
    "\n",
    "Given patient comments on treatment, can we predict the effectiveness of the treatment/drug?\n",
    "\n",
    "### Processing the Text\n",
    "\n",
    "* changing labels to 1 and 0\n",
    "* stop words removed\n",
    "* lemmatizing the text\n",
    "\n"
   ]
  },
  {
   "cell_type": "code",
   "execution_count": null,
   "metadata": {},
   "outputs": [],
   "source": []
  }
 ],
 "metadata": {
  "kernelspec": {
   "display_name": "Python 3",
   "language": "python",
   "name": "python3"
  },
  "language_info": {
   "codemirror_mode": {
    "name": "ipython",
    "version": 3
   },
   "file_extension": ".py",
   "mimetype": "text/x-python",
   "name": "python",
   "nbconvert_exporter": "python",
   "pygments_lexer": "ipython3",
   "version": "3.7.4"
  }
 },
 "nbformat": 4,
 "nbformat_minor": 4
}
