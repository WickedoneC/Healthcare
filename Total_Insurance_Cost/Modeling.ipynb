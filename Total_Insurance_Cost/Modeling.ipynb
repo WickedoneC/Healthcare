{
 "cells": [
  {
   "cell_type": "code",
   "execution_count": 1,
   "metadata": {},
   "outputs": [],
   "source": [
    "import pandas as pd\n",
    "import numpy as np\n",
    "from sklearn.model_selection import train_test_split\n",
    "from sklearn.metrics import make_scorer\n",
    "from sklearn.model_selection import GridSearchCV\n",
    "from sklearn.metrics import mean_squared_error, r2_score\n",
    "from sklearn.linear_model import LinearRegression\n",
    "from sklearn.linear_model import Lasso\n",
    "from sklearn.ensemble import GradientBoostingRegressor\n",
    "from sklearn.ensemble import RandomForestRegressor\n",
    "from sklearn.neighbors import KNeighborsRegressor\n",
    "from sklearn import svm\n",
    "from sklearn.svm import SVR\n",
    "import matplotlib.pyplot as plt\n",
    "\n",
    "%matplotlib inline\n",
    "\n",
    "\n",
    "\n",
    "### run cleaning notebook to avoid saving it as a csv\n",
    "# %run Cleaning_EDA.ipynb"
   ]
  },
  {
   "cell_type": "markdown",
   "metadata": {},
   "source": [
    "#### Running Cleaning Notebook"
   ]
  },
  {
   "cell_type": "code",
   "execution_count": 2,
   "metadata": {},
   "outputs": [
    {
     "name": "stdout",
     "output_type": "stream",
     "text": [
      "<class 'pandas.core.frame.DataFrame'>\n",
      "RangeIndex: 1254 entries, 0 to 1253\n",
      "Data columns (total 10 columns):\n",
      " #   Column                                                     Non-Null Count  Dtype \n",
      "---  ------                                                     --------------  ----- \n",
      " 0   Cancer Site                                                1254 non-null   object\n",
      " 1   Year                                                       1254 non-null   object\n",
      " 2   Sex                                                        1254 non-null   object\n",
      " 3   Age                                                        1254 non-null   object\n",
      " 4   Incidence and Survival Assumptions                         1254 non-null   object\n",
      " 5   Annual Cost Increase (applied to initial and last phases)  1254 non-null   object\n",
      " 6   Total Costs                                                1254 non-null   object\n",
      " 7   Initial Year After Diagnosis Cost                          1254 non-null   object\n",
      " 8   Continuing Phase Cost                                      1254 non-null   object\n",
      " 9   Last Year of Life Cost                                     1254 non-null   object\n",
      "dtypes: object(10)\n",
      "memory usage: 98.1+ KB\n",
      "Cervix        66\n",
      "Kidney        66\n",
      "Bladder       66\n",
      "Lung          66\n",
      "Lymphoma      66\n",
      "Prostate      66\n",
      "Melanoma      66\n",
      "Esophagus     66\n",
      "Other         66\n",
      "Head_Neck     66\n",
      "Brain         66\n",
      "AllSites      66\n",
      "Uterus        66\n",
      "Colorectal    66\n",
      "Ovary         66\n",
      "Leukemia      66\n",
      "Pancreas      66\n",
      "Breast        66\n",
      "Stomach       66\n",
      "Name: Cancer Site, dtype: int64\n",
      "2015    114\n",
      "2010    114\n",
      "2019    114\n",
      "2020    114\n",
      "2018    114\n",
      "2016    114\n",
      "2014    114\n",
      "2017    114\n",
      "2012    114\n",
      "2011    114\n",
      "2013    114\n",
      "Name: Year, dtype: int64\n",
      "Both sexes    990\n",
      "Females       198\n",
      "Males          66\n",
      "Name: Sex, dtype: int64\n",
      "All ages    1254\n",
      "Name: Age, dtype: int64\n",
      "Incidence, Survival follow recent trends             627\n",
      "Survival follows recent trend, Incidence constant    209\n",
      "Incidence, Survival at constant rate                 209\n",
      "Incidence follows recent trend, Survival constant    209\n",
      "Name: Incidence and Survival Assumptions, dtype: int64\n",
      "0%    836\n",
      "5%    209\n",
      "2%    209\n",
      "Name: Annual Cost Increase (applied to initial and last phases), dtype: int64\n",
      "2\n",
      "2\n",
      "0    836\n",
      "2    209\n",
      "5    209\n",
      "Name: Annual Cost Increase (applied to initial and last phases), dtype: int64\n",
      "<class 'pandas.core.frame.DataFrame'>\n",
      "RangeIndex: 1254 entries, 0 to 1253\n",
      "Data columns (total 10 columns):\n",
      " #   Column                                                     Non-Null Count  Dtype  \n",
      "---  ------                                                     --------------  -----  \n",
      " 0   Cancer Site                                                1254 non-null   object \n",
      " 1   Year                                                       1254 non-null   object \n",
      " 2   Sex                                                        1254 non-null   object \n",
      " 3   Age                                                        1254 non-null   object \n",
      " 4   Incidence and Survival Assumptions                         1254 non-null   object \n",
      " 5   Annual Cost Increase (applied to initial and last phases)  1254 non-null   float64\n",
      " 6   Total Costs                                                1254 non-null   float64\n",
      " 7   Initial Year After Diagnosis Cost                          1254 non-null   float64\n",
      " 8   Continuing Phase Cost                                      1254 non-null   float64\n",
      " 9   Last Year of Life Cost                                     1254 non-null   float64\n",
      "dtypes: float64(5), object(5)\n",
      "memory usage: 98.1+ KB\n",
      "Total Costs Average: 15221.008851674627\n",
      "Initial Cost Average: 4677.50574162679\n",
      "Total Costs Average by Year:\n",
      "Initial Costs Average by Year:\n",
      "Initial Cost to Total Costs Ratio:\n",
      "Total Costs Average by Site:\n",
      "Cancer Site\n",
      "AllSites      144599.589394\n",
      "Other          25519.486364\n",
      "Breast         18525.166667\n",
      "Colorectal     15131.101515\n",
      "Lymphoma       14252.680303\n",
      "Prostate       13977.395455\n",
      "Lung           13113.968182\n",
      "Leukemia        6373.959091\n",
      "Brain           5280.210606\n",
      "Ovary           5200.456061\n",
      "Kidney          5045.562121\n",
      "Bladder         4368.340909\n",
      "Head_Neck       3947.369697\n",
      "Melanoma        3058.759091\n",
      "Uterus          2840.590909\n",
      "Pancreas        2826.672727\n",
      "Stomach         1982.736364\n",
      "Esophagus       1713.387879\n",
      "Cervix          1441.734848\n",
      "Name: Total Costs, dtype: float64\n",
      "\n",
      "\n",
      "Initial Cost Average by Site:\n",
      "Cancer Site\n",
      "AllSites      44436.300000\n",
      "Breast         6441.813636\n",
      "Colorectal     6114.137879\n",
      "Lung           5519.134848\n",
      "Prostate       5357.566667\n",
      "Other          4688.096970\n",
      "Lymphoma       3604.862121\n",
      "Pancreas       1681.503030\n",
      "Kidney         1555.842424\n",
      "Brain          1411.780303\n",
      "Uterus         1180.363636\n",
      "Ovary          1165.466667\n",
      "Head_Neck      1131.671212\n",
      "Bladder        1074.792424\n",
      "Leukemia        882.762121\n",
      "Stomach         859.900000\n",
      "Melanoma        681.112121\n",
      "Esophagus       673.792424\n",
      "Cervix          411.710606\n",
      "Name: Initial Year After Diagnosis Cost, dtype: float64\n",
      "Initial Cost to Total Costs Ratio by Site:\n",
      "Cancer Site\n",
      "Pancreas      0.594870\n",
      "Stomach       0.433694\n",
      "Lung          0.420859\n",
      "Uterus        0.415535\n",
      "Colorectal    0.404078\n",
      "Esophagus     0.393252\n",
      "Prostate      0.383302\n",
      "Breast        0.347733\n",
      "Kidney        0.308359\n",
      "AllSites      0.307306\n",
      "Head_Neck     0.286690\n",
      "Cervix        0.285566\n",
      "Brain         0.267372\n",
      "Lymphoma      0.252925\n",
      "Bladder       0.246041\n",
      "Ovary         0.224109\n",
      "Melanoma      0.222676\n",
      "Other         0.183707\n",
      "Leukemia      0.138495\n",
      "dtype: float64\n",
      "Total Costs Average by Incidence and Survival Assumption:\n",
      "Incidence and Survival Assumptions\n",
      "Incidence, Survival follow recent trends             15688.738596\n",
      "Survival follows recent trend, Incidence constant    15211.977990\n",
      "Incidence, Survival at constant rate                 14828.424402\n",
      "Incidence follows recent trend, Survival constant    14219.434928\n",
      "Name: Total Costs, dtype: float64\n",
      "\n",
      "\n",
      "Initial Cost Average by Incidence and Survival Assumption:\n",
      "Incidence and Survival Assumptions\n",
      "Incidence, Survival follow recent trends             4828.202711\n",
      "Incidence, Survival at constant rate                 4663.590431\n",
      "Survival follows recent trend, Incidence constant    4663.590431\n",
      "Incidence follows recent trend, Survival constant    4253.245455\n",
      "Name: Initial Year After Diagnosis Cost, dtype: float64\n",
      "Total Costs Average by Cost Increase:\n",
      "Annual Cost Increase (applied to initial and last phases)\n",
      "5.0    17009.995694\n",
      "2.0    15468.967943\n",
      "0.0    14711.772368\n",
      "Name: Total Costs, dtype: float64\n",
      "\n",
      "\n",
      "Initial Cost Average by Cost Increase:\n",
      "Annual Cost Increase (applied to initial and last phases)\n",
      "5.0    5517.673206\n",
      "2.0    4713.689474\n",
      "0.0    4458.417943\n",
      "Name: Initial Year After Diagnosis Cost, dtype: float64\n",
      "Total Costs Average by Sex:\n",
      "Sex\n",
      "Both sexes    16670.294343\n",
      "Males         13977.395455\n",
      "Females        8389.119192\n",
      "Name: Total Costs, dtype: float64\n",
      "\n",
      "\n",
      "Initial Cost Average by Sex:\n",
      "Sex\n",
      "Males         5357.566667\n",
      "Both sexes    5033.070101\n",
      "Females       2672.996970\n",
      "Name: Initial Year After Diagnosis Cost, dtype: float64\n"
     ]
    },
    {
     "data": {
      "image/png": "[encoded data removed]",
      "text/plain": [
       "<Figure size 432x288 with 1 Axes>"
      ]
     },
     "metadata": {
      "needs_background": "light"
     },
     "output_type": "display_data"
    },
    {
     "data": {
      "image/png": "[encoded data removed]",
      "text/plain": [
       "<Figure size 432x288 with 1 Axes>"
      ]
     },
     "metadata": {
      "needs_background": "light"
     },
     "output_type": "display_data"
    },
    {
     "data": {
      "image/png": "[encoded data removed]",
      "text/plain": [
       "<Figure size 432x288 with 1 Axes>"
      ]
     },
     "metadata": {
      "needs_background": "light"
     },
     "output_type": "display_data"
    },
    {
     "data": {
      "image/png": "[encoded data removed]",
      "text/plain": [
       "<Figure size 432x288 with 1 Axes>"
      ]
     },
     "metadata": {
      "needs_background": "light"
     },
     "output_type": "display_data"
    },
    {
     "data": {
      "image/png": "[encoded data removed]",
      "text/plain": [
       "<Figure size 432x288 with 1 Axes>"
      ]
     },
     "metadata": {
      "needs_background": "light"
     },
     "output_type": "display_data"
    },
    {
     "data": {
      "image/png": "[encoded data removed]",
      "text/plain": [
       "<Figure size 432x288 with 1 Axes>"
      ]
     },
     "metadata": {
      "needs_background": "light"
     },
     "output_type": "display_data"
    },
    {
     "data": {
      "image/png": "[encoded data removed]",
      "text/plain": [
       "<Figure size 432x288 with 1 Axes>"
      ]
     },
     "metadata": {},
     "output_type": "display_data"
    },
    {
     "data": {
      "image/png": "[encoded data removed]",
      "text/plain": [
       "<Figure size 432x288 with 1 Axes>"
      ]
     },
     "metadata": {},
     "output_type": "display_data"
    },
    {
     "data": {
      "image/png": "[encoded data removed]",
      "text/plain": [
       "<Figure size 432x288 with 1 Axes>"
      ]
     },
     "metadata": {},
     "output_type": "display_data"
    },
    {
     "name": "stdout",
     "output_type": "stream",
     "text": [
      "<class 'pandas.core.frame.DataFrame'>\n",
      "RangeIndex: 1254 entries, 0 to 1253\n",
      "Data columns (total 9 columns):\n",
      " #   Column                                                     Non-Null Count  Dtype  \n",
      "---  ------                                                     --------------  -----  \n",
      " 0   Cancer Site                                                1254 non-null   object \n",
      " 1   Year                                                       1254 non-null   object \n",
      " 2   Sex                                                        1254 non-null   object \n",
      " 3   Incidence and Survival Assumptions                         1254 non-null   object \n",
      " 4   Annual Cost Increase (applied to initial and last phases)  1254 non-null   float64\n",
      " 5   Total Costs                                                1254 non-null   float64\n",
      " 6   Initial Year After Diagnosis Cost                          1254 non-null   float64\n",
      " 7   Continuing Phase Cost                                      1254 non-null   float64\n",
      " 8   Last Year of Life Cost                                     1254 non-null   float64\n",
      "dtypes: float64(5), object(4)\n",
      "memory usage: 88.3+ KB\n",
      "<class 'pandas.core.frame.DataFrame'>\n",
      "RangeIndex: 1254 entries, 0 to 1253\n",
      "Data columns (total 7 columns):\n",
      " #   Column                                                     Non-Null Count  Dtype  \n",
      "---  ------                                                     --------------  -----  \n",
      " 0   Cancer Site                                                1254 non-null   object \n",
      " 1   Year                                                       1254 non-null   object \n",
      " 2   Sex                                                        1254 non-null   object \n",
      " 3   Incidence and Survival Assumptions                         1254 non-null   object \n",
      " 4   Annual Cost Increase (applied to initial and last phases)  1254 non-null   float64\n",
      " 5   Initial Year After Diagnosis Cost                          1254 non-null   float64\n",
      " 6   Initial Cost Squared                                       1254 non-null   float64\n",
      "dtypes: float64(3), object(4)\n",
      "memory usage: 68.7+ KB\n",
      "<class 'pandas.core.frame.DataFrame'>\n",
      "RangeIndex: 1254 entries, 0 to 1253\n",
      "Data columns (total 8 columns):\n",
      " #   Column                                                     Non-Null Count  Dtype  \n",
      "---  ------                                                     --------------  -----  \n",
      " 0   Cancer Site                                                1254 non-null   object \n",
      " 1   Year                                                       1254 non-null   object \n",
      " 2   Sex                                                        1254 non-null   object \n",
      " 3   Incidence and Survival Assumptions                         1254 non-null   object \n",
      " 4   Annual Cost Increase (applied to initial and last phases)  1254 non-null   float64\n",
      " 5   Initial Year After Diagnosis Cost                          1254 non-null   float64\n",
      " 6   Initial Cost Squared                                       1254 non-null   float64\n",
      " 7   Annual Cost Increase - Cat                                 1254 non-null   object \n",
      "dtypes: float64(3), object(5)\n",
      "memory usage: 78.5+ KB\n",
      "<class 'pandas.core.frame.DataFrame'>\n",
      "RangeIndex: 1254 entries, 0 to 1253\n",
      "Data columns (total 8 columns):\n",
      " #   Column                                                     Non-Null Count  Dtype  \n",
      "---  ------                                                     --------------  -----  \n",
      " 0   Cancer Site                                                1254 non-null   object \n",
      " 1   Year                                                       1254 non-null   object \n",
      " 2   Sex                                                        1254 non-null   object \n",
      " 3   Incidence and Survival Assumptions                         1254 non-null   object \n",
      " 4   Annual Cost Increase (applied to initial and last phases)  1254 non-null   float64\n",
      " 5   Initial Year After Diagnosis Cost                          1254 non-null   float64\n",
      " 6   Initial Cost Squared                                       1254 non-null   float64\n",
      " 7   Annual Cost Increase - Cat                                 1254 non-null   object \n",
      "dtypes: float64(3), object(5)\n",
      "memory usage: 78.5+ KB\n",
      "<class 'pandas.core.frame.DataFrame'>\n",
      "RangeIndex: 1254 entries, 0 to 1253\n",
      "Data columns (total 19 columns):\n",
      " #   Column                                                     Non-Null Count  Dtype  \n",
      "---  ------                                                     --------------  -----  \n",
      " 0   Cancer Site                                                1254 non-null   object \n",
      " 1   Sex                                                        1254 non-null   object \n",
      " 2   Incidence and Survival Assumptions                         1254 non-null   object \n",
      " 3   Annual Cost Increase (applied to initial and last phases)  1254 non-null   float64\n",
      " 4   Initial Year After Diagnosis Cost                          1254 non-null   float64\n",
      " 5   Initial Cost Squared                                       1254 non-null   float64\n",
      " 6   Annual Cost Increase - Cat                                 1254 non-null   object \n",
      " 7   2010                                                       1254 non-null   float64\n",
      " 8   2011                                                       1254 non-null   float64\n",
      " 9   2012                                                       1254 non-null   float64\n",
      " 10  2013                                                       1254 non-null   float64\n",
      " 11  2014                                                       1254 non-null   float64\n",
      " 12  2015                                                       1254 non-null   float64\n",
      " 13  2016                                                       1254 non-null   float64\n",
      " 14  2017                                                       1254 non-null   float64\n",
      " 15  2018                                                       1254 non-null   float64\n",
      " 16  2019                                                       1254 non-null   float64\n",
      " 17  2020                                                       1254 non-null   float64\n",
      " 18  2021                                                       1254 non-null   float64\n",
      "dtypes: float64(15), object(4)\n",
      "memory usage: 186.3+ KB\n",
      "<class 'pandas.core.frame.DataFrame'>\n",
      "RangeIndex: 1254 entries, 0 to 1253\n",
      "Data columns (total 40 columns):\n",
      " #   Column                                                                                Non-Null Count  Dtype  \n",
      "---  ------                                                                                --------------  -----  \n",
      " 0   Annual Cost Increase (applied to initial and last phases)                             1254 non-null   float64\n",
      " 1   Initial Year After Diagnosis Cost                                                     1254 non-null   float64\n",
      " 2   Initial Cost Squared                                                                  1254 non-null   float64\n",
      " 3   2010                                                                                  1254 non-null   float64\n",
      " 4   2011                                                                                  1254 non-null   float64\n",
      " 5   2012                                                                                  1254 non-null   float64\n",
      " 6   2013                                                                                  1254 non-null   float64\n",
      " 7   2014                                                                                  1254 non-null   float64\n",
      " 8   2015                                                                                  1254 non-null   float64\n",
      " 9   2016                                                                                  1254 non-null   float64\n",
      " 10  2017                                                                                  1254 non-null   float64\n",
      " 11  2018                                                                                  1254 non-null   float64\n",
      " 12  2019                                                                                  1254 non-null   float64\n",
      " 13  2020                                                                                  1254 non-null   float64\n",
      " 14  2021                                                                                  1254 non-null   float64\n",
      " 15  Cancer Site_Bladder                                                                   1254 non-null   uint8  \n",
      " 16  Cancer Site_Brain                                                                     1254 non-null   uint8  \n",
      " 17  Cancer Site_Breast                                                                    1254 non-null   uint8  \n",
      " 18  Cancer Site_Cervix                                                                    1254 non-null   uint8  \n",
      " 19  Cancer Site_Colorectal                                                                1254 non-null   uint8  \n",
      " 20  Cancer Site_Esophagus                                                                 1254 non-null   uint8  \n",
      " 21  Cancer Site_Head_Neck                                                                 1254 non-null   uint8  \n",
      " 22  Cancer Site_Kidney                                                                    1254 non-null   uint8  \n",
      " 23  Cancer Site_Leukemia                                                                  1254 non-null   uint8  \n",
      " 24  Cancer Site_Lung                                                                      1254 non-null   uint8  \n",
      " 25  Cancer Site_Lymphoma                                                                  1254 non-null   uint8  \n",
      " 26  Cancer Site_Melanoma                                                                  1254 non-null   uint8  \n",
      " 27  Cancer Site_Other                                                                     1254 non-null   uint8  \n",
      " 28  Cancer Site_Ovary                                                                     1254 non-null   uint8  \n",
      " 29  Cancer Site_Pancreas                                                                  1254 non-null   uint8  \n",
      " 30  Cancer Site_Prostate                                                                  1254 non-null   uint8  \n",
      " 31  Cancer Site_Stomach                                                                   1254 non-null   uint8  \n",
      " 32  Cancer Site_Uterus                                                                    1254 non-null   uint8  \n",
      " 33  Sex_Females                                                                           1254 non-null   uint8  \n",
      " 34  Sex_Males                                                                             1254 non-null   uint8  \n",
      " 35  Incidence and Survival Assumptions_Incidence, Survival at constant rate               1254 non-null   uint8  \n",
      " 36  Incidence and Survival Assumptions_Incidence, Survival follow recent trends           1254 non-null   uint8  \n",
      " 37  Incidence and Survival Assumptions_Survival follows recent trend, Incidence constant  1254 non-null   uint8  \n",
      " 38  Annual Cost Increase - Cat_2.0                                                        1254 non-null   uint8  \n",
      " 39  Annual Cost Increase - Cat_5.0                                                        1254 non-null   uint8  \n",
      "dtypes: float64(15), uint8(25)\n",
      "memory usage: 177.7 KB\n"
     ]
    }
   ],
   "source": [
    "### run cleaning notebook to avoid saving it as a csv\n",
    "%run Cleaning_EDA.ipynb"
   ]
  },
  {
   "cell_type": "code",
   "execution_count": 3,
   "metadata": {},
   "outputs": [
    {
     "data": {
      "text/plain": [
       "0    124565.6\n",
       "1    122420.8\n",
       "2    125397.7\n",
       "Name: Total Costs, dtype: float64"
      ]
     },
     "execution_count": 3,
     "metadata": {},
     "output_type": "execute_result"
    }
   ],
   "source": [
    "# x, y variables:\n",
    "total_costs_label.head(3)"
   ]
  },
  {
   "cell_type": "code",
   "execution_count": 4,
   "metadata": {},
   "outputs": [
    {
     "data": {
      "text/html": [
       "<div>\n",
       "<style scoped>\n",
       "    .dataframe tbody tr th:only-of-type {\n",
       "        vertical-align: middle;\n",
       "    }\n",
       "\n",
       "    .dataframe tbody tr th {\n",
       "        vertical-align: top;\n",
       "    }\n",
       "\n",
       "    .dataframe thead th {\n",
       "        text-align: right;\n",
       "    }\n",
       "</style>\n",
       "<table border=\"1\" class=\"dataframe\">\n",
       "  <thead>\n",
       "    <tr style=\"text-align: right;\">\n",
       "      <th></th>\n",
       "      <th>Annual Cost Increase (applied to initial and last phases)</th>\n",
       "      <th>Initial Year After Diagnosis Cost</th>\n",
       "      <th>Initial Cost Squared</th>\n",
       "      <th>2010</th>\n",
       "      <th>2011</th>\n",
       "      <th>2012</th>\n",
       "      <th>2013</th>\n",
       "      <th>2014</th>\n",
       "      <th>2015</th>\n",
       "      <th>2016</th>\n",
       "      <th>...</th>\n",
       "      <th>Cancer Site_Prostate</th>\n",
       "      <th>Cancer Site_Stomach</th>\n",
       "      <th>Cancer Site_Uterus</th>\n",
       "      <th>Sex_Females</th>\n",
       "      <th>Sex_Males</th>\n",
       "      <th>Incidence and Survival Assumptions_Incidence, Survival at constant rate</th>\n",
       "      <th>Incidence and Survival Assumptions_Incidence, Survival follow recent trends</th>\n",
       "      <th>Incidence and Survival Assumptions_Survival follows recent trend, Incidence constant</th>\n",
       "      <th>Annual Cost Increase - Cat_2.0</th>\n",
       "      <th>Annual Cost Increase - Cat_5.0</th>\n",
       "    </tr>\n",
       "  </thead>\n",
       "  <tbody>\n",
       "    <tr>\n",
       "      <th>0</th>\n",
       "      <td>0.0</td>\n",
       "      <td>0.585875</td>\n",
       "      <td>0.345305</td>\n",
       "      <td>1.0</td>\n",
       "      <td>0.0</td>\n",
       "      <td>0.0</td>\n",
       "      <td>0.0</td>\n",
       "      <td>0.0</td>\n",
       "      <td>0.0</td>\n",
       "      <td>0.0</td>\n",
       "      <td>...</td>\n",
       "      <td>0</td>\n",
       "      <td>0</td>\n",
       "      <td>0</td>\n",
       "      <td>0</td>\n",
       "      <td>0</td>\n",
       "      <td>1</td>\n",
       "      <td>0</td>\n",
       "      <td>0</td>\n",
       "      <td>0</td>\n",
       "      <td>0</td>\n",
       "    </tr>\n",
       "    <tr>\n",
       "      <th>1</th>\n",
       "      <td>0.0</td>\n",
       "      <td>0.558006</td>\n",
       "      <td>0.313461</td>\n",
       "      <td>1.0</td>\n",
       "      <td>0.0</td>\n",
       "      <td>0.0</td>\n",
       "      <td>0.0</td>\n",
       "      <td>0.0</td>\n",
       "      <td>0.0</td>\n",
       "      <td>0.0</td>\n",
       "      <td>...</td>\n",
       "      <td>0</td>\n",
       "      <td>0</td>\n",
       "      <td>0</td>\n",
       "      <td>0</td>\n",
       "      <td>0</td>\n",
       "      <td>0</td>\n",
       "      <td>0</td>\n",
       "      <td>0</td>\n",
       "      <td>0</td>\n",
       "      <td>0</td>\n",
       "    </tr>\n",
       "    <tr>\n",
       "      <th>2</th>\n",
       "      <td>0.0</td>\n",
       "      <td>0.585875</td>\n",
       "      <td>0.345305</td>\n",
       "      <td>1.0</td>\n",
       "      <td>0.0</td>\n",
       "      <td>0.0</td>\n",
       "      <td>0.0</td>\n",
       "      <td>0.0</td>\n",
       "      <td>0.0</td>\n",
       "      <td>0.0</td>\n",
       "      <td>...</td>\n",
       "      <td>0</td>\n",
       "      <td>0</td>\n",
       "      <td>0</td>\n",
       "      <td>0</td>\n",
       "      <td>0</td>\n",
       "      <td>0</td>\n",
       "      <td>0</td>\n",
       "      <td>1</td>\n",
       "      <td>0</td>\n",
       "      <td>0</td>\n",
       "    </tr>\n",
       "  </tbody>\n",
       "</table>\n",
       "<p>3 rows × 40 columns</p>\n",
       "</div>"
      ],
      "text/plain": [
       "   Annual Cost Increase (applied to initial and last phases)  \\\n",
       "0                                                0.0           \n",
       "1                                                0.0           \n",
       "2                                                0.0           \n",
       "\n",
       "   Initial Year After Diagnosis Cost  Initial Cost Squared  2010  2011  2012  \\\n",
       "0                           0.585875              0.345305   1.0   0.0   0.0   \n",
       "1                           0.558006              0.313461   1.0   0.0   0.0   \n",
       "2                           0.585875              0.345305   1.0   0.0   0.0   \n",
       "\n",
       "   2013  2014  2015  2016  ...  Cancer Site_Prostate  Cancer Site_Stomach  \\\n",
       "0   0.0   0.0   0.0   0.0  ...                     0                    0   \n",
       "1   0.0   0.0   0.0   0.0  ...                     0                    0   \n",
       "2   0.0   0.0   0.0   0.0  ...                     0                    0   \n",
       "\n",
       "   Cancer Site_Uterus  Sex_Females  Sex_Males  \\\n",
       "0                   0            0          0   \n",
       "1                   0            0          0   \n",
       "2                   0            0          0   \n",
       "\n",
       "   Incidence and Survival Assumptions_Incidence, Survival at constant rate  \\\n",
       "0                                                  1                         \n",
       "1                                                  0                         \n",
       "2                                                  0                         \n",
       "\n",
       "   Incidence and Survival Assumptions_Incidence, Survival follow recent trends  \\\n",
       "0                                                  0                             \n",
       "1                                                  0                             \n",
       "2                                                  0                             \n",
       "\n",
       "   Incidence and Survival Assumptions_Survival follows recent trend, Incidence constant  \\\n",
       "0                                                  0                                      \n",
       "1                                                  0                                      \n",
       "2                                                  1                                      \n",
       "\n",
       "   Annual Cost Increase - Cat_2.0  Annual Cost Increase - Cat_5.0  \n",
       "0                               0                               0  \n",
       "1                               0                               0  \n",
       "2                               0                               0  \n",
       "\n",
       "[3 rows x 40 columns]"
      ]
     },
     "execution_count": 4,
     "metadata": {},
     "output_type": "execute_result"
    }
   ],
   "source": [
    "data_frame.head(3)"
   ]
  },
  {
   "cell_type": "code",
   "execution_count": 5,
   "metadata": {},
   "outputs": [],
   "source": [
    "X = data_frame\n",
    "y = total_costs_label"
   ]
  },
  {
   "cell_type": "code",
   "execution_count": 6,
   "metadata": {},
   "outputs": [
    {
     "name": "stdout",
     "output_type": "stream",
     "text": [
      "Training Set: 940 rows\n",
      "Test Set: 314 rows\n",
      "940 314\n"
     ]
    }
   ],
   "source": [
    "# Split data 70%-30% into training set and test set\n",
    "X_train, X_test, y_train, y_test = train_test_split(X, y, test_size=0.25, random_state=3)\n",
    "\n",
    "print ('Training Set: %d rows\\nTest Set: %d rows' % (X_train.shape[0], X_test.shape[0]))\n",
    "print(len(y_train), len(y_test))"
   ]
  },
  {
   "cell_type": "code",
   "execution_count": 7,
   "metadata": {},
   "outputs": [],
   "source": [
    "# linear as baseline\n",
    "# lasso regression\n",
    "# gradient boost\n",
    "# random forest\n",
    "# knn\n",
    "# svm\n",
    "\n",
    "# grid search"
   ]
  },
  {
   "cell_type": "code",
   "execution_count": null,
   "metadata": {},
   "outputs": [],
   "source": []
  },
  {
   "cell_type": "markdown",
   "metadata": {},
   "source": [
    "#### Using Linear Regression as the Baseline Model"
   ]
  },
  {
   "cell_type": "code",
   "execution_count": 8,
   "metadata": {},
   "outputs": [],
   "source": [
    "lin_reg = LinearRegression().fit(X_train, y_train)"
   ]
  },
  {
   "cell_type": "code",
   "execution_count": 9,
   "metadata": {},
   "outputs": [
    {
     "name": "stdout",
     "output_type": "stream",
     "text": [
      "Predicted labels:  [  5312. 134872.   4904.  26409.   6756.   2617.  15444.  13725.   1824.\n",
      "   1789.]\n",
      "Actual labels   :  471       4912.9\n",
      "119     129776.9\n",
      "877       4598.9\n",
      "682      26827.7\n",
      "1106      6158.7\n",
      "953       2544.5\n",
      "1116     15816.9\n",
      "603      13930.6\n",
      "540       2493.4\n",
      "721       1552.2\n",
      "Name: Total Costs, dtype: float64\n"
     ]
    }
   ],
   "source": [
    "lin_preds = lin_reg.predict(X_test)\n",
    "\n",
    "np.set_printoptions(suppress=True)\n",
    "print('Predicted labels: ', np.round(lin_preds)[:10])\n",
    "print('Actual labels   : ' ,y_test[:10])"
   ]
  },
  {
   "cell_type": "code",
   "execution_count": 10,
   "metadata": {},
   "outputs": [
    {
     "name": "stdout",
     "output_type": "stream",
     "text": [
      "MSE: 1598331.8752690216\n"
     ]
    }
   ],
   "source": [
    "mse = mean_squared_error(y_test, lin_preds)\n",
    "print(\"MSE:\", mse)"
   ]
  },
  {
   "cell_type": "code",
   "execution_count": 11,
   "metadata": {},
   "outputs": [
    {
     "name": "stdout",
     "output_type": "stream",
     "text": [
      "RMSE:  1264.2515079164516\n"
     ]
    }
   ],
   "source": [
    "rmse = np.sqrt(mse)\n",
    "print('RMSE: ', rmse)"
   ]
  },
  {
   "cell_type": "code",
   "execution_count": 12,
   "metadata": {},
   "outputs": [
    {
     "name": "stdout",
     "output_type": "stream",
     "text": [
      "R2:  0.9982060095518372\n"
     ]
    }
   ],
   "source": [
    "r2 = r2_score(y_test, lin_preds)\n",
    "print('R2: ', r2)"
   ]
  },
  {
   "cell_type": "code",
   "execution_count": 13,
   "metadata": {},
   "outputs": [
    {
     "data": {
      "image/png": "[encoded data removed]",
      "text/plain": [
       "<Figure size 432x288 with 1 Axes>"
      ]
     },
     "metadata": {
      "needs_background": "light"
     },
     "output_type": "display_data"
    }
   ],
   "source": [
    "# Plot predicted vs actual\n",
    "plt.scatter(y_test, lin_preds)\n",
    "plt.xlabel('Actual Labels')\n",
    "plt.ylabel('Predicted Labels')\n",
    "plt.title('Linear Regression Predictions')\n",
    "# overlay the regression line\n",
    "z = np.polyfit(y_test, lin_preds, 1)\n",
    "p = np.poly1d(z)\n",
    "plt.plot(y_test,p(y_test), color='magenta')\n",
    "plt.show()"
   ]
  },
  {
   "cell_type": "code",
   "execution_count": null,
   "metadata": {},
   "outputs": [],
   "source": []
  },
  {
   "cell_type": "markdown",
   "metadata": {},
   "source": [
    "#### Lasso Regression"
   ]
  },
  {
   "cell_type": "code",
   "execution_count": 16,
   "metadata": {},
   "outputs": [
    {
     "name": "stdout",
     "output_type": "stream",
     "text": [
      "Lasso()\n"
     ]
    }
   ],
   "source": [
    "lasso_alg = Lasso().fit(X_train, y_train)\n",
    "print(lasso_alg)"
   ]
  },
  {
   "cell_type": "code",
   "execution_count": 17,
   "metadata": {},
   "outputs": [
    {
     "name": "stdout",
     "output_type": "stream",
     "text": [
      "Predicted labels:  [  5570. 133368.   4662.  26664.   6866.   2125.  15706.  13214.   1807.\n",
      "   1975.]\n",
      "Actual labels   :  471       4912.9\n",
      "119     129776.9\n",
      "877       4598.9\n",
      "682      26827.7\n",
      "1106      6158.7\n",
      "953       2544.5\n",
      "1116     15816.9\n",
      "603      13930.6\n",
      "540       2493.4\n",
      "721       1552.2\n",
      "Name: Total Costs, dtype: float64\n"
     ]
    }
   ],
   "source": [
    "lasso_preds = lasso_alg.predict(X_test)\n",
    "\n",
    "np.set_printoptions(suppress=True)\n",
    "print('Predicted labels: ', np.round(lasso_preds)[:10])\n",
    "print('Actual labels   : ' ,y_test[:10])"
   ]
  },
  {
   "cell_type": "code",
   "execution_count": 18,
   "metadata": {},
   "outputs": [
    {
     "name": "stdout",
     "output_type": "stream",
     "text": [
      "MSE: 1532001.7588454406\n",
      "RMSE:  1237.7405862479588\n",
      "R2:  0.9982804594186833\n"
     ]
    }
   ],
   "source": [
    "mse = mean_squared_error(y_test, lasso_preds)\n",
    "print(\"MSE:\", mse)\n",
    "\n",
    "rmse = np.sqrt(mse)\n",
    "print('RMSE: ', rmse)\n",
    "\n",
    "r2 = r2_score(y_test, lasso_preds)\n",
    "print('R2: ', r2)"
   ]
  },
  {
   "cell_type": "code",
   "execution_count": 19,
   "metadata": {},
   "outputs": [
    {
     "data": {
      "image/png": "[encoded data removed]",
      "text/plain": [
       "<Figure size 432x288 with 1 Axes>"
      ]
     },
     "metadata": {
      "needs_background": "light"
     },
     "output_type": "display_data"
    }
   ],
   "source": [
    "# Plot predicted vs actual\n",
    "plt.scatter(y_test, lasso_preds)\n",
    "plt.xlabel('Actual Labels')\n",
    "plt.ylabel('Predicted Labels')\n",
    "plt.title('Lasso Predictions')\n",
    "# overlay the regression line\n",
    "z = np.polyfit(y_test, lasso_preds, 1)\n",
    "p = np.poly1d(z)\n",
    "plt.plot(y_test,p(y_test), color='magenta')\n",
    "plt.show()"
   ]
  },
  {
   "cell_type": "markdown",
   "metadata": {},
   "source": [
    "#### Grid Search"
   ]
  },
  {
   "cell_type": "markdown",
   "metadata": {},
   "source": [
    "Place elsewhere or use within each run"
   ]
  },
  {
   "cell_type": "code",
   "execution_count": null,
   "metadata": {},
   "outputs": [],
   "source": [
    "## grid search\n",
    "\n",
    "\n",
    "\n",
    "# Use a Gradient Boosting algorithm\n",
    "alg = GradientBoostingRegressor()\n",
    "\n",
    "# Try these hyperparameter values\n",
    "params = {\n",
    " 'learning_rate': [0.1, 0.5, 1.0],\n",
    " 'n_estimators' : [50, 100, 150]\n",
    " }\n",
    "\n",
    "# Find the best hyperparameter combination to optimize the R2 metric\n",
    "score = make_scorer(r2_score)\n",
    "gridsearch = GridSearchCV(alg, params, scoring=score, cv=3, return_train_score=True)\n",
    "gridsearch.fit(X_train, y_train)\n",
    "print(\"Best parameter combination:\", gridsearch.best_params_, \"\\n\")\n",
    "\n",
    "# Get the best model\n",
    "model=gridsearch.best_estimator_\n",
    "print(model, \"\\n\")\n",
    "\n",
    "# Evaluate the model using the test data\n",
    "predictions = model.predict(X_test)\n",
    "mse = mean_squared_error(y_test, predictions)\n",
    "print(\"MSE:\", mse)\n",
    "rmse = np.sqrt(mse)\n",
    "print(\"RMSE:\", rmse)\n",
    "r2 = r2_score(y_test, predictions)\n",
    "print(\"R2:\", r2)\n",
    "\n",
    "# Plot predicted vs actual\n",
    "plt.scatter(y_test, predictions)\n",
    "plt.xlabel('Actual Labels')\n",
    "plt.ylabel('Predicted Labels')\n",
    "plt.title('Daily Bike Share Predictions')\n",
    "# overlay the regression line\n",
    "z = np.polyfit(y_test, predictions, 1)\n",
    "p = np.poly1d(z)\n",
    "plt.plot(y_test,p(y_test), color='magenta')\n",
    "plt.show()\n",
    "\n"
   ]
  },
  {
   "cell_type": "code",
   "execution_count": null,
   "metadata": {},
   "outputs": [],
   "source": []
  },
  {
   "cell_type": "markdown",
   "metadata": {},
   "source": [
    "#### Random Forest Regressor"
   ]
  },
  {
   "cell_type": "code",
   "execution_count": null,
   "metadata": {},
   "outputs": [],
   "source": [
    "# Random Forest regressor using GridSearch\n",
    "rf_model = RandomForestRegressor()\n",
    "\n",
    "params = {\n",
    "    '': []\n",
    "    '': []\n",
    "}\n",
    "\n",
    "# Optimizing for R2\n",
    "score = make_scorer(r2_score)\n",
    "rf_grid = GridSearchCV(rf_model, params, scoring=score, cv=5, return_train_score=True)\n",
    "rf_grid.fit(X_train, y_train)\n",
    "print(\"Best parameter combination:\", rf_grid.best_params_, \"\\n\")\n",
    "\n",
    "# Get the best model\n",
    "rf_model=rf_grid.best_estimator_\n",
    "print(model, \"\\n\")"
   ]
  },
  {
   "cell_type": "code",
   "execution_count": null,
   "metadata": {},
   "outputs": [],
   "source": [
    "rf_preds = rf_model.predict(X_test)\n",
    "\n",
    "np.set_printoptions(suppress=True)\n",
    "print('Predicted labels: ', np.round(rf_preds)[:10])\n",
    "print('Actual labels   : ' ,y_test[:10])"
   ]
  },
  {
   "cell_type": "code",
   "execution_count": null,
   "metadata": {},
   "outputs": [],
   "source": [
    "mse = mean_squared_error(y_test, rf_preds)\n",
    "print(\"MSE:\", mse)\n",
    "\n",
    "rmse = np.sqrt(mse)\n",
    "print('RMSE: ', rmse)\n",
    "\n",
    "r2 = r2_score(y_test, rf_preds)\n",
    "print('R2: ', r2)"
   ]
  },
  {
   "cell_type": "code",
   "execution_count": null,
   "metadata": {},
   "outputs": [],
   "source": [
    "# Plot predicted vs actual\n",
    "plt.scatter(y_test, rf_preds)\n",
    "plt.xlabel('Actual Labels')\n",
    "plt.ylabel('Predicted Labels')\n",
    "plt.title('Random Forest Predictions')\n",
    "# overlay the regression line\n",
    "z = np.polyfit(y_test, rf_preds, 1)\n",
    "p = np.poly1d(z)\n",
    "plt.plot(y_test,p(y_test), color='magenta')\n",
    "plt.show()"
   ]
  },
  {
   "cell_type": "code",
   "execution_count": null,
   "metadata": {},
   "outputs": [],
   "source": []
  },
  {
   "cell_type": "markdown",
   "metadata": {},
   "source": [
    "#### Gradient Boost Regressor"
   ]
  },
  {
   "cell_type": "code",
   "execution_count": null,
   "metadata": {},
   "outputs": [],
   "source": [
    "# Gradient Boosting regressor using GridSearch\n",
    "gb_model = GradientBoostingRegressor()\n",
    "\n",
    "params = {\n",
    "    '': []\n",
    "    '': []\n",
    "}\n",
    "\n",
    "# Optimizing for R2\n",
    "score = make_scorer(r2_score)\n",
    "gb_grid = GridSearchCV(gb_model, params, scoring=score, cv=5, return_train_score=True)\n",
    "gb_grid.fit(X_train, y_train)\n",
    "print(\"Best parameter combination:\", gb_grid.best_params_, \"\\n\")\n",
    "\n",
    "# Get the best model\n",
    "gb_model=gb_grid.best_estimator_\n",
    "print(model, \"\\n\")"
   ]
  },
  {
   "cell_type": "code",
   "execution_count": null,
   "metadata": {},
   "outputs": [],
   "source": [
    "gb_preds = gb_model.predict(X_test)\n",
    "\n",
    "np.set_printoptions(suppress=True)\n",
    "print('Predicted labels: ', np.round(gb_preds)[:10])\n",
    "print('Actual labels   : ' ,y_test[:10])"
   ]
  },
  {
   "cell_type": "code",
   "execution_count": null,
   "metadata": {},
   "outputs": [],
   "source": [
    "mse = mean_squared_error(y_test, gb_preds)\n",
    "print(\"MSE:\", mse)\n",
    "\n",
    "rmse = np.sqrt(mse)\n",
    "print('RMSE: ', rmse)\n",
    "\n",
    "r2 = r2_score(y_test, gb_preds)\n",
    "print('R2: ', r2)"
   ]
  },
  {
   "cell_type": "code",
   "execution_count": null,
   "metadata": {},
   "outputs": [],
   "source": [
    "# Plot predicted vs actual\n",
    "plt.scatter(y_test, gb_preds)\n",
    "plt.xlabel('Actual Labels')\n",
    "plt.ylabel('Predicted Labels')\n",
    "plt.title('Random Forest Predictions')\n",
    "# overlay the regression line\n",
    "z = np.polyfit(y_test, gb_preds, 1)\n",
    "p = np.poly1d(z)\n",
    "plt.plot(y_test,p(y_test), color='magenta')\n",
    "plt.show()"
   ]
  },
  {
   "cell_type": "code",
   "execution_count": null,
   "metadata": {},
   "outputs": [],
   "source": []
  },
  {
   "cell_type": "markdown",
   "metadata": {},
   "source": [
    "#### KNN Regressor"
   ]
  },
  {
   "cell_type": "code",
   "execution_count": null,
   "metadata": {},
   "outputs": [],
   "source": [
    "# KNN regressor using GridSearch\n",
    "# want multiple runs of multiple Ks\n",
    "\n",
    "kn_model = KNeighborRegressor()\n",
    "\n",
    "params = {\n",
    "    '': []\n",
    "    '': []\n",
    "}\n",
    "\n",
    "# Optimizing for R2\n",
    "score = make_scorer(r2_score)\n",
    "kn_grid = GridSearchCV(kn_model, params, scoring=score, cv=5, return_train_score=True)\n",
    "kn_grid.fit(X_train, y_train)\n",
    "print(\"Best parameter combination:\", kn_grid.best_params_, \"\\n\")\n",
    "\n",
    "# Get the best model\n",
    "kn_model1=kn_grid.best_estimator_\n",
    "print(model, \"\\n\")"
   ]
  },
  {
   "cell_type": "code",
   "execution_count": null,
   "metadata": {},
   "outputs": [],
   "source": [
    "# KNN regressor using GridSearch\n",
    "# want multiple runs of multiple Ks\n",
    "\n",
    "kn_model = KNeighborRegressor()\n",
    "\n",
    "params = {\n",
    "    '': []\n",
    "    '': []\n",
    "}\n",
    "\n",
    "# Optimizing for R2\n",
    "score = make_scorer(r2_score)\n",
    "kn_grid = GridSearchCV(kn_model, params, scoring=score, cv=5, return_train_score=True)\n",
    "kn_grid.fit(X_train, y_train)\n",
    "print(\"Best parameter combination:\", kn_grid.best_params_, \"\\n\")\n",
    "\n",
    "# Get the best model\n",
    "kn_model2=kn_grid.best_estimator_\n",
    "print(model, \"\\n\")"
   ]
  },
  {
   "cell_type": "code",
   "execution_count": null,
   "metadata": {},
   "outputs": [],
   "source": [
    "# KNN regressor using GridSearch\n",
    "# want multiple runs of multiple Ks\n",
    "\n",
    "kn_model = KNeighborRegressor()\n",
    "\n",
    "params = {\n",
    "    '': []\n",
    "    '': []\n",
    "}\n",
    "\n",
    "# Optimizing for R2\n",
    "score = make_scorer(r2_score)\n",
    "kn_grid = GridSearchCV(kn_model, params, scoring=score, cv=5, return_train_score=True)\n",
    "kn_grid.fit(X_train, y_train)\n",
    "print(\"Best parameter combination:\", kn_grid.best_params_, \"\\n\")\n",
    "\n",
    "# Get the best model\n",
    "kn_model3=kn_grid.best_estimator_\n",
    "print(model, \"\\n\")"
   ]
  },
  {
   "cell_type": "code",
   "execution_count": null,
   "metadata": {},
   "outputs": [],
   "source": [
    "kn_preds = kn_model'#'.predict(X_test)\n",
    "\n",
    "np.set_printoptions(suppress=True)\n",
    "print('Predicted labels: ', np.round(kn_preds)[:10])\n",
    "print('Actual labels   : ' ,y_test[:10])"
   ]
  },
  {
   "cell_type": "code",
   "execution_count": null,
   "metadata": {},
   "outputs": [],
   "source": [
    "mse = mean_squared_error(y_test, kn_preds)\n",
    "print(\"MSE:\", mse)\n",
    "\n",
    "rmse = np.sqrt(mse)\n",
    "print('RMSE: ', rmse)\n",
    "\n",
    "r2 = r2_score(y_test, kn_preds)\n",
    "print('R2: ', r2)"
   ]
  },
  {
   "cell_type": "code",
   "execution_count": null,
   "metadata": {},
   "outputs": [],
   "source": [
    "# Plot predicted vs actual\n",
    "plt.scatter(y_test, kn_preds)\n",
    "plt.xlabel('Actual Labels')\n",
    "plt.ylabel('Predicted Labels')\n",
    "plt.title('Random Forest Predictions')\n",
    "# overlay the regression line\n",
    "z = np.polyfit(y_test, kn_preds, 1)\n",
    "p = np.poly1d(z)\n",
    "plt.plot(y_test,p(y_test), color='magenta')\n",
    "plt.show()"
   ]
  },
  {
   "cell_type": "code",
   "execution_count": null,
   "metadata": {},
   "outputs": [],
   "source": [
    "A = kn_model.kneighbors_graph(X_train)\n",
    "A.toarray()\n",
    "print(kn_model.predict([[1.5]]))"
   ]
  },
  {
   "cell_type": "code",
   "execution_count": null,
   "metadata": {},
   "outputs": [],
   "source": [
    "## multiple runs\n",
    "\n",
    "neigh = KNeighborsRegressor(n_neighbors=2)\n",
    "neigh.fit(X, y)\n",
    "\n",
    "print(neigh.predict([[1.5]]))\n",
    "\n",
    "\n",
    "neigh = NearestNeighbors(n_neighbors=1)\n",
    "neigh.fit(samples)\n",
    "\n",
    "\n",
    "\n",
    "neigh = NearestNeighbors(n_neighbors=2)\n",
    "neigh.fit(X)\n",
    "\n",
    "A = neigh.kneighbors_graph(X)\n",
    "A.toarray()\n"
   ]
  },
  {
   "cell_type": "code",
   "execution_count": null,
   "metadata": {},
   "outputs": [],
   "source": []
  },
  {
   "cell_type": "markdown",
   "metadata": {},
   "source": [
    "#### SVM Regressor"
   ]
  },
  {
   "cell_type": "code",
   "execution_count": null,
   "metadata": {},
   "outputs": [],
   "source": [
    "# Gradient Boosting regressor using GridSearch\n",
    "gb_model = GradientBoostingRegressor()\n",
    "\n",
    "params = {\n",
    "    '': []\n",
    "    '': []\n",
    "}\n",
    "\n",
    "# Optimizing for R2\n",
    "score = make_scorer(r2_score)\n",
    "gb_grid = GridSearchCV(gb_model, params, scoring=score, cv=5, return_train_score=True)\n",
    "gb_grid.fit(X_train, y_train)\n",
    "print(\"Best parameter combination:\", gb_grid.best_params_, \"\\n\")\n",
    "\n",
    "# Get the best model\n",
    "gb_model=gb_grid.best_estimator_\n",
    "print(model, \"\\n\")"
   ]
  },
  {
   "cell_type": "code",
   "execution_count": null,
   "metadata": {},
   "outputs": [],
   "source": [
    "gb_preds = gb_model.predict(X_test)\n",
    "\n",
    "np.set_printoptions(suppress=True)\n",
    "print('Predicted labels: ', np.round(gb_preds)[:10])\n",
    "print('Actual labels   : ' ,y_test[:10])"
   ]
  },
  {
   "cell_type": "code",
   "execution_count": null,
   "metadata": {},
   "outputs": [],
   "source": [
    "mse = mean_squared_error(y_test, gb_preds)\n",
    "print(\"MSE:\", mse)\n",
    "\n",
    "rmse = np.sqrt(mse)\n",
    "print('RMSE: ', rmse)\n",
    "\n",
    "r2 = r2_score(y_test, gb_preds)\n",
    "print('R2: ', r2)"
   ]
  },
  {
   "cell_type": "code",
   "execution_count": null,
   "metadata": {},
   "outputs": [],
   "source": [
    "# Plot predicted vs actual\n",
    "plt.scatter(y_test, gb_preds)\n",
    "plt.xlabel('Actual Labels')\n",
    "plt.ylabel('Predicted Labels')\n",
    "plt.title('Random Forest Predictions')\n",
    "# overlay the regression line\n",
    "z = np.polyfit(y_test, gb_preds, 1)\n",
    "p = np.poly1d(z)\n",
    "plt.plot(y_test,p(y_test), color='magenta')\n",
    "plt.show()"
   ]
  },
  {
   "cell_type": "code",
   "execution_count": null,
   "metadata": {},
   "outputs": [],
   "source": [
    "# SV regressor using GridSearch\n",
    "linear_svr = svm.SVR(kernel='linear')\n",
    "linear_svr.kernel\n",
    "\n",
    "rbf_svr = svm.SVR(kernel='rbf')\n",
    "rbf_svr.kernel\n",
    "\n",
    "poly_svr = svm.SVR(kernel='poly')\n",
    "poly_svr.kernel\n"
   ]
  },
  {
   "cell_type": "code",
   "execution_count": null,
   "metadata": {},
   "outputs": [],
   "source": [
    "# SV regressor using GridSearch\n",
    "linear_svr = svm.SVR(kernel='linear')\n",
    "linear_svr.kernel\n",
    "\n",
    "rbf_svr = svm.SVR(kernel='rbf')\n",
    "rbf_svr.kernel\n",
    "\n",
    "poly_svr = svm.SVR(kernel='poly')\n",
    "poly_svr.kernel\n",
    "\n",
    "# need to create a set of parameters for each model\n",
    "# need to run a grid search for each set of parameters and each model\n",
    "params = {\n",
    "    '': []\n",
    "    '': []\n",
    "}\n",
    "\n",
    "# Optimizing for R2\n",
    "score = make_scorer(r2_score)\n",
    "gb_grid = GridSearchCV(gb_model, params, scoring=score, cv=5, return_train_score=True)\n",
    "gb_grid.fit(X_train, y_train)\n",
    "print(\"Best parameter combination:\", gb_grid.best_params_, \"\\n\")\n",
    "\n",
    "# Get the best model\n",
    "gb_model=gb_grid.best_estimator_\n",
    "print(model, \"\\n\")\n",
    "\n",
    "\n",
    "\n",
    "linear_svr = svm.SVR(kernel='linear')\n",
    "linear_svr.kernel\n",
    "\n",
    "rbf_svr = svm.SVR(kernel='rbf')\n",
    "rbf_svr.kernel\n",
    "\n",
    "poly_svr = svm.SVR(kernel='poly')\n",
    "poly_svr.kernel\n",
    "\n",
    "print(__doc__)\n",
    "\n",
    "\n",
    "# #############################################################################\n",
    "# Fit regression model\n",
    "svr_rbf = SVR(kernel='rbf', C=100, gamma=0.1, epsilon=.1)\n",
    "svr_lin = SVR(kernel='linear', C=100, gamma='auto')\n",
    "svr_poly = SVR(kernel='poly', C=100, gamma='auto', degree=3, epsilon=.1,\n",
    "               coef0=1)\n",
    "\n",
    "# #############################################################################\n",
    "# Look at the results\n",
    "lw = 2\n",
    "\n",
    "svrs = [svr_rbf, svr_lin, svr_poly]\n",
    "kernel_label = ['RBF', 'Linear', 'Polynomial']\n",
    "model_color = ['m', 'c', 'g']\n",
    "\n",
    "fig, axes = plt.subplots(nrows=1, ncols=3, figsize=(15, 10), sharey=True)\n",
    "for ix, svr in enumerate(svrs):\n",
    "    axes[ix].plot(X, svr.fit(X, y).predict(X), color=model_color[ix], lw=lw,\n",
    "                  label='{} model'.format(kernel_label[ix]))\n",
    "    axes[ix].scatter(X[svr.support_], y[svr.support_], facecolor=\"none\",\n",
    "                     edgecolor=model_color[ix], s=50,\n",
    "                     label='{} support vectors'.format(kernel_label[ix]))\n",
    "    axes[ix].scatter(X[np.setdiff1d(np.arange(len(X)), svr.support_)],\n",
    "                     y[np.setdiff1d(np.arange(len(X)), svr.support_)],\n",
    "                     facecolor=\"none\", edgecolor=\"k\", s=50,\n",
    "                     label='other training data')\n",
    "    axes[ix].legend(loc='upper center', bbox_to_anchor=(0.5, 1.1),\n",
    "                    ncol=1, fancybox=True, shadow=True)\n",
    "\n",
    "fig.text(0.5, 0.04, 'data', ha='center', va='center')\n",
    "fig.text(0.06, 0.5, 'target', ha='center', va='center', rotation='vertical')\n",
    "fig.suptitle(\"Support Vector Regression\", fontsize=14)\n",
    "plt.show()"
   ]
  }
 ],
 "metadata": {
  "kernelspec": {
   "display_name": "Python 3",
   "language": "python",
   "name": "python3"
  },
  "language_info": {
   "codemirror_mode": {
    "name": "ipython",
    "version": 3
   },
   "file_extension": ".py",
   "mimetype": "text/x-python",
   "name": "python",
   "nbconvert_exporter": "python",
   "pygments_lexer": "ipython3",
   "version": "3.7.4"
  }
 },
 "nbformat": 4,
 "nbformat_minor": 4
}
