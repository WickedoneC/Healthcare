{
 "cells": [
  {
   "cell_type": "markdown",
   "metadata": {},
   "source": [
    "Predicting total money spent on treating different cancers based on initial costs and patient demographics"
   ]
  },
  {
   "cell_type": "code",
   "execution_count": 1,
   "metadata": {},
   "outputs": [],
   "source": [
    "# https://www.kaggle.com/rishidamarla/costs-for-cancer-treatment\n",
    "# https://data.world/xprizeai-health/expenditures-for-cancer-care"
   ]
  },
  {
   "cell_type": "code",
   "execution_count": null,
   "metadata": {},
   "outputs": [],
   "source": []
  },
  {
   "cell_type": "code",
   "execution_count": 2,
   "metadata": {},
   "outputs": [],
   "source": [
    "import pandas as pd\n",
    "import numpy as np\n",
    "import matplotlib\n",
    "from matplotlib import pyplot as plt\n",
    "%matplotlib inline\n",
    "import seaborn as sns\n"
   ]
  },
  {
   "cell_type": "code",
   "execution_count": 4,
   "metadata": {},
   "outputs": [
    {
     "data": {
      "text/html": [
       "<div>\n",
       "<style scoped>\n",
       "    .dataframe tbody tr th:only-of-type {\n",
       "        vertical-align: middle;\n",
       "    }\n",
       "\n",
       "    .dataframe tbody tr th {\n",
       "        vertical-align: top;\n",
       "    }\n",
       "\n",
       "    .dataframe thead th {\n",
       "        text-align: right;\n",
       "    }\n",
       "</style>\n",
       "<table border=\"1\" class=\"dataframe\">\n",
       "  <thead>\n",
       "    <tr style=\"text-align: right;\">\n",
       "      <th></th>\n",
       "      <th>Cost of Cancer Care by Phase of Care</th>\n",
       "      <th>Unnamed: 1</th>\n",
       "      <th>Unnamed: 2</th>\n",
       "      <th>Unnamed: 3</th>\n",
       "      <th>Unnamed: 4</th>\n",
       "      <th>Unnamed: 5</th>\n",
       "      <th>Unnamed: 6</th>\n",
       "      <th>Unnamed: 7</th>\n",
       "      <th>Unnamed: 8</th>\n",
       "      <th>Unnamed: 9</th>\n",
       "    </tr>\n",
       "  </thead>\n",
       "  <tbody>\n",
       "    <tr>\n",
       "      <th>0</th>\n",
       "      <td>Costs ($) per year in millions of 2010 dollars</td>\n",
       "      <td>NaN</td>\n",
       "      <td>NaN</td>\n",
       "      <td>NaN</td>\n",
       "      <td>NaN</td>\n",
       "      <td>NaN</td>\n",
       "      <td>NaN</td>\n",
       "      <td>NaN</td>\n",
       "      <td>NaN</td>\n",
       "      <td>NaN</td>\n",
       "    </tr>\n",
       "    <tr>\n",
       "      <th>1</th>\n",
       "      <td>See http://costprojections.cancer.gov</td>\n",
       "      <td>NaN</td>\n",
       "      <td>NaN</td>\n",
       "      <td>NaN</td>\n",
       "      <td>NaN</td>\n",
       "      <td>NaN</td>\n",
       "      <td>NaN</td>\n",
       "      <td>NaN</td>\n",
       "      <td>NaN</td>\n",
       "      <td>NaN</td>\n",
       "    </tr>\n",
       "    <tr>\n",
       "      <th>2</th>\n",
       "      <td>Cancer Site</td>\n",
       "      <td>Year</td>\n",
       "      <td>Sex</td>\n",
       "      <td>Age</td>\n",
       "      <td>Incidence and Survival Assumptions</td>\n",
       "      <td>Annual Cost Increase (applied to initial and l...</td>\n",
       "      <td>Total Costs</td>\n",
       "      <td>Initial Year After Diagnosis Cost</td>\n",
       "      <td>Continuing Phase Cost</td>\n",
       "      <td>Last Year of Life Cost</td>\n",
       "    </tr>\n",
       "    <tr>\n",
       "      <th>3</th>\n",
       "      <td>AllSites</td>\n",
       "      <td>2010</td>\n",
       "      <td>Both sexes</td>\n",
       "      <td>All ages</td>\n",
       "      <td>Incidence, Survival at constant rate</td>\n",
       "      <td>0%</td>\n",
       "      <td>124565.6</td>\n",
       "      <td>40463.5</td>\n",
       "      <td>46642.8</td>\n",
       "      <td>37459.2</td>\n",
       "    </tr>\n",
       "    <tr>\n",
       "      <th>4</th>\n",
       "      <td>AllSites</td>\n",
       "      <td>2010</td>\n",
       "      <td>Both sexes</td>\n",
       "      <td>All ages</td>\n",
       "      <td>Incidence follows recent trend, Survival constant</td>\n",
       "      <td>0%</td>\n",
       "      <td>122420.8</td>\n",
       "      <td>38552.7</td>\n",
       "      <td>46671.9</td>\n",
       "      <td>37196.3</td>\n",
       "    </tr>\n",
       "  </tbody>\n",
       "</table>\n",
       "</div>"
      ],
      "text/plain": [
       "             Cost of Cancer Care by Phase of Care Unnamed: 1  Unnamed: 2  \\\n",
       "0  Costs ($) per year in millions of 2010 dollars        NaN         NaN   \n",
       "1           See http://costprojections.cancer.gov        NaN         NaN   \n",
       "2                                     Cancer Site       Year         Sex   \n",
       "3                                        AllSites       2010  Both sexes   \n",
       "4                                        AllSites       2010  Both sexes   \n",
       "\n",
       "  Unnamed: 3                                         Unnamed: 4  \\\n",
       "0        NaN                                                NaN   \n",
       "1        NaN                                                NaN   \n",
       "2        Age                 Incidence and Survival Assumptions   \n",
       "3   All ages               Incidence, Survival at constant rate   \n",
       "4   All ages  Incidence follows recent trend, Survival constant   \n",
       "\n",
       "                                          Unnamed: 5   Unnamed: 6  \\\n",
       "0                                                NaN          NaN   \n",
       "1                                                NaN          NaN   \n",
       "2  Annual Cost Increase (applied to initial and l...  Total Costs   \n",
       "3                                                 0%     124565.6   \n",
       "4                                                 0%     122420.8   \n",
       "\n",
       "                          Unnamed: 7             Unnamed: 8  \\\n",
       "0                                NaN                    NaN   \n",
       "1                                NaN                    NaN   \n",
       "2  Initial Year After Diagnosis Cost  Continuing Phase Cost   \n",
       "3                            40463.5                46642.8   \n",
       "4                            38552.7                46671.9   \n",
       "\n",
       "               Unnamed: 9  \n",
       "0                     NaN  \n",
       "1                     NaN  \n",
       "2  Last Year of Life Cost  \n",
       "3                 37459.2  \n",
       "4                 37196.3  "
      ]
     },
     "execution_count": 4,
     "metadata": {},
     "output_type": "execute_result"
    }
   ],
   "source": [
    "df = pd.read_csv('DowloadableDataFull_2011.01.12.csv')\n",
    "df.head(5)"
   ]
  },
  {
   "cell_type": "markdown",
   "metadata": {},
   "source": [
    "#### Cleaning"
   ]
  },
  {
   "cell_type": "code",
   "execution_count": 5,
   "metadata": {},
   "outputs": [],
   "source": [
    "# clearing unnecessary rows\n",
    "df = df.iloc[2:]\n",
    "\n",
    "# setting the column names\n",
    "df.columns = df.iloc[0]\n",
    "\n",
    "# dropping the extra row\n",
    "df = df.drop(df.index[0])\n",
    "\n",
    "# resetting the index to 0\n",
    "df = df.reset_index(drop=True)"
   ]
  },
  {
   "cell_type": "code",
   "execution_count": 6,
   "metadata": {},
   "outputs": [
    {
     "data": {
      "text/html": [
       "<div>\n",
       "<style scoped>\n",
       "    .dataframe tbody tr th:only-of-type {\n",
       "        vertical-align: middle;\n",
       "    }\n",
       "\n",
       "    .dataframe tbody tr th {\n",
       "        vertical-align: top;\n",
       "    }\n",
       "\n",
       "    .dataframe thead th {\n",
       "        text-align: right;\n",
       "    }\n",
       "</style>\n",
       "<table border=\"1\" class=\"dataframe\">\n",
       "  <thead>\n",
       "    <tr style=\"text-align: right;\">\n",
       "      <th>2</th>\n",
       "      <th>Cancer Site</th>\n",
       "      <th>Year</th>\n",
       "      <th>Sex</th>\n",
       "      <th>Age</th>\n",
       "      <th>Incidence and Survival Assumptions</th>\n",
       "      <th>Annual Cost Increase (applied to initial and last phases)</th>\n",
       "      <th>Total Costs</th>\n",
       "      <th>Initial Year After Diagnosis Cost</th>\n",
       "      <th>Continuing Phase Cost</th>\n",
       "      <th>Last Year of Life Cost</th>\n",
       "    </tr>\n",
       "  </thead>\n",
       "  <tbody>\n",
       "    <tr>\n",
       "      <th>0</th>\n",
       "      <td>AllSites</td>\n",
       "      <td>2010</td>\n",
       "      <td>Both sexes</td>\n",
       "      <td>All ages</td>\n",
       "      <td>Incidence, Survival at constant rate</td>\n",
       "      <td>0%</td>\n",
       "      <td>124565.6</td>\n",
       "      <td>40463.5</td>\n",
       "      <td>46642.8</td>\n",
       "      <td>37459.2</td>\n",
       "    </tr>\n",
       "    <tr>\n",
       "      <th>1</th>\n",
       "      <td>AllSites</td>\n",
       "      <td>2010</td>\n",
       "      <td>Both sexes</td>\n",
       "      <td>All ages</td>\n",
       "      <td>Incidence follows recent trend, Survival constant</td>\n",
       "      <td>0%</td>\n",
       "      <td>122420.8</td>\n",
       "      <td>38552.7</td>\n",
       "      <td>46671.9</td>\n",
       "      <td>37196.3</td>\n",
       "    </tr>\n",
       "    <tr>\n",
       "      <th>2</th>\n",
       "      <td>AllSites</td>\n",
       "      <td>2010</td>\n",
       "      <td>Both sexes</td>\n",
       "      <td>All ages</td>\n",
       "      <td>Survival follows recent trend, Incidence constant</td>\n",
       "      <td>0%</td>\n",
       "      <td>125397.7</td>\n",
       "      <td>40463.5</td>\n",
       "      <td>47136.3</td>\n",
       "      <td>37797.9</td>\n",
       "    </tr>\n",
       "    <tr>\n",
       "      <th>3</th>\n",
       "      <td>AllSites</td>\n",
       "      <td>2010</td>\n",
       "      <td>Both sexes</td>\n",
       "      <td>All ages</td>\n",
       "      <td>Incidence, Survival follow recent trends</td>\n",
       "      <td>0%</td>\n",
       "      <td>123236.3</td>\n",
       "      <td>38552.7</td>\n",
       "      <td>47155.7</td>\n",
       "      <td>37527.8</td>\n",
       "    </tr>\n",
       "    <tr>\n",
       "      <th>4</th>\n",
       "      <td>AllSites</td>\n",
       "      <td>2010</td>\n",
       "      <td>Both sexes</td>\n",
       "      <td>All ages</td>\n",
       "      <td>Incidence, Survival follow recent trends</td>\n",
       "      <td>2%</td>\n",
       "      <td>123236.3</td>\n",
       "      <td>38552.7</td>\n",
       "      <td>47155.7</td>\n",
       "      <td>37527.8</td>\n",
       "    </tr>\n",
       "  </tbody>\n",
       "</table>\n",
       "</div>"
      ],
      "text/plain": [
       "2 Cancer Site  Year         Sex       Age  \\\n",
       "0    AllSites  2010  Both sexes  All ages   \n",
       "1    AllSites  2010  Both sexes  All ages   \n",
       "2    AllSites  2010  Both sexes  All ages   \n",
       "3    AllSites  2010  Both sexes  All ages   \n",
       "4    AllSites  2010  Both sexes  All ages   \n",
       "\n",
       "2                 Incidence and Survival Assumptions  \\\n",
       "0               Incidence, Survival at constant rate   \n",
       "1  Incidence follows recent trend, Survival constant   \n",
       "2  Survival follows recent trend, Incidence constant   \n",
       "3           Incidence, Survival follow recent trends   \n",
       "4           Incidence, Survival follow recent trends   \n",
       "\n",
       "2 Annual Cost Increase (applied to initial and last phases) Total Costs  \\\n",
       "0                                                 0%           124565.6   \n",
       "1                                                 0%           122420.8   \n",
       "2                                                 0%           125397.7   \n",
       "3                                                 0%           123236.3   \n",
       "4                                                 2%           123236.3   \n",
       "\n",
       "2 Initial Year After Diagnosis Cost Continuing Phase Cost  \\\n",
       "0                           40463.5               46642.8   \n",
       "1                           38552.7               46671.9   \n",
       "2                           40463.5               47136.3   \n",
       "3                           38552.7               47155.7   \n",
       "4                           38552.7               47155.7   \n",
       "\n",
       "2 Last Year of Life Cost  \n",
       "0                37459.2  \n",
       "1                37196.3  \n",
       "2                37797.9  \n",
       "3                37527.8  \n",
       "4                37527.8  "
      ]
     },
     "execution_count": 6,
     "metadata": {},
     "output_type": "execute_result"
    }
   ],
   "source": [
    "df.head(5)"
   ]
  },
  {
   "cell_type": "code",
   "execution_count": 7,
   "metadata": {},
   "outputs": [
    {
     "data": {
      "text/html": [
       "<div>\n",
       "<style scoped>\n",
       "    .dataframe tbody tr th:only-of-type {\n",
       "        vertical-align: middle;\n",
       "    }\n",
       "\n",
       "    .dataframe tbody tr th {\n",
       "        vertical-align: top;\n",
       "    }\n",
       "\n",
       "    .dataframe thead th {\n",
       "        text-align: right;\n",
       "    }\n",
       "</style>\n",
       "<table border=\"1\" class=\"dataframe\">\n",
       "  <thead>\n",
       "    <tr style=\"text-align: right;\">\n",
       "      <th>2</th>\n",
       "      <th>Cancer Site</th>\n",
       "      <th>Year</th>\n",
       "      <th>Sex</th>\n",
       "      <th>Age</th>\n",
       "      <th>Incidence and Survival Assumptions</th>\n",
       "      <th>Annual Cost Increase (applied to initial and last phases)</th>\n",
       "      <th>Total Costs</th>\n",
       "      <th>Initial Year After Diagnosis Cost</th>\n",
       "      <th>Continuing Phase Cost</th>\n",
       "      <th>Last Year of Life Cost</th>\n",
       "    </tr>\n",
       "  </thead>\n",
       "  <tbody>\n",
       "    <tr>\n",
       "      <th>304</th>\n",
       "      <td>Melanoma</td>\n",
       "      <td>2012</td>\n",
       "      <td>Both sexes</td>\n",
       "      <td>All ages</td>\n",
       "      <td>Incidence, Survival follow recent trends</td>\n",
       "      <td>2%</td>\n",
       "      <td>2735.8</td>\n",
       "      <td>632.4</td>\n",
       "      <td>1719.2</td>\n",
       "      <td>384.2</td>\n",
       "    </tr>\n",
       "    <tr>\n",
       "      <th>109</th>\n",
       "      <td>Other</td>\n",
       "      <td>2010</td>\n",
       "      <td>Both sexes</td>\n",
       "      <td>All ages</td>\n",
       "      <td>Incidence follows recent trend, Survival constant</td>\n",
       "      <td>0%</td>\n",
       "      <td>20599.0</td>\n",
       "      <td>4430.3</td>\n",
       "      <td>10925.6</td>\n",
       "      <td>5243.1</td>\n",
       "    </tr>\n",
       "    <tr>\n",
       "      <th>220</th>\n",
       "      <td>Uterus</td>\n",
       "      <td>2011</td>\n",
       "      <td>Both sexes</td>\n",
       "      <td>All ages</td>\n",
       "      <td>Incidence, Survival follow recent trends</td>\n",
       "      <td>2%</td>\n",
       "      <td>2598.4</td>\n",
       "      <td>1036.9</td>\n",
       "      <td>787.0</td>\n",
       "      <td>774.4</td>\n",
       "    </tr>\n",
       "    <tr>\n",
       "      <th>522</th>\n",
       "      <td>Lymphoma</td>\n",
       "      <td>2014</td>\n",
       "      <td>Both sexes</td>\n",
       "      <td>All ages</td>\n",
       "      <td>Incidence, Survival at constant rate</td>\n",
       "      <td>0%</td>\n",
       "      <td>13375.1</td>\n",
       "      <td>3372.5</td>\n",
       "      <td>5418.7</td>\n",
       "      <td>4583.9</td>\n",
       "    </tr>\n",
       "    <tr>\n",
       "      <th>1078</th>\n",
       "      <td>Kidney</td>\n",
       "      <td>2019</td>\n",
       "      <td>Both sexes</td>\n",
       "      <td>All ages</td>\n",
       "      <td>Incidence, Survival follow recent trends</td>\n",
       "      <td>2%</td>\n",
       "      <td>6611.9</td>\n",
       "      <td>2124.5</td>\n",
       "      <td>2503.0</td>\n",
       "      <td>1984.4</td>\n",
       "    </tr>\n",
       "    <tr>\n",
       "      <th>744</th>\n",
       "      <td>Lung</td>\n",
       "      <td>2016</td>\n",
       "      <td>Both sexes</td>\n",
       "      <td>All ages</td>\n",
       "      <td>Incidence, Survival at constant rate</td>\n",
       "      <td>0%</td>\n",
       "      <td>13648.0</td>\n",
       "      <td>5926.7</td>\n",
       "      <td>2076.2</td>\n",
       "      <td>5645.0</td>\n",
       "    </tr>\n",
       "    <tr>\n",
       "      <th>27</th>\n",
       "      <td>Cervix</td>\n",
       "      <td>2010</td>\n",
       "      <td>Females</td>\n",
       "      <td>All ages</td>\n",
       "      <td>Incidence, Survival follow recent trends</td>\n",
       "      <td>0%</td>\n",
       "      <td>1394.4</td>\n",
       "      <td>386.0</td>\n",
       "      <td>355.7</td>\n",
       "      <td>652.6</td>\n",
       "    </tr>\n",
       "    <tr>\n",
       "      <th>979</th>\n",
       "      <td>Lymphoma</td>\n",
       "      <td>2018</td>\n",
       "      <td>Both sexes</td>\n",
       "      <td>All ages</td>\n",
       "      <td>Incidence follows recent trend, Survival constant</td>\n",
       "      <td>0%</td>\n",
       "      <td>14415.1</td>\n",
       "      <td>3488.6</td>\n",
       "      <td>5891.4</td>\n",
       "      <td>5035.1</td>\n",
       "    </tr>\n",
       "    <tr>\n",
       "      <th>285</th>\n",
       "      <td>Leukemia</td>\n",
       "      <td>2012</td>\n",
       "      <td>Both sexes</td>\n",
       "      <td>All ages</td>\n",
       "      <td>Incidence, Survival follow recent trends</td>\n",
       "      <td>0%</td>\n",
       "      <td>5631.6</td>\n",
       "      <td>781.3</td>\n",
       "      <td>2203.2</td>\n",
       "      <td>2647.1</td>\n",
       "    </tr>\n",
       "    <tr>\n",
       "      <th>1000</th>\n",
       "      <td>Pancreas</td>\n",
       "      <td>2018</td>\n",
       "      <td>Both sexes</td>\n",
       "      <td>All ages</td>\n",
       "      <td>Incidence, Survival follow recent trends</td>\n",
       "      <td>2%</td>\n",
       "      <td>3413.0</td>\n",
       "      <td>1938.7</td>\n",
       "      <td>200.1</td>\n",
       "      <td>1274.2</td>\n",
       "    </tr>\n",
       "  </tbody>\n",
       "</table>\n",
       "</div>"
      ],
      "text/plain": [
       "2    Cancer Site  Year         Sex       Age  \\\n",
       "304     Melanoma  2012  Both sexes  All ages   \n",
       "109        Other  2010  Both sexes  All ages   \n",
       "220       Uterus  2011  Both sexes  All ages   \n",
       "522     Lymphoma  2014  Both sexes  All ages   \n",
       "1078      Kidney  2019  Both sexes  All ages   \n",
       "744         Lung  2016  Both sexes  All ages   \n",
       "27        Cervix  2010     Females  All ages   \n",
       "979     Lymphoma  2018  Both sexes  All ages   \n",
       "285     Leukemia  2012  Both sexes  All ages   \n",
       "1000    Pancreas  2018  Both sexes  All ages   \n",
       "\n",
       "2                    Incidence and Survival Assumptions  \\\n",
       "304            Incidence, Survival follow recent trends   \n",
       "109   Incidence follows recent trend, Survival constant   \n",
       "220            Incidence, Survival follow recent trends   \n",
       "522                Incidence, Survival at constant rate   \n",
       "1078           Incidence, Survival follow recent trends   \n",
       "744                Incidence, Survival at constant rate   \n",
       "27             Incidence, Survival follow recent trends   \n",
       "979   Incidence follows recent trend, Survival constant   \n",
       "285            Incidence, Survival follow recent trends   \n",
       "1000           Incidence, Survival follow recent trends   \n",
       "\n",
       "2    Annual Cost Increase (applied to initial and last phases) Total Costs  \\\n",
       "304                                                  2%             2735.8   \n",
       "109                                                  0%            20599.0   \n",
       "220                                                  2%             2598.4   \n",
       "522                                                  0%            13375.1   \n",
       "1078                                                 2%             6611.9   \n",
       "744                                                  0%            13648.0   \n",
       "27                                                   0%             1394.4   \n",
       "979                                                  0%            14415.1   \n",
       "285                                                  0%             5631.6   \n",
       "1000                                                 2%             3413.0   \n",
       "\n",
       "2    Initial Year After Diagnosis Cost Continuing Phase Cost  \\\n",
       "304                              632.4                1719.2   \n",
       "109                             4430.3               10925.6   \n",
       "220                             1036.9                 787.0   \n",
       "522                             3372.5                5418.7   \n",
       "1078                            2124.5                2503.0   \n",
       "744                             5926.7                2076.2   \n",
       "27                               386.0                 355.7   \n",
       "979                             3488.6                5891.4   \n",
       "285                              781.3                2203.2   \n",
       "1000                            1938.7                 200.1   \n",
       "\n",
       "2    Last Year of Life Cost  \n",
       "304                   384.2  \n",
       "109                  5243.1  \n",
       "220                   774.4  \n",
       "522                  4583.9  \n",
       "1078                 1984.4  \n",
       "744                  5645.0  \n",
       "27                    652.6  \n",
       "979                  5035.1  \n",
       "285                  2647.1  \n",
       "1000                 1274.2  "
      ]
     },
     "execution_count": 7,
     "metadata": {},
     "output_type": "execute_result"
    }
   ],
   "source": [
    "df.sample(10)"
   ]
  },
  {
   "cell_type": "code",
   "execution_count": 8,
   "metadata": {},
   "outputs": [
    {
     "data": {
      "text/plain": [
       "2\n",
       "Cancer Site                                                  0\n",
       "Year                                                         0\n",
       "Sex                                                          0\n",
       "Age                                                          0\n",
       "Incidence and Survival Assumptions                           0\n",
       "Annual Cost Increase (applied to initial and last phases)    0\n",
       "Total Costs                                                  0\n",
       "Initial Year After Diagnosis Cost                            0\n",
       "Continuing Phase Cost                                        0\n",
       "Last Year of Life Cost                                       0\n",
       "dtype: int64"
      ]
     },
     "execution_count": 8,
     "metadata": {},
     "output_type": "execute_result"
    }
   ],
   "source": [
    "df.isna().sum()"
   ]
  },
  {
   "cell_type": "code",
   "execution_count": 9,
   "metadata": {},
   "outputs": [
    {
     "name": "stdout",
     "output_type": "stream",
     "text": [
      "<class 'pandas.core.frame.DataFrame'>\n",
      "RangeIndex: 1254 entries, 0 to 1253\n",
      "Data columns (total 10 columns):\n",
      " #   Column                                                     Non-Null Count  Dtype \n",
      "---  ------                                                     --------------  ----- \n",
      " 0   Cancer Site                                                1254 non-null   object\n",
      " 1   Year                                                       1254 non-null   object\n",
      " 2   Sex                                                        1254 non-null   object\n",
      " 3   Age                                                        1254 non-null   object\n",
      " 4   Incidence and Survival Assumptions                         1254 non-null   object\n",
      " 5   Annual Cost Increase (applied to initial and last phases)  1254 non-null   object\n",
      " 6   Total Costs                                                1254 non-null   object\n",
      " 7   Initial Year After Diagnosis Cost                          1254 non-null   object\n",
      " 8   Continuing Phase Cost                                      1254 non-null   object\n",
      " 9   Last Year of Life Cost                                     1254 non-null   object\n",
      "dtypes: object(10)\n",
      "memory usage: 98.1+ KB\n"
     ]
    }
   ],
   "source": [
    "df.info()"
   ]
  },
  {
   "cell_type": "code",
   "execution_count": 10,
   "metadata": {},
   "outputs": [
    {
     "data": {
      "text/html": [
       "<div>\n",
       "<style scoped>\n",
       "    .dataframe tbody tr th:only-of-type {\n",
       "        vertical-align: middle;\n",
       "    }\n",
       "\n",
       "    .dataframe tbody tr th {\n",
       "        vertical-align: top;\n",
       "    }\n",
       "\n",
       "    .dataframe thead th {\n",
       "        text-align: right;\n",
       "    }\n",
       "</style>\n",
       "<table border=\"1\" class=\"dataframe\">\n",
       "  <thead>\n",
       "    <tr style=\"text-align: right;\">\n",
       "      <th>2</th>\n",
       "      <th>Cancer Site</th>\n",
       "      <th>Year</th>\n",
       "      <th>Sex</th>\n",
       "      <th>Age</th>\n",
       "      <th>Incidence and Survival Assumptions</th>\n",
       "    </tr>\n",
       "  </thead>\n",
       "  <tbody>\n",
       "    <tr>\n",
       "      <th>0</th>\n",
       "      <td>AllSites</td>\n",
       "      <td>2010</td>\n",
       "      <td>Both sexes</td>\n",
       "      <td>All ages</td>\n",
       "      <td>Incidence, Survival at constant rate</td>\n",
       "    </tr>\n",
       "    <tr>\n",
       "      <th>1</th>\n",
       "      <td>AllSites</td>\n",
       "      <td>2010</td>\n",
       "      <td>Both sexes</td>\n",
       "      <td>All ages</td>\n",
       "      <td>Incidence follows recent trend, Survival constant</td>\n",
       "    </tr>\n",
       "    <tr>\n",
       "      <th>2</th>\n",
       "      <td>AllSites</td>\n",
       "      <td>2010</td>\n",
       "      <td>Both sexes</td>\n",
       "      <td>All ages</td>\n",
       "      <td>Survival follows recent trend, Incidence constant</td>\n",
       "    </tr>\n",
       "    <tr>\n",
       "      <th>3</th>\n",
       "      <td>AllSites</td>\n",
       "      <td>2010</td>\n",
       "      <td>Both sexes</td>\n",
       "      <td>All ages</td>\n",
       "      <td>Incidence, Survival follow recent trends</td>\n",
       "    </tr>\n",
       "    <tr>\n",
       "      <th>4</th>\n",
       "      <td>AllSites</td>\n",
       "      <td>2010</td>\n",
       "      <td>Both sexes</td>\n",
       "      <td>All ages</td>\n",
       "      <td>Incidence, Survival follow recent trends</td>\n",
       "    </tr>\n",
       "    <tr>\n",
       "      <th>...</th>\n",
       "      <td>...</td>\n",
       "      <td>...</td>\n",
       "      <td>...</td>\n",
       "      <td>...</td>\n",
       "      <td>...</td>\n",
       "    </tr>\n",
       "    <tr>\n",
       "      <th>1249</th>\n",
       "      <td>Other</td>\n",
       "      <td>2020</td>\n",
       "      <td>Both sexes</td>\n",
       "      <td>All ages</td>\n",
       "      <td>Incidence follows recent trend, Survival constant</td>\n",
       "    </tr>\n",
       "    <tr>\n",
       "      <th>1250</th>\n",
       "      <td>Other</td>\n",
       "      <td>2020</td>\n",
       "      <td>Both sexes</td>\n",
       "      <td>All ages</td>\n",
       "      <td>Survival follows recent trend, Incidence constant</td>\n",
       "    </tr>\n",
       "    <tr>\n",
       "      <th>1251</th>\n",
       "      <td>Other</td>\n",
       "      <td>2020</td>\n",
       "      <td>Both sexes</td>\n",
       "      <td>All ages</td>\n",
       "      <td>Incidence, Survival follow recent trends</td>\n",
       "    </tr>\n",
       "    <tr>\n",
       "      <th>1252</th>\n",
       "      <td>Other</td>\n",
       "      <td>2020</td>\n",
       "      <td>Both sexes</td>\n",
       "      <td>All ages</td>\n",
       "      <td>Incidence, Survival follow recent trends</td>\n",
       "    </tr>\n",
       "    <tr>\n",
       "      <th>1253</th>\n",
       "      <td>Other</td>\n",
       "      <td>2020</td>\n",
       "      <td>Both sexes</td>\n",
       "      <td>All ages</td>\n",
       "      <td>Incidence, Survival follow recent trends</td>\n",
       "    </tr>\n",
       "  </tbody>\n",
       "</table>\n",
       "<p>1254 rows × 5 columns</p>\n",
       "</div>"
      ],
      "text/plain": [
       "2    Cancer Site  Year         Sex       Age  \\\n",
       "0       AllSites  2010  Both sexes  All ages   \n",
       "1       AllSites  2010  Both sexes  All ages   \n",
       "2       AllSites  2010  Both sexes  All ages   \n",
       "3       AllSites  2010  Both sexes  All ages   \n",
       "4       AllSites  2010  Both sexes  All ages   \n",
       "...          ...   ...         ...       ...   \n",
       "1249       Other  2020  Both sexes  All ages   \n",
       "1250       Other  2020  Both sexes  All ages   \n",
       "1251       Other  2020  Both sexes  All ages   \n",
       "1252       Other  2020  Both sexes  All ages   \n",
       "1253       Other  2020  Both sexes  All ages   \n",
       "\n",
       "2                    Incidence and Survival Assumptions  \n",
       "0                  Incidence, Survival at constant rate  \n",
       "1     Incidence follows recent trend, Survival constant  \n",
       "2     Survival follows recent trend, Incidence constant  \n",
       "3              Incidence, Survival follow recent trends  \n",
       "4              Incidence, Survival follow recent trends  \n",
       "...                                                 ...  \n",
       "1249  Incidence follows recent trend, Survival constant  \n",
       "1250  Survival follows recent trend, Incidence constant  \n",
       "1251           Incidence, Survival follow recent trends  \n",
       "1252           Incidence, Survival follow recent trends  \n",
       "1253           Incidence, Survival follow recent trends  \n",
       "\n",
       "[1254 rows x 5 columns]"
      ]
     },
     "execution_count": 10,
     "metadata": {},
     "output_type": "execute_result"
    }
   ],
   "source": [
    "df.iloc[:, [0,1,2,3,4]]"
   ]
  },
  {
   "cell_type": "code",
   "execution_count": 11,
   "metadata": {},
   "outputs": [
    {
     "data": {
      "text/plain": [
       "['Cancer Site', 'Year', 'Sex', 'Age', 'Incidence and Survival Assumptions']"
      ]
     },
     "execution_count": 11,
     "metadata": {},
     "output_type": "execute_result"
    }
   ],
   "source": [
    "cats = list(df.columns[0:5])\n",
    "cats"
   ]
  },
  {
   "cell_type": "code",
   "execution_count": 12,
   "metadata": {},
   "outputs": [
    {
     "data": {
      "text/plain": [
       "['Annual Cost Increase (applied to initial and last phases)',\n",
       " 'Total Costs',\n",
       " 'Initial Year After Diagnosis Cost',\n",
       " 'Continuing Phase Cost',\n",
       " 'Last Year of Life Cost']"
      ]
     },
     "execution_count": 12,
     "metadata": {},
     "output_type": "execute_result"
    }
   ],
   "source": [
    "nums = list(df.columns[5:])\n",
    "nums"
   ]
  },
  {
   "cell_type": "code",
   "execution_count": 13,
   "metadata": {},
   "outputs": [
    {
     "name": "stdout",
     "output_type": "stream",
     "text": [
      "Stomach       66\n",
      "Pancreas      66\n",
      "Esophagus     66\n",
      "Other         66\n",
      "Leukemia      66\n",
      "Kidney        66\n",
      "Brain         66\n",
      "Colorectal    66\n",
      "Cervix        66\n",
      "Melanoma      66\n",
      "Uterus        66\n",
      "Head_Neck     66\n",
      "Lymphoma      66\n",
      "Bladder       66\n",
      "Breast        66\n",
      "Ovary         66\n",
      "Prostate      66\n",
      "AllSites      66\n",
      "Lung          66\n",
      "Name: Cancer Site, dtype: int64\n",
      "2013    114\n",
      "2016    114\n",
      "2012    114\n",
      "2020    114\n",
      "2011    114\n",
      "2015    114\n",
      "2018    114\n",
      "2019    114\n",
      "2014    114\n",
      "2010    114\n",
      "2017    114\n",
      "Name: Year, dtype: int64\n",
      "Both sexes    990\n",
      "Females       198\n",
      "Males          66\n",
      "Name: Sex, dtype: int64\n",
      "All ages    1254\n",
      "Name: Age, dtype: int64\n",
      "Incidence, Survival follow recent trends             627\n",
      "Survival follows recent trend, Incidence constant    209\n",
      "Incidence, Survival at constant rate                 209\n",
      "Incidence follows recent trend, Survival constant    209\n",
      "Name: Incidence and Survival Assumptions, dtype: int64\n"
     ]
    }
   ],
   "source": [
    "for i in cats:\n",
    "    print(df[i].value_counts())"
   ]
  },
  {
   "cell_type": "code",
   "execution_count": 14,
   "metadata": {},
   "outputs": [
    {
     "data": {
      "text/plain": [
       "(1254, 10)"
      ]
     },
     "execution_count": 14,
     "metadata": {},
     "output_type": "execute_result"
    }
   ],
   "source": [
    "df.shape"
   ]
  },
  {
   "cell_type": "code",
   "execution_count": 15,
   "metadata": {},
   "outputs": [
    {
     "name": "stdout",
     "output_type": "stream",
     "text": [
      "0%    836\n",
      "2%    209\n",
      "5%    209\n",
      "Name: Annual Cost Increase (applied to initial and last phases), dtype: int64\n",
      "2\n"
     ]
    }
   ],
   "source": [
    "print(df['Annual Cost Increase (applied to initial and last phases)'].value_counts())\n",
    "print(df.loc[10, 'Annual Cost Increase (applied to initial and last phases)'][:-1])\n",
    "for i in range(len(df)):\n",
    "    df.loc[i, 'Annual Cost Increase (applied to initial and last phases)'] = df.loc[i, 'Annual Cost Increase (applied to initial and last phases)'][:-1]"
   ]
  },
  {
   "cell_type": "code",
   "execution_count": 16,
   "metadata": {},
   "outputs": [
    {
     "name": "stdout",
     "output_type": "stream",
     "text": [
      "2\n",
      "0    836\n",
      "5    209\n",
      "2    209\n",
      "Name: Annual Cost Increase (applied to initial and last phases), dtype: int64\n"
     ]
    }
   ],
   "source": [
    "print(df.loc[10, 'Annual Cost Increase (applied to initial and last phases)'])\n",
    "print(df['Annual Cost Increase (applied to initial and last phases)'].value_counts())"
   ]
  },
  {
   "cell_type": "code",
   "execution_count": 17,
   "metadata": {},
   "outputs": [],
   "source": [
    "for i in nums:\n",
    "    df[i] = df[i].astype(float)"
   ]
  },
  {
   "cell_type": "code",
   "execution_count": 18,
   "metadata": {},
   "outputs": [
    {
     "name": "stdout",
     "output_type": "stream",
     "text": [
      "<class 'pandas.core.frame.DataFrame'>\n",
      "RangeIndex: 1254 entries, 0 to 1253\n",
      "Data columns (total 10 columns):\n",
      " #   Column                                                     Non-Null Count  Dtype  \n",
      "---  ------                                                     --------------  -----  \n",
      " 0   Cancer Site                                                1254 non-null   object \n",
      " 1   Year                                                       1254 non-null   object \n",
      " 2   Sex                                                        1254 non-null   object \n",
      " 3   Age                                                        1254 non-null   object \n",
      " 4   Incidence and Survival Assumptions                         1254 non-null   object \n",
      " 5   Annual Cost Increase (applied to initial and last phases)  1254 non-null   float64\n",
      " 6   Total Costs                                                1254 non-null   float64\n",
      " 7   Initial Year After Diagnosis Cost                          1254 non-null   float64\n",
      " 8   Continuing Phase Cost                                      1254 non-null   float64\n",
      " 9   Last Year of Life Cost                                     1254 non-null   float64\n",
      "dtypes: float64(5), object(5)\n",
      "memory usage: 98.1+ KB\n"
     ]
    }
   ],
   "source": [
    "df.info()"
   ]
  },
  {
   "cell_type": "code",
   "execution_count": 19,
   "metadata": {},
   "outputs": [
    {
     "data": {
      "text/html": [
       "<div>\n",
       "<style scoped>\n",
       "    .dataframe tbody tr th:only-of-type {\n",
       "        vertical-align: middle;\n",
       "    }\n",
       "\n",
       "    .dataframe tbody tr th {\n",
       "        vertical-align: top;\n",
       "    }\n",
       "\n",
       "    .dataframe thead th {\n",
       "        text-align: right;\n",
       "    }\n",
       "</style>\n",
       "<table border=\"1\" class=\"dataframe\">\n",
       "  <thead>\n",
       "    <tr style=\"text-align: right;\">\n",
       "      <th>2</th>\n",
       "      <th>Annual Cost Increase (applied to initial and last phases)</th>\n",
       "      <th>Total Costs</th>\n",
       "      <th>Initial Year After Diagnosis Cost</th>\n",
       "      <th>Continuing Phase Cost</th>\n",
       "      <th>Last Year of Life Cost</th>\n",
       "    </tr>\n",
       "  </thead>\n",
       "  <tbody>\n",
       "    <tr>\n",
       "      <th>count</th>\n",
       "      <td>1254.000000</td>\n",
       "      <td>1254.000000</td>\n",
       "      <td>1254.000000</td>\n",
       "      <td>1254.000000</td>\n",
       "      <td>1254.000000</td>\n",
       "    </tr>\n",
       "    <tr>\n",
       "      <th>mean</th>\n",
       "      <td>1.166667</td>\n",
       "      <td>15221.008852</td>\n",
       "      <td>4677.505742</td>\n",
       "      <td>5764.655024</td>\n",
       "      <td>4778.848804</td>\n",
       "    </tr>\n",
       "    <tr>\n",
       "      <th>std</th>\n",
       "      <td>1.864133</td>\n",
       "      <td>31489.503603</td>\n",
       "      <td>9703.258460</td>\n",
       "      <td>12094.699099</td>\n",
       "      <td>9930.281985</td>\n",
       "    </tr>\n",
       "    <tr>\n",
       "      <th>min</th>\n",
       "      <td>0.000000</td>\n",
       "      <td>1204.600000</td>\n",
       "      <td>293.000000</td>\n",
       "      <td>98.900000</td>\n",
       "      <td>330.600000</td>\n",
       "    </tr>\n",
       "    <tr>\n",
       "      <th>25%</th>\n",
       "      <td>0.000000</td>\n",
       "      <td>2866.625000</td>\n",
       "      <td>939.175000</td>\n",
       "      <td>846.875000</td>\n",
       "      <td>908.925000</td>\n",
       "    </tr>\n",
       "    <tr>\n",
       "      <th>50%</th>\n",
       "      <td>0.000000</td>\n",
       "      <td>5107.350000</td>\n",
       "      <td>1377.150000</td>\n",
       "      <td>1940.350000</td>\n",
       "      <td>1755.200000</td>\n",
       "    </tr>\n",
       "    <tr>\n",
       "      <th>75%</th>\n",
       "      <td>2.000000</td>\n",
       "      <td>14178.925000</td>\n",
       "      <td>4883.050000</td>\n",
       "      <td>5187.200000</td>\n",
       "      <td>4465.275000</td>\n",
       "    </tr>\n",
       "    <tr>\n",
       "      <th>max</th>\n",
       "      <td>5.000000</td>\n",
       "      <td>206587.100000</td>\n",
       "      <td>68858.000000</td>\n",
       "      <td>66099.700000</td>\n",
       "      <td>74159.700000</td>\n",
       "    </tr>\n",
       "  </tbody>\n",
       "</table>\n",
       "</div>"
      ],
      "text/plain": [
       "2      Annual Cost Increase (applied to initial and last phases)  \\\n",
       "count                                        1254.000000           \n",
       "mean                                            1.166667           \n",
       "std                                             1.864133           \n",
       "min                                             0.000000           \n",
       "25%                                             0.000000           \n",
       "50%                                             0.000000           \n",
       "75%                                             2.000000           \n",
       "max                                             5.000000           \n",
       "\n",
       "2        Total Costs  Initial Year After Diagnosis Cost  \\\n",
       "count    1254.000000                        1254.000000   \n",
       "mean    15221.008852                        4677.505742   \n",
       "std     31489.503603                        9703.258460   \n",
       "min      1204.600000                         293.000000   \n",
       "25%      2866.625000                         939.175000   \n",
       "50%      5107.350000                        1377.150000   \n",
       "75%     14178.925000                        4883.050000   \n",
       "max    206587.100000                       68858.000000   \n",
       "\n",
       "2      Continuing Phase Cost  Last Year of Life Cost  \n",
       "count            1254.000000             1254.000000  \n",
       "mean             5764.655024             4778.848804  \n",
       "std             12094.699099             9930.281985  \n",
       "min                98.900000              330.600000  \n",
       "25%               846.875000              908.925000  \n",
       "50%              1940.350000             1755.200000  \n",
       "75%              5187.200000             4465.275000  \n",
       "max             66099.700000            74159.700000  "
      ]
     },
     "execution_count": 19,
     "metadata": {},
     "output_type": "execute_result"
    }
   ],
   "source": [
    "df.iloc[:, 5:].describe()"
   ]
  },
  {
   "cell_type": "code",
   "execution_count": 20,
   "metadata": {},
   "outputs": [
    {
     "data": {
      "text/html": [
       "<div>\n",
       "<style scoped>\n",
       "    .dataframe tbody tr th:only-of-type {\n",
       "        vertical-align: middle;\n",
       "    }\n",
       "\n",
       "    .dataframe tbody tr th {\n",
       "        vertical-align: top;\n",
       "    }\n",
       "\n",
       "    .dataframe thead th {\n",
       "        text-align: right;\n",
       "    }\n",
       "</style>\n",
       "<table border=\"1\" class=\"dataframe\">\n",
       "  <thead>\n",
       "    <tr style=\"text-align: right;\">\n",
       "      <th>2</th>\n",
       "      <th>Annual Cost Increase (applied to initial and last phases)</th>\n",
       "      <th>Total Costs</th>\n",
       "      <th>Initial Year After Diagnosis Cost</th>\n",
       "      <th>Continuing Phase Cost</th>\n",
       "      <th>Last Year of Life Cost</th>\n",
       "    </tr>\n",
       "    <tr>\n",
       "      <th>2</th>\n",
       "      <th></th>\n",
       "      <th></th>\n",
       "      <th></th>\n",
       "      <th></th>\n",
       "      <th></th>\n",
       "    </tr>\n",
       "  </thead>\n",
       "  <tbody>\n",
       "    <tr>\n",
       "      <th>Annual Cost Increase (applied to initial and last phases)</th>\n",
       "      <td>1.000000</td>\n",
       "      <td>0.026826</td>\n",
       "      <td>0.039405</td>\n",
       "      <td>0.002160</td>\n",
       "      <td>0.043933</td>\n",
       "    </tr>\n",
       "    <tr>\n",
       "      <th>Total Costs</th>\n",
       "      <td>0.026826</td>\n",
       "      <td>1.000000</td>\n",
       "      <td>0.993141</td>\n",
       "      <td>0.991058</td>\n",
       "      <td>0.993552</td>\n",
       "    </tr>\n",
       "    <tr>\n",
       "      <th>Initial Year After Diagnosis Cost</th>\n",
       "      <td>0.039405</td>\n",
       "      <td>0.993141</td>\n",
       "      <td>1.000000</td>\n",
       "      <td>0.973080</td>\n",
       "      <td>0.986996</td>\n",
       "    </tr>\n",
       "    <tr>\n",
       "      <th>Continuing Phase Cost</th>\n",
       "      <td>0.002160</td>\n",
       "      <td>0.991058</td>\n",
       "      <td>0.973080</td>\n",
       "      <td>1.000000</td>\n",
       "      <td>0.973907</td>\n",
       "    </tr>\n",
       "    <tr>\n",
       "      <th>Last Year of Life Cost</th>\n",
       "      <td>0.043933</td>\n",
       "      <td>0.993552</td>\n",
       "      <td>0.986996</td>\n",
       "      <td>0.973907</td>\n",
       "      <td>1.000000</td>\n",
       "    </tr>\n",
       "  </tbody>\n",
       "</table>\n",
       "</div>"
      ],
      "text/plain": [
       "2                                                   Annual Cost Increase (applied to initial and last phases)  \\\n",
       "2                                                                                                               \n",
       "Annual Cost Increase (applied to initial and la...                                           1.000000           \n",
       "Total Costs                                                                                  0.026826           \n",
       "Initial Year After Diagnosis Cost                                                            0.039405           \n",
       "Continuing Phase Cost                                                                        0.002160           \n",
       "Last Year of Life Cost                                                                       0.043933           \n",
       "\n",
       "2                                                   Total Costs  \\\n",
       "2                                                                 \n",
       "Annual Cost Increase (applied to initial and la...     0.026826   \n",
       "Total Costs                                            1.000000   \n",
       "Initial Year After Diagnosis Cost                      0.993141   \n",
       "Continuing Phase Cost                                  0.991058   \n",
       "Last Year of Life Cost                                 0.993552   \n",
       "\n",
       "2                                                   Initial Year After Diagnosis Cost  \\\n",
       "2                                                                                       \n",
       "Annual Cost Increase (applied to initial and la...                           0.039405   \n",
       "Total Costs                                                                  0.993141   \n",
       "Initial Year After Diagnosis Cost                                            1.000000   \n",
       "Continuing Phase Cost                                                        0.973080   \n",
       "Last Year of Life Cost                                                       0.986996   \n",
       "\n",
       "2                                                   Continuing Phase Cost  \\\n",
       "2                                                                           \n",
       "Annual Cost Increase (applied to initial and la...               0.002160   \n",
       "Total Costs                                                      0.991058   \n",
       "Initial Year After Diagnosis Cost                                0.973080   \n",
       "Continuing Phase Cost                                            1.000000   \n",
       "Last Year of Life Cost                                           0.973907   \n",
       "\n",
       "2                                                   Last Year of Life Cost  \n",
       "2                                                                           \n",
       "Annual Cost Increase (applied to initial and la...                0.043933  \n",
       "Total Costs                                                       0.993552  \n",
       "Initial Year After Diagnosis Cost                                 0.986996  \n",
       "Continuing Phase Cost                                             0.973907  \n",
       "Last Year of Life Cost                                            1.000000  "
      ]
     },
     "execution_count": 20,
     "metadata": {},
     "output_type": "execute_result"
    }
   ],
   "source": [
    "df.iloc[:, 5:].corr()"
   ]
  },
  {
   "cell_type": "code",
   "execution_count": 21,
   "metadata": {},
   "outputs": [
    {
     "data": {
      "text/plain": [
       "All ages    1254\n",
       "Name: Age, dtype: int64"
      ]
     },
     "execution_count": 21,
     "metadata": {},
     "output_type": "execute_result"
    }
   ],
   "source": [
    "df['Age'].value_counts()"
   ]
  },
  {
   "cell_type": "code",
   "execution_count": 22,
   "metadata": {},
   "outputs": [],
   "source": [
    "df.drop('Age', axis=1, inplace=True)"
   ]
  },
  {
   "cell_type": "code",
   "execution_count": 23,
   "metadata": {},
   "outputs": [
    {
     "data": {
      "text/html": [
       "<div>\n",
       "<style scoped>\n",
       "    .dataframe tbody tr th:only-of-type {\n",
       "        vertical-align: middle;\n",
       "    }\n",
       "\n",
       "    .dataframe tbody tr th {\n",
       "        vertical-align: top;\n",
       "    }\n",
       "\n",
       "    .dataframe thead th {\n",
       "        text-align: right;\n",
       "    }\n",
       "</style>\n",
       "<table border=\"1\" class=\"dataframe\">\n",
       "  <thead>\n",
       "    <tr style=\"text-align: right;\">\n",
       "      <th>2</th>\n",
       "      <th>Cancer Site</th>\n",
       "      <th>Year</th>\n",
       "      <th>Sex</th>\n",
       "      <th>Incidence and Survival Assumptions</th>\n",
       "      <th>Annual Cost Increase (applied to initial and last phases)</th>\n",
       "      <th>Total Costs</th>\n",
       "      <th>Initial Year After Diagnosis Cost</th>\n",
       "      <th>Continuing Phase Cost</th>\n",
       "      <th>Last Year of Life Cost</th>\n",
       "    </tr>\n",
       "  </thead>\n",
       "  <tbody>\n",
       "    <tr>\n",
       "      <th>0</th>\n",
       "      <td>AllSites</td>\n",
       "      <td>2010</td>\n",
       "      <td>Both sexes</td>\n",
       "      <td>Incidence, Survival at constant rate</td>\n",
       "      <td>0.0</td>\n",
       "      <td>124565.6</td>\n",
       "      <td>40463.5</td>\n",
       "      <td>46642.8</td>\n",
       "      <td>37459.2</td>\n",
       "    </tr>\n",
       "    <tr>\n",
       "      <th>1</th>\n",
       "      <td>AllSites</td>\n",
       "      <td>2010</td>\n",
       "      <td>Both sexes</td>\n",
       "      <td>Incidence follows recent trend, Survival constant</td>\n",
       "      <td>0.0</td>\n",
       "      <td>122420.8</td>\n",
       "      <td>38552.7</td>\n",
       "      <td>46671.9</td>\n",
       "      <td>37196.3</td>\n",
       "    </tr>\n",
       "    <tr>\n",
       "      <th>2</th>\n",
       "      <td>AllSites</td>\n",
       "      <td>2010</td>\n",
       "      <td>Both sexes</td>\n",
       "      <td>Survival follows recent trend, Incidence constant</td>\n",
       "      <td>0.0</td>\n",
       "      <td>125397.7</td>\n",
       "      <td>40463.5</td>\n",
       "      <td>47136.3</td>\n",
       "      <td>37797.9</td>\n",
       "    </tr>\n",
       "    <tr>\n",
       "      <th>3</th>\n",
       "      <td>AllSites</td>\n",
       "      <td>2010</td>\n",
       "      <td>Both sexes</td>\n",
       "      <td>Incidence, Survival follow recent trends</td>\n",
       "      <td>0.0</td>\n",
       "      <td>123236.3</td>\n",
       "      <td>38552.7</td>\n",
       "      <td>47155.7</td>\n",
       "      <td>37527.8</td>\n",
       "    </tr>\n",
       "  </tbody>\n",
       "</table>\n",
       "</div>"
      ],
      "text/plain": [
       "2 Cancer Site  Year         Sex  \\\n",
       "0    AllSites  2010  Both sexes   \n",
       "1    AllSites  2010  Both sexes   \n",
       "2    AllSites  2010  Both sexes   \n",
       "3    AllSites  2010  Both sexes   \n",
       "\n",
       "2                 Incidence and Survival Assumptions  \\\n",
       "0               Incidence, Survival at constant rate   \n",
       "1  Incidence follows recent trend, Survival constant   \n",
       "2  Survival follows recent trend, Incidence constant   \n",
       "3           Incidence, Survival follow recent trends   \n",
       "\n",
       "2  Annual Cost Increase (applied to initial and last phases)  Total Costs  \\\n",
       "0                                                0.0             124565.6   \n",
       "1                                                0.0             122420.8   \n",
       "2                                                0.0             125397.7   \n",
       "3                                                0.0             123236.3   \n",
       "\n",
       "2  Initial Year After Diagnosis Cost  Continuing Phase Cost  \\\n",
       "0                            40463.5                46642.8   \n",
       "1                            38552.7                46671.9   \n",
       "2                            40463.5                47136.3   \n",
       "3                            38552.7                47155.7   \n",
       "\n",
       "2  Last Year of Life Cost  \n",
       "0                 37459.2  \n",
       "1                 37196.3  \n",
       "2                 37797.9  \n",
       "3                 37527.8  "
      ]
     },
     "execution_count": 23,
     "metadata": {},
     "output_type": "execute_result"
    }
   ],
   "source": [
    "df.head(4)"
   ]
  },
  {
   "cell_type": "code",
   "execution_count": null,
   "metadata": {},
   "outputs": [],
   "source": []
  },
  {
   "cell_type": "markdown",
   "metadata": {},
   "source": [
    "#### Exploring the Data"
   ]
  },
  {
   "cell_type": "code",
   "execution_count": 35,
   "metadata": {},
   "outputs": [
    {
     "name": "stdout",
     "output_type": "stream",
     "text": [
      "Total Costs Average: 15221.008851674627\n",
      "Initial Cost Average: 4677.50574162679\n"
     ]
    }
   ],
   "source": [
    "# total costs average\n",
    "print('Total Costs Average:', df['Total Costs'].mean())\n",
    "\n",
    "# initial cost average\n",
    "print('Initial Cost Average:', df['Initial Year After Diagnosis Cost'].mean())\n"
   ]
  },
  {
   "cell_type": "code",
   "execution_count": 43,
   "metadata": {},
   "outputs": [
    {
     "name": "stdout",
     "output_type": "stream",
     "text": [
      "Total Costs Average by Year:\n"
     ]
    },
    {
     "data": {
      "text/plain": [
       "Year\n",
       "2010    13019.171053\n",
       "2011    13427.294737\n",
       "2012    13844.892105\n",
       "2013    14267.221053\n",
       "2014    14704.259649\n",
       "2015    15145.877193\n",
       "2016    15613.532456\n",
       "2017    16094.852632\n",
       "2018    16588.141228\n",
       "2019    17101.342982\n",
       "2020    17624.512281\n",
       "Name: Total Costs, dtype: float64"
      ]
     },
     "execution_count": 43,
     "metadata": {},
     "output_type": "execute_result"
    }
   ],
   "source": [
    "print('Total Costs Average by Year:')\n",
    "df['Total Costs'].groupby(df['Year']).mean()"
   ]
  },
  {
   "cell_type": "code",
   "execution_count": 44,
   "metadata": {},
   "outputs": [
    {
     "name": "stdout",
     "output_type": "stream",
     "text": [
      "Initial Costs Average by Year:\n"
     ]
    },
    {
     "data": {
      "text/plain": [
       "Year\n",
       "2010    4125.221053\n",
       "2011    4225.286842\n",
       "2012    4328.561404\n",
       "2013    4434.014912\n",
       "2014    4543.412281\n",
       "2015    4656.567544\n",
       "2016    4775.001754\n",
       "2017    4897.270175\n",
       "2018    5022.993860\n",
       "2019    5153.554386\n",
       "2020    5290.678947\n",
       "Name: Initial Year After Diagnosis Cost, dtype: float64"
      ]
     },
     "execution_count": 44,
     "metadata": {},
     "output_type": "execute_result"
    }
   ],
   "source": [
    "print('Initial Costs Average by Year:')\n",
    "df['Initial Year After Diagnosis Cost'].groupby(df['Year']).mean()"
   ]
  },
  {
   "cell_type": "code",
   "execution_count": 51,
   "metadata": {},
   "outputs": [
    {
     "name": "stdout",
     "output_type": "stream",
     "text": [
      "Initial Cost to Total Costs Ratio:\n"
     ]
    },
    {
     "data": {
      "text/plain": [
       "Year\n",
       "2010    0.316857\n",
       "2011    0.314679\n",
       "2012    0.312647\n",
       "2013    0.310783\n",
       "2014    0.308986\n",
       "2015    0.307448\n",
       "2016    0.305825\n",
       "2017    0.304276\n",
       "2018    0.302806\n",
       "2019    0.301354\n",
       "2020    0.300189\n",
       "dtype: float64"
      ]
     },
     "execution_count": 51,
     "metadata": {},
     "output_type": "execute_result"
    }
   ],
   "source": [
    "print('Initial Cost to Total Costs Ratio:')\n",
    "df['Initial Year After Diagnosis Cost'].groupby(df['Year']).mean() / df['Total Costs'].groupby(df['Year']).mean()"
   ]
  },
  {
   "cell_type": "code",
   "execution_count": 47,
   "metadata": {},
   "outputs": [
    {
     "data": {
      "text/plain": [
       "array([0.31685743, 0.31467894, 0.31264681, 0.31078336, 0.30898613,\n",
       "       0.30744786, 0.30582456, 0.30427555, 0.30280631, 0.30135378,\n",
       "       0.30018867])"
      ]
     },
     "execution_count": 47,
     "metadata": {},
     "output_type": "execute_result"
    }
   ],
   "source": [
    "# tc = np.array(df['Total Costs'].groupby(df['Year']).mean())\n",
    "# ic = np.array(df['Initial Year After Diagnosis Cost'].groupby(df['Year']).mean())\n",
    "# ic / tc"
   ]
  },
  {
   "cell_type": "code",
   "execution_count": 71,
   "metadata": {},
   "outputs": [
    {
     "name": "stdout",
     "output_type": "stream",
     "text": [
      "Total Costs Average by Site:\n",
      "Cancer Site\n",
      "AllSites      144599.589394\n",
      "Other          25519.486364\n",
      "Breast         18525.166667\n",
      "Colorectal     15131.101515\n",
      "Lymphoma       14252.680303\n",
      "Prostate       13977.395455\n",
      "Lung           13113.968182\n",
      "Leukemia        6373.959091\n",
      "Brain           5280.210606\n",
      "Ovary           5200.456061\n",
      "Kidney          5045.562121\n",
      "Bladder         4368.340909\n",
      "Head_Neck       3947.369697\n",
      "Melanoma        3058.759091\n",
      "Uterus          2840.590909\n",
      "Pancreas        2826.672727\n",
      "Stomach         1982.736364\n",
      "Esophagus       1713.387879\n",
      "Cervix          1441.734848\n",
      "Name: Total Costs, dtype: float64\n",
      "\n",
      "\n",
      "Initial Cost Average by Site:\n",
      "Cancer Site\n",
      "AllSites      44436.300000\n",
      "Breast         6441.813636\n",
      "Colorectal     6114.137879\n",
      "Lung           5519.134848\n",
      "Prostate       5357.566667\n",
      "Other          4688.096970\n",
      "Lymphoma       3604.862121\n",
      "Pancreas       1681.503030\n",
      "Kidney         1555.842424\n",
      "Brain          1411.780303\n",
      "Uterus         1180.363636\n",
      "Ovary          1165.466667\n",
      "Head_Neck      1131.671212\n",
      "Bladder        1074.792424\n",
      "Leukemia        882.762121\n",
      "Stomach         859.900000\n",
      "Melanoma        681.112121\n",
      "Esophagus       673.792424\n",
      "Cervix          411.710606\n",
      "Name: Initial Year After Diagnosis Cost, dtype: float64\n"
     ]
    }
   ],
   "source": [
    "# total costs average grouped by site\n",
    "print('Total Costs Average by Site:')\n",
    "print(df['Total Costs'].groupby(df['Cancer Site']).mean().sort_values(ascending=False))\n",
    "\n",
    "print('\\n')\n",
    "\n",
    "# initial cost average grouped by site\n",
    "print('Initial Cost Average by Site:')\n",
    "print(df['Initial Year After Diagnosis Cost'].groupby(df['Cancer Site']).mean().sort_values(ascending=False))"
   ]
  },
  {
   "cell_type": "code",
   "execution_count": 99,
   "metadata": {},
   "outputs": [
    {
     "name": "stdout",
     "output_type": "stream",
     "text": [
      "Initial Cost to Total Costs Ratio by Site:\n",
      "Cancer Site\n",
      "Pancreas      0.594870\n",
      "Stomach       0.433694\n",
      "Lung          0.420859\n",
      "Uterus        0.415535\n",
      "Colorectal    0.404078\n",
      "Esophagus     0.393252\n",
      "Prostate      0.383302\n",
      "Breast        0.347733\n",
      "Kidney        0.308359\n",
      "AllSites      0.307306\n",
      "Head_Neck     0.286690\n",
      "Cervix        0.285566\n",
      "Brain         0.267372\n",
      "Lymphoma      0.252925\n",
      "Bladder       0.246041\n",
      "Ovary         0.224109\n",
      "Melanoma      0.222676\n",
      "Other         0.183707\n",
      "Leukemia      0.138495\n",
      "dtype: float64\n"
     ]
    }
   ],
   "source": [
    "z = (df['Initial Year After Diagnosis Cost'].groupby(df['Cancer Site']).mean()/df['Total Costs'].groupby(df['Cancer Site']).mean()).sort_values(ascending=False)\n",
    "print('Initial Cost to Total Costs Ratio by Site:')\n",
    "print(z)"
   ]
  },
  {
   "cell_type": "code",
   "execution_count": 73,
   "metadata": {},
   "outputs": [
    {
     "name": "stdout",
     "output_type": "stream",
     "text": [
      "Total Costs Average by Incidence and Survival Assumption:\n",
      "Incidence and Survival Assumptions\n",
      "Incidence, Survival follow recent trends             15688.738596\n",
      "Survival follows recent trend, Incidence constant    15211.977990\n",
      "Incidence, Survival at constant rate                 14828.424402\n",
      "Incidence follows recent trend, Survival constant    14219.434928\n",
      "Name: Total Costs, dtype: float64\n",
      "\n",
      "\n",
      "Initial Cost Average by Incidence and Survival Assumption:\n",
      "Incidence and Survival Assumptions\n",
      "Incidence, Survival follow recent trends             4828.202711\n",
      "Incidence, Survival at constant rate                 4663.590431\n",
      "Survival follows recent trend, Incidence constant    4663.590431\n",
      "Incidence follows recent trend, Survival constant    4253.245455\n",
      "Name: Initial Year After Diagnosis Cost, dtype: float64\n"
     ]
    }
   ],
   "source": [
    "# total costs average grouped by site\n",
    "print('Total Costs Average by Incidence and Survival Assumption:')\n",
    "print(df['Total Costs'].groupby(df['Incidence and Survival Assumptions']).mean().sort_values(ascending=False))\n",
    "\n",
    "print('\\n')\n",
    "\n",
    "# initial cost average grouped by site\n",
    "print('Initial Cost Average by Incidence and Survival Assumption:')\n",
    "print(df['Initial Year After Diagnosis Cost'].groupby(df['Incidence and Survival Assumptions']).mean().sort_values(ascending=False))"
   ]
  },
  {
   "cell_type": "code",
   "execution_count": 109,
   "metadata": {},
   "outputs": [
    {
     "name": "stdout",
     "output_type": "stream",
     "text": [
      "Total Costs Average by Cost Increase:\n",
      "Annual Cost Increase (applied to initial and last phases)\n",
      "5.0    17009.995694\n",
      "2.0    15468.967943\n",
      "0.0    14711.772368\n",
      "Name: Total Costs, dtype: float64\n",
      "\n",
      "\n",
      "Initial Cost Average by Cost Increase:\n",
      "Annual Cost Increase (applied to initial and last phases)\n",
      "5.0    5517.673206\n",
      "2.0    4713.689474\n",
      "0.0    4458.417943\n",
      "Name: Initial Year After Diagnosis Cost, dtype: float64\n"
     ]
    }
   ],
   "source": [
    "# total costs average grouped by annual cost increase\n",
    "print('Total Costs Average by Cost Increase:')\n",
    "print(df['Total Costs'].groupby(df['Annual Cost Increase (applied to initial and last phases)']).mean().sort_values(ascending=False))\n",
    "\n",
    "print('\\n')\n",
    "\n",
    "# initial cost average grouped by annual cost increase\n",
    "print('Initial Cost Average by Cost Increase:')\n",
    "print(df['Initial Year After Diagnosis Cost'].groupby(df['Annual Cost Increase (applied to initial and last phases)']).mean().sort_values(ascending=False))"
   ]
  },
  {
   "cell_type": "code",
   "execution_count": 111,
   "metadata": {},
   "outputs": [
    {
     "name": "stdout",
     "output_type": "stream",
     "text": [
      "Total Costs Average by Sex:\n",
      "Sex\n",
      "Both sexes    16670.294343\n",
      "Males         13977.395455\n",
      "Females        8389.119192\n",
      "Name: Total Costs, dtype: float64\n",
      "\n",
      "\n",
      "Initial Cost Average by Sex:\n",
      "Sex\n",
      "Males         5357.566667\n",
      "Both sexes    5033.070101\n",
      "Females       2672.996970\n",
      "Name: Initial Year After Diagnosis Cost, dtype: float64\n"
     ]
    }
   ],
   "source": [
    "# total costs average grouped by sex\n",
    "print('Total Costs Average by Sex:')\n",
    "print(df['Total Costs'].groupby(df['Sex']).mean().sort_values(ascending=False))\n",
    "\n",
    "print('\\n')\n",
    "\n",
    "# initial cost average grouped by sex\n",
    "print('Initial Cost Average by Sex:')\n",
    "print(df['Initial Year After Diagnosis Cost'].groupby(df['Sex']).mean().sort_values(ascending=False))"
   ]
  },
  {
   "cell_type": "code",
   "execution_count": null,
   "metadata": {},
   "outputs": [],
   "source": []
  },
  {
   "cell_type": "markdown",
   "metadata": {},
   "source": [
    "#### Plots"
   ]
  },
  {
   "cell_type": "code",
   "execution_count": null,
   "metadata": {},
   "outputs": [],
   "source": [
    "# freq plot of cancer sites"
   ]
  },
  {
   "cell_type": "code",
   "execution_count": 112,
   "metadata": {},
   "outputs": [
    {
     "data": {
      "text/plain": [
       "<AxesSubplot:>"
      ]
     },
     "execution_count": 112,
     "metadata": {},
     "output_type": "execute_result"
    },
    {
     "data": {
      "image/png": "[encoded data removed]",
      "text/plain": [
       "<Figure size 432x288 with 1 Axes>"
      ]
     },
     "metadata": {
      "needs_background": "light"
     },
     "output_type": "display_data"
    }
   ],
   "source": [
    "df['Cancer Site'].hist()"
   ]
  },
  {
   "cell_type": "code",
   "execution_count": null,
   "metadata": {},
   "outputs": [],
   "source": [
    "# freq plot of year"
   ]
  },
  {
   "cell_type": "code",
   "execution_count": 113,
   "metadata": {},
   "outputs": [
    {
     "data": {
      "text/plain": [
       "<AxesSubplot:>"
      ]
     },
     "execution_count": 113,
     "metadata": {},
     "output_type": "execute_result"
    },
    {
     "data": {
      "image/png": "[encoded data removed]",
      "text/plain": [
       "<Figure size 432x288 with 1 Axes>"
      ]
     },
     "metadata": {
      "needs_background": "light"
     },
     "output_type": "display_data"
    }
   ],
   "source": [
    "df['Year'].hist()"
   ]
  },
  {
   "cell_type": "code",
   "execution_count": null,
   "metadata": {},
   "outputs": [],
   "source": [
    "# initial costs (x) and sex (y) dot chart"
   ]
  },
  {
   "cell_type": "code",
   "execution_count": 117,
   "metadata": {},
   "outputs": [
    {
     "data": {
      "text/plain": [
       "<AxesSubplot:xlabel='Initial Year After Diagnosis Cost', ylabel='Annual Cost Increase (applied to initial and last phases)'>"
      ]
     },
     "execution_count": 117,
     "metadata": {},
     "output_type": "execute_result"
    },
    {
     "data": {
      "image/png": "[encoded data removed]",
      "text/plain": [
       "<Figure size 432x288 with 1 Axes>"
      ]
     },
     "metadata": {
      "needs_background": "light"
     },
     "output_type": "display_data"
    }
   ],
   "source": [
    "sns.scatterplot(data=df, x=\"Initial Year After Diagnosis Cost\", y=\"Annual Cost Increase (applied to initial and last phases)\", hue=\"Sex\")"
   ]
  },
  {
   "cell_type": "code",
   "execution_count": 120,
   "metadata": {},
   "outputs": [
    {
     "data": {
      "text/plain": [
       "<AxesSubplot:xlabel='Annual Cost Increase (applied to initial and last phases)', ylabel='Initial Year After Diagnosis Cost'>"
      ]
     },
     "execution_count": 120,
     "metadata": {},
     "output_type": "execute_result"
    },
    {
     "data": {
      "image/png": "[encoded data removed]",
      "text/plain": [
       "<Figure size 432x288 with 1 Axes>"
      ]
     },
     "metadata": {
      "needs_background": "light"
     },
     "output_type": "display_data"
    }
   ],
   "source": [
    "sns.scatterplot(data=df, x=\"Annual Cost Increase (applied to initial and last phases)\", y=\"Initial Year After Diagnosis Cost\", hue=\"Sex\")"
   ]
  },
  {
   "cell_type": "code",
   "execution_count": null,
   "metadata": {},
   "outputs": [],
   "source": [
    "# initial year costs (x) and annual cost increase (y)"
   ]
  },
  {
   "cell_type": "code",
   "execution_count": 119,
   "metadata": {},
   "outputs": [
    {
     "data": {
      "text/plain": [
       "<AxesSubplot:xlabel='Initial Year After Diagnosis Cost', ylabel='Annual Cost Increase (applied to initial and last phases)'>"
      ]
     },
     "execution_count": 119,
     "metadata": {},
     "output_type": "execute_result"
    },
    {
     "data": {
      "image/png": "[encoded data removed]",
      "text/plain": [
       "<Figure size 432x288 with 1 Axes>"
      ]
     },
     "metadata": {
      "needs_background": "light"
     },
     "output_type": "display_data"
    }
   ],
   "source": [
    "sns.scatterplot(data=df, x=\"Initial Year After Diagnosis Cost\", y=\"Annual Cost Increase (applied to initial and last phases)\", hue=\"Annual Cost Increase (applied to initial and last phases)\")"
   ]
  },
  {
   "cell_type": "code",
   "execution_count": null,
   "metadata": {},
   "outputs": [],
   "source": [
    "# total costs by gender"
   ]
  },
  {
   "cell_type": "code",
   "execution_count": 122,
   "metadata": {},
   "outputs": [
    {
     "data": {
      "text/plain": [
       "<AxesSubplot:xlabel='Total Costs', ylabel='Sex'>"
      ]
     },
     "execution_count": 122,
     "metadata": {},
     "output_type": "execute_result"
    },
    {
     "data": {
      "image/png": "[encoded data removed]",
      "text/plain": [
       "<Figure size 432x288 with 1 Axes>"
      ]
     },
     "metadata": {
      "needs_background": "light"
     },
     "output_type": "display_data"
    }
   ],
   "source": [
    "sns.scatterplot(data=df, x=\"Total Costs\", y=\"Sex\", hue=\"Annual Cost Increase (applied to initial and last phases)\")"
   ]
  },
  {
   "cell_type": "code",
   "execution_count": 129,
   "metadata": {},
   "outputs": [
    {
     "data": {
      "image/png": "[encoded data removed]",
      "text/plain": [
       "<Figure size 432x288 with 1 Axes>"
      ]
     },
     "metadata": {},
     "output_type": "display_data"
    }
   ],
   "source": [
    "# incidence survival pie chart\n",
    "p1 = df['Initial Year After Diagnosis Cost'].groupby(df['Incidence and Survival Assumptions']).mean().sort_values(ascending=False)\n",
    "p1.plot.pie(autopct=\"%.1f%%\");"
   ]
  },
  {
   "cell_type": "code",
   "execution_count": 130,
   "metadata": {},
   "outputs": [
    {
     "data": {
      "image/png": "[encoded data removed]",
      "text/plain": [
       "<Figure size 432x288 with 1 Axes>"
      ]
     },
     "metadata": {},
     "output_type": "display_data"
    }
   ],
   "source": [
    "# annual cost increase\n",
    "p2 = df['Initial Year After Diagnosis Cost'].groupby(df['Annual Cost Increase (applied to initial and last phases)']).mean().sort_values(ascending=False)\n",
    "p2.plot.pie(autopct=\"%.1f%%\");"
   ]
  },
  {
   "cell_type": "code",
   "execution_count": 131,
   "metadata": {},
   "outputs": [
    {
     "data": {
      "image/png": "[encoded data removed]",
      "text/plain": [
       "<Figure size 432x288 with 1 Axes>"
      ]
     },
     "metadata": {},
     "output_type": "display_data"
    }
   ],
   "source": [
    "# sex pie chart\n",
    "p3 = df['Initial Year After Diagnosis Cost'].groupby(df['Sex']).mean().sort_values(ascending=False)\n",
    "p3.plot.pie(autopct=\"%.1f%%\");"
   ]
  },
  {
   "cell_type": "code",
   "execution_count": null,
   "metadata": {},
   "outputs": [],
   "source": []
  },
  {
   "cell_type": "markdown",
   "metadata": {},
   "source": [
    "Will come back to plots"
   ]
  },
  {
   "cell_type": "code",
   "execution_count": null,
   "metadata": {},
   "outputs": [],
   "source": []
  },
  {
   "cell_type": "markdown",
   "metadata": {},
   "source": [
    "#### Feature Transformation and Engineering"
   ]
  },
  {
   "cell_type": "code",
   "execution_count": 132,
   "metadata": {},
   "outputs": [],
   "source": [
    "data = df.copy()"
   ]
  },
  {
   "cell_type": "code",
   "execution_count": 133,
   "metadata": {},
   "outputs": [
    {
     "data": {
      "text/html": [
       "<div>\n",
       "<style scoped>\n",
       "    .dataframe tbody tr th:only-of-type {\n",
       "        vertical-align: middle;\n",
       "    }\n",
       "\n",
       "    .dataframe tbody tr th {\n",
       "        vertical-align: top;\n",
       "    }\n",
       "\n",
       "    .dataframe thead th {\n",
       "        text-align: right;\n",
       "    }\n",
       "</style>\n",
       "<table border=\"1\" class=\"dataframe\">\n",
       "  <thead>\n",
       "    <tr style=\"text-align: right;\">\n",
       "      <th>2</th>\n",
       "      <th>Cancer Site</th>\n",
       "      <th>Year</th>\n",
       "      <th>Sex</th>\n",
       "      <th>Incidence and Survival Assumptions</th>\n",
       "      <th>Annual Cost Increase (applied to initial and last phases)</th>\n",
       "      <th>Total Costs</th>\n",
       "      <th>Initial Year After Diagnosis Cost</th>\n",
       "      <th>Continuing Phase Cost</th>\n",
       "      <th>Last Year of Life Cost</th>\n",
       "    </tr>\n",
       "  </thead>\n",
       "  <tbody>\n",
       "    <tr>\n",
       "      <th>0</th>\n",
       "      <td>AllSites</td>\n",
       "      <td>2010</td>\n",
       "      <td>Both sexes</td>\n",
       "      <td>Incidence, Survival at constant rate</td>\n",
       "      <td>0.0</td>\n",
       "      <td>124565.6</td>\n",
       "      <td>40463.5</td>\n",
       "      <td>46642.8</td>\n",
       "      <td>37459.2</td>\n",
       "    </tr>\n",
       "    <tr>\n",
       "      <th>1</th>\n",
       "      <td>AllSites</td>\n",
       "      <td>2010</td>\n",
       "      <td>Both sexes</td>\n",
       "      <td>Incidence follows recent trend, Survival constant</td>\n",
       "      <td>0.0</td>\n",
       "      <td>122420.8</td>\n",
       "      <td>38552.7</td>\n",
       "      <td>46671.9</td>\n",
       "      <td>37196.3</td>\n",
       "    </tr>\n",
       "    <tr>\n",
       "      <th>2</th>\n",
       "      <td>AllSites</td>\n",
       "      <td>2010</td>\n",
       "      <td>Both sexes</td>\n",
       "      <td>Survival follows recent trend, Incidence constant</td>\n",
       "      <td>0.0</td>\n",
       "      <td>125397.7</td>\n",
       "      <td>40463.5</td>\n",
       "      <td>47136.3</td>\n",
       "      <td>37797.9</td>\n",
       "    </tr>\n",
       "  </tbody>\n",
       "</table>\n",
       "</div>"
      ],
      "text/plain": [
       "2 Cancer Site  Year         Sex  \\\n",
       "0    AllSites  2010  Both sexes   \n",
       "1    AllSites  2010  Both sexes   \n",
       "2    AllSites  2010  Both sexes   \n",
       "\n",
       "2                 Incidence and Survival Assumptions  \\\n",
       "0               Incidence, Survival at constant rate   \n",
       "1  Incidence follows recent trend, Survival constant   \n",
       "2  Survival follows recent trend, Incidence constant   \n",
       "\n",
       "2  Annual Cost Increase (applied to initial and last phases)  Total Costs  \\\n",
       "0                                                0.0             124565.6   \n",
       "1                                                0.0             122420.8   \n",
       "2                                                0.0             125397.7   \n",
       "\n",
       "2  Initial Year After Diagnosis Cost  Continuing Phase Cost  \\\n",
       "0                            40463.5                46642.8   \n",
       "1                            38552.7                46671.9   \n",
       "2                            40463.5                47136.3   \n",
       "\n",
       "2  Last Year of Life Cost  \n",
       "0                 37459.2  \n",
       "1                 37196.3  \n",
       "2                 37797.9  "
      ]
     },
     "execution_count": 133,
     "metadata": {},
     "output_type": "execute_result"
    }
   ],
   "source": [
    "data.head(3)"
   ]
  },
  {
   "cell_type": "code",
   "execution_count": 135,
   "metadata": {},
   "outputs": [
    {
     "name": "stdout",
     "output_type": "stream",
     "text": [
      "<class 'pandas.core.frame.DataFrame'>\n",
      "RangeIndex: 1254 entries, 0 to 1253\n",
      "Data columns (total 9 columns):\n",
      " #   Column                                                     Non-Null Count  Dtype  \n",
      "---  ------                                                     --------------  -----  \n",
      " 0   Cancer Site                                                1254 non-null   object \n",
      " 1   Year                                                       1254 non-null   object \n",
      " 2   Sex                                                        1254 non-null   object \n",
      " 3   Incidence and Survival Assumptions                         1254 non-null   object \n",
      " 4   Annual Cost Increase (applied to initial and last phases)  1254 non-null   float64\n",
      " 5   Total Costs                                                1254 non-null   float64\n",
      " 6   Initial Year After Diagnosis Cost                          1254 non-null   float64\n",
      " 7   Continuing Phase Cost                                      1254 non-null   float64\n",
      " 8   Last Year of Life Cost                                     1254 non-null   float64\n",
      "dtypes: float64(5), object(4)\n",
      "memory usage: 88.3+ KB\n"
     ]
    }
   ],
   "source": [
    "data.info()"
   ]
  },
  {
   "cell_type": "code",
   "execution_count": null,
   "metadata": {},
   "outputs": [],
   "source": [
    "# split dataset into cols and label"
   ]
  },
  {
   "cell_type": "code",
   "execution_count": 141,
   "metadata": {},
   "outputs": [],
   "source": [
    "total_costs_label = data['Total Costs'].values"
   ]
  },
  {
   "cell_type": "code",
   "execution_count": 143,
   "metadata": {},
   "outputs": [],
   "source": [
    "data_cols = data.drop(columns='Total Costs', axis=1)"
   ]
  },
  {
   "cell_type": "code",
   "execution_count": 144,
   "metadata": {},
   "outputs": [
    {
     "data": {
      "text/html": [
       "<div>\n",
       "<style scoped>\n",
       "    .dataframe tbody tr th:only-of-type {\n",
       "        vertical-align: middle;\n",
       "    }\n",
       "\n",
       "    .dataframe tbody tr th {\n",
       "        vertical-align: top;\n",
       "    }\n",
       "\n",
       "    .dataframe thead th {\n",
       "        text-align: right;\n",
       "    }\n",
       "</style>\n",
       "<table border=\"1\" class=\"dataframe\">\n",
       "  <thead>\n",
       "    <tr style=\"text-align: right;\">\n",
       "      <th>2</th>\n",
       "      <th>Cancer Site</th>\n",
       "      <th>Year</th>\n",
       "      <th>Sex</th>\n",
       "      <th>Incidence and Survival Assumptions</th>\n",
       "      <th>Annual Cost Increase (applied to initial and last phases)</th>\n",
       "      <th>Initial Year After Diagnosis Cost</th>\n",
       "      <th>Continuing Phase Cost</th>\n",
       "      <th>Last Year of Life Cost</th>\n",
       "    </tr>\n",
       "  </thead>\n",
       "  <tbody>\n",
       "    <tr>\n",
       "      <th>0</th>\n",
       "      <td>AllSites</td>\n",
       "      <td>2010</td>\n",
       "      <td>Both sexes</td>\n",
       "      <td>Incidence, Survival at constant rate</td>\n",
       "      <td>0.0</td>\n",
       "      <td>40463.5</td>\n",
       "      <td>46642.8</td>\n",
       "      <td>37459.2</td>\n",
       "    </tr>\n",
       "    <tr>\n",
       "      <th>1</th>\n",
       "      <td>AllSites</td>\n",
       "      <td>2010</td>\n",
       "      <td>Both sexes</td>\n",
       "      <td>Incidence follows recent trend, Survival constant</td>\n",
       "      <td>0.0</td>\n",
       "      <td>38552.7</td>\n",
       "      <td>46671.9</td>\n",
       "      <td>37196.3</td>\n",
       "    </tr>\n",
       "    <tr>\n",
       "      <th>2</th>\n",
       "      <td>AllSites</td>\n",
       "      <td>2010</td>\n",
       "      <td>Both sexes</td>\n",
       "      <td>Survival follows recent trend, Incidence constant</td>\n",
       "      <td>0.0</td>\n",
       "      <td>40463.5</td>\n",
       "      <td>47136.3</td>\n",
       "      <td>37797.9</td>\n",
       "    </tr>\n",
       "  </tbody>\n",
       "</table>\n",
       "</div>"
      ],
      "text/plain": [
       "2 Cancer Site  Year         Sex  \\\n",
       "0    AllSites  2010  Both sexes   \n",
       "1    AllSites  2010  Both sexes   \n",
       "2    AllSites  2010  Both sexes   \n",
       "\n",
       "2                 Incidence and Survival Assumptions  \\\n",
       "0               Incidence, Survival at constant rate   \n",
       "1  Incidence follows recent trend, Survival constant   \n",
       "2  Survival follows recent trend, Incidence constant   \n",
       "\n",
       "2  Annual Cost Increase (applied to initial and last phases)  \\\n",
       "0                                                0.0           \n",
       "1                                                0.0           \n",
       "2                                                0.0           \n",
       "\n",
       "2  Initial Year After Diagnosis Cost  Continuing Phase Cost  \\\n",
       "0                            40463.5                46642.8   \n",
       "1                            38552.7                46671.9   \n",
       "2                            40463.5                47136.3   \n",
       "\n",
       "2  Last Year of Life Cost  \n",
       "0                 37459.2  \n",
       "1                 37196.3  \n",
       "2                 37797.9  "
      ]
     },
     "execution_count": 144,
     "metadata": {},
     "output_type": "execute_result"
    }
   ],
   "source": [
    "data_cols.head(3)"
   ]
  },
  {
   "cell_type": "code",
   "execution_count": 149,
   "metadata": {},
   "outputs": [
    {
     "data": {
      "text/html": [
       "<div>\n",
       "<style scoped>\n",
       "    .dataframe tbody tr th:only-of-type {\n",
       "        vertical-align: middle;\n",
       "    }\n",
       "\n",
       "    .dataframe tbody tr th {\n",
       "        vertical-align: top;\n",
       "    }\n",
       "\n",
       "    .dataframe thead th {\n",
       "        text-align: right;\n",
       "    }\n",
       "</style>\n",
       "<table border=\"1\" class=\"dataframe\">\n",
       "  <thead>\n",
       "    <tr style=\"text-align: right;\">\n",
       "      <th>2</th>\n",
       "      <th>Cancer Site</th>\n",
       "      <th>Year</th>\n",
       "      <th>Sex</th>\n",
       "      <th>Incidence and Survival Assumptions</th>\n",
       "      <th>Annual Cost Increase (applied to initial and last phases)</th>\n",
       "      <th>Initial Year After Diagnosis Cost</th>\n",
       "    </tr>\n",
       "  </thead>\n",
       "  <tbody>\n",
       "    <tr>\n",
       "      <th>0</th>\n",
       "      <td>AllSites</td>\n",
       "      <td>2010</td>\n",
       "      <td>Both sexes</td>\n",
       "      <td>Incidence, Survival at constant rate</td>\n",
       "      <td>0.0</td>\n",
       "      <td>40463.5</td>\n",
       "    </tr>\n",
       "    <tr>\n",
       "      <th>1</th>\n",
       "      <td>AllSites</td>\n",
       "      <td>2010</td>\n",
       "      <td>Both sexes</td>\n",
       "      <td>Incidence follows recent trend, Survival constant</td>\n",
       "      <td>0.0</td>\n",
       "      <td>38552.7</td>\n",
       "    </tr>\n",
       "    <tr>\n",
       "      <th>2</th>\n",
       "      <td>AllSites</td>\n",
       "      <td>2010</td>\n",
       "      <td>Both sexes</td>\n",
       "      <td>Survival follows recent trend, Incidence constant</td>\n",
       "      <td>0.0</td>\n",
       "      <td>40463.5</td>\n",
       "    </tr>\n",
       "    <tr>\n",
       "      <th>3</th>\n",
       "      <td>AllSites</td>\n",
       "      <td>2010</td>\n",
       "      <td>Both sexes</td>\n",
       "      <td>Incidence, Survival follow recent trends</td>\n",
       "      <td>0.0</td>\n",
       "      <td>38552.7</td>\n",
       "    </tr>\n",
       "    <tr>\n",
       "      <th>4</th>\n",
       "      <td>AllSites</td>\n",
       "      <td>2010</td>\n",
       "      <td>Both sexes</td>\n",
       "      <td>Incidence, Survival follow recent trends</td>\n",
       "      <td>2.0</td>\n",
       "      <td>38552.7</td>\n",
       "    </tr>\n",
       "    <tr>\n",
       "      <th>5</th>\n",
       "      <td>AllSites</td>\n",
       "      <td>2010</td>\n",
       "      <td>Both sexes</td>\n",
       "      <td>Incidence, Survival follow recent trends</td>\n",
       "      <td>5.0</td>\n",
       "      <td>38552.7</td>\n",
       "    </tr>\n",
       "    <tr>\n",
       "      <th>6</th>\n",
       "      <td>Bladder</td>\n",
       "      <td>2010</td>\n",
       "      <td>Both sexes</td>\n",
       "      <td>Incidence, Survival at constant rate</td>\n",
       "      <td>0.0</td>\n",
       "      <td>978.7</td>\n",
       "    </tr>\n",
       "    <tr>\n",
       "      <th>7</th>\n",
       "      <td>Bladder</td>\n",
       "      <td>2010</td>\n",
       "      <td>Both sexes</td>\n",
       "      <td>Incidence follows recent trend, Survival constant</td>\n",
       "      <td>0.0</td>\n",
       "      <td>923.3</td>\n",
       "    </tr>\n",
       "  </tbody>\n",
       "</table>\n",
       "</div>"
      ],
      "text/plain": [
       "2 Cancer Site  Year         Sex  \\\n",
       "0    AllSites  2010  Both sexes   \n",
       "1    AllSites  2010  Both sexes   \n",
       "2    AllSites  2010  Both sexes   \n",
       "3    AllSites  2010  Both sexes   \n",
       "4    AllSites  2010  Both sexes   \n",
       "5    AllSites  2010  Both sexes   \n",
       "6     Bladder  2010  Both sexes   \n",
       "7     Bladder  2010  Both sexes   \n",
       "\n",
       "2                 Incidence and Survival Assumptions  \\\n",
       "0               Incidence, Survival at constant rate   \n",
       "1  Incidence follows recent trend, Survival constant   \n",
       "2  Survival follows recent trend, Incidence constant   \n",
       "3           Incidence, Survival follow recent trends   \n",
       "4           Incidence, Survival follow recent trends   \n",
       "5           Incidence, Survival follow recent trends   \n",
       "6               Incidence, Survival at constant rate   \n",
       "7  Incidence follows recent trend, Survival constant   \n",
       "\n",
       "2  Annual Cost Increase (applied to initial and last phases)  \\\n",
       "0                                                0.0           \n",
       "1                                                0.0           \n",
       "2                                                0.0           \n",
       "3                                                0.0           \n",
       "4                                                2.0           \n",
       "5                                                5.0           \n",
       "6                                                0.0           \n",
       "7                                                0.0           \n",
       "\n",
       "2  Initial Year After Diagnosis Cost  \n",
       "0                            40463.5  \n",
       "1                            38552.7  \n",
       "2                            40463.5  \n",
       "3                            38552.7  \n",
       "4                            38552.7  \n",
       "5                            38552.7  \n",
       "6                              978.7  \n",
       "7                              923.3  "
      ]
     },
     "execution_count": 149,
     "metadata": {},
     "output_type": "execute_result"
    }
   ],
   "source": [
    "# drop last two columns\n",
    "# the last three columns sum to the label data\n",
    "# dropping continuing phase and last year of life costs (last two columns) and making predictions based off of initial year costs\n",
    "# and remaining columns, as well as feature engineered columns\n",
    "\n",
    "data_cols = data_cols.drop(columns=['Continuing Phase Cost', 'Last Year of Life Cost'], axis=1)\n",
    "data_cols.head(8)"
   ]
  },
  {
   "cell_type": "code",
   "execution_count": 160,
   "metadata": {},
   "outputs": [],
   "source": [
    "# square initial year cost\n",
    "data_cols['Initial Cost Squared'] = data_cols['Initial Year After Diagnosis Cost']**2"
   ]
  },
  {
   "cell_type": "code",
   "execution_count": 161,
   "metadata": {},
   "outputs": [
    {
     "data": {
      "text/html": [
       "<div>\n",
       "<style scoped>\n",
       "    .dataframe tbody tr th:only-of-type {\n",
       "        vertical-align: middle;\n",
       "    }\n",
       "\n",
       "    .dataframe tbody tr th {\n",
       "        vertical-align: top;\n",
       "    }\n",
       "\n",
       "    .dataframe thead th {\n",
       "        text-align: right;\n",
       "    }\n",
       "</style>\n",
       "<table border=\"1\" class=\"dataframe\">\n",
       "  <thead>\n",
       "    <tr style=\"text-align: right;\">\n",
       "      <th>2</th>\n",
       "      <th>Cancer Site</th>\n",
       "      <th>Year</th>\n",
       "      <th>Sex</th>\n",
       "      <th>Incidence and Survival Assumptions</th>\n",
       "      <th>Annual Cost Increase (applied to initial and last phases)</th>\n",
       "      <th>Initial Year After Diagnosis Cost</th>\n",
       "      <th>Initial Cost Squared</th>\n",
       "    </tr>\n",
       "  </thead>\n",
       "  <tbody>\n",
       "    <tr>\n",
       "      <th>0</th>\n",
       "      <td>AllSites</td>\n",
       "      <td>2010</td>\n",
       "      <td>Both sexes</td>\n",
       "      <td>Incidence, Survival at constant rate</td>\n",
       "      <td>0.0</td>\n",
       "      <td>40463.5</td>\n",
       "      <td>1.637295e+09</td>\n",
       "    </tr>\n",
       "    <tr>\n",
       "      <th>1</th>\n",
       "      <td>AllSites</td>\n",
       "      <td>2010</td>\n",
       "      <td>Both sexes</td>\n",
       "      <td>Incidence follows recent trend, Survival constant</td>\n",
       "      <td>0.0</td>\n",
       "      <td>38552.7</td>\n",
       "      <td>1.486311e+09</td>\n",
       "    </tr>\n",
       "    <tr>\n",
       "      <th>2</th>\n",
       "      <td>AllSites</td>\n",
       "      <td>2010</td>\n",
       "      <td>Both sexes</td>\n",
       "      <td>Survival follows recent trend, Incidence constant</td>\n",
       "      <td>0.0</td>\n",
       "      <td>40463.5</td>\n",
       "      <td>1.637295e+09</td>\n",
       "    </tr>\n",
       "  </tbody>\n",
       "</table>\n",
       "</div>"
      ],
      "text/plain": [
       "2 Cancer Site  Year         Sex  \\\n",
       "0    AllSites  2010  Both sexes   \n",
       "1    AllSites  2010  Both sexes   \n",
       "2    AllSites  2010  Both sexes   \n",
       "\n",
       "2                 Incidence and Survival Assumptions  \\\n",
       "0               Incidence, Survival at constant rate   \n",
       "1  Incidence follows recent trend, Survival constant   \n",
       "2  Survival follows recent trend, Incidence constant   \n",
       "\n",
       "2  Annual Cost Increase (applied to initial and last phases)  \\\n",
       "0                                                0.0           \n",
       "1                                                0.0           \n",
       "2                                                0.0           \n",
       "\n",
       "2  Initial Year After Diagnosis Cost  Initial Cost Squared  \n",
       "0                            40463.5          1.637295e+09  \n",
       "1                            38552.7          1.486311e+09  \n",
       "2                            40463.5          1.637295e+09  "
      ]
     },
     "execution_count": 161,
     "metadata": {},
     "output_type": "execute_result"
    }
   ],
   "source": [
    "data_cols.head(3)"
   ]
  },
  {
   "cell_type": "code",
   "execution_count": 162,
   "metadata": {},
   "outputs": [
    {
     "name": "stdout",
     "output_type": "stream",
     "text": [
      "<class 'pandas.core.frame.DataFrame'>\n",
      "RangeIndex: 1254 entries, 0 to 1253\n",
      "Data columns (total 7 columns):\n",
      " #   Column                                                     Non-Null Count  Dtype  \n",
      "---  ------                                                     --------------  -----  \n",
      " 0   Cancer Site                                                1254 non-null   object \n",
      " 1   Year                                                       1254 non-null   object \n",
      " 2   Sex                                                        1254 non-null   object \n",
      " 3   Incidence and Survival Assumptions                         1254 non-null   object \n",
      " 4   Annual Cost Increase (applied to initial and last phases)  1254 non-null   float64\n",
      " 5   Initial Year After Diagnosis Cost                          1254 non-null   float64\n",
      " 6   Initial Cost Squared                                       1254 non-null   float64\n",
      "dtypes: float64(3), object(4)\n",
      "memory usage: 68.7+ KB\n"
     ]
    }
   ],
   "source": [
    "data_cols.info()"
   ]
  },
  {
   "cell_type": "code",
   "execution_count": null,
   "metadata": {},
   "outputs": [],
   "source": [
    "# convert year to 0-10 categorical\n",
    "# want to structure it so that it can take a new year as an input for new data (2021)"
   ]
  },
  {
   "cell_type": "code",
   "execution_count": 180,
   "metadata": {},
   "outputs": [
    {
     "data": {
      "text/plain": [
       "0       2010.0\n",
       "1       2010.0\n",
       "2       2010.0\n",
       "3       2010.0\n",
       "4       2010.0\n",
       "         ...  \n",
       "1249    2020.0\n",
       "1250    2020.0\n",
       "1251    2020.0\n",
       "1252    2020.0\n",
       "1253    2020.0\n",
       "Name: Year Num, Length: 1254, dtype: float64"
      ]
     },
     "execution_count": 180,
     "metadata": {},
     "output_type": "execute_result"
    }
   ],
   "source": [
    "data_cols['Year Num'] = data_cols['Year']\n",
    "data_cols['Year Num'] = data_cols['Year Num'].astype(float)\n",
    "data_cols['Year Num']"
   ]
  },
  {
   "cell_type": "code",
   "execution_count": 188,
   "metadata": {},
   "outputs": [
    {
     "data": {
      "text/plain": [
       "array([2010., 2011., 2012., 2013., 2014., 2015., 2016., 2017., 2018.,\n",
       "       2019., 2020.])"
      ]
     },
     "execution_count": 188,
     "metadata": {},
     "output_type": "execute_result"
    }
   ],
   "source": [
    "years = data_cols['Year Num'].unique()\n",
    "years"
   ]
  },
  {
   "cell_type": "code",
   "execution_count": 182,
   "metadata": {},
   "outputs": [
    {
     "name": "stdout",
     "output_type": "stream",
     "text": [
      "<class 'pandas.core.frame.DataFrame'>\n",
      "RangeIndex: 1254 entries, 0 to 1253\n",
      "Data columns (total 8 columns):\n",
      " #   Column                                                     Non-Null Count  Dtype  \n",
      "---  ------                                                     --------------  -----  \n",
      " 0   Cancer Site                                                1254 non-null   object \n",
      " 1   Year                                                       1254 non-null   object \n",
      " 2   Sex                                                        1254 non-null   object \n",
      " 3   Incidence and Survival Assumptions                         1254 non-null   object \n",
      " 4   Annual Cost Increase (applied to initial and last phases)  1254 non-null   float64\n",
      " 5   Initial Year After Diagnosis Cost                          1254 non-null   float64\n",
      " 6   Initial Cost Squared                                       1254 non-null   float64\n",
      " 7   Year Num                                                   1254 non-null   float64\n",
      "dtypes: float64(4), object(4)\n",
      "memory usage: 78.5+ KB\n"
     ]
    }
   ],
   "source": [
    "data_cols.info()"
   ]
  },
  {
   "cell_type": "code",
   "execution_count": null,
   "metadata": {},
   "outputs": [],
   "source": []
  },
  {
   "cell_type": "code",
   "execution_count": 170,
   "metadata": {},
   "outputs": [
    {
     "data": {
      "text/plain": [
       "'10'"
      ]
     },
     "execution_count": 170,
     "metadata": {},
     "output_type": "execute_result"
    }
   ],
   "source": [
    "data_cols.loc[0, 'Year'][-2:]"
   ]
  },
  {
   "cell_type": "code",
   "execution_count": 176,
   "metadata": {},
   "outputs": [
    {
     "data": {
      "text/plain": [
       "'10'"
      ]
     },
     "execution_count": 176,
     "metadata": {},
     "output_type": "execute_result"
    }
   ],
   "source": [
    "year_values = data_cols['Year'].values\n",
    "year_values[0][-2:]"
   ]
  },
  {
   "cell_type": "code",
   "execution_count": null,
   "metadata": {},
   "outputs": [],
   "source": [
    "year_cats = []\n",
    "for year in year_values:\n",
    "    if year[-2:] == '10':\n",
    "        year_cats.append('0')\n",
    "    elif year[-2:] == '11':\n",
    "        year_cats.append('1')\n",
    "    elif year[-2:] == '12':\n",
    "        year_cats.append('2')\n",
    "    elif year[-2:] == '13':\n",
    "        year_cats.append('3')\n",
    "    elif year[-2:] == '14':\n",
    "        year_cats.append('4')\n",
    "    elif year[-2:] == '15':\n",
    "        year_cats.append('5')\n",
    "    elif year[-2:] == '16':\n",
    "        year_cats.append('6')\n",
    "    elif year[-2:] == '7':\n",
    "        year_cats.append('7')\n",
    "    elif year[-2:] == '8':\n",
    "        year_cats.append('8')\n",
    "    elif year[-2:] == '19':\n",
    "        year_cats.append('9')\n",
    "    elif year[-2:] == '11':\n",
    "        year_cats.append('11')"
   ]
  },
  {
   "cell_type": "code",
   "execution_count": null,
   "metadata": {},
   "outputs": [],
   "source": []
  },
  {
   "cell_type": "code",
   "execution_count": null,
   "metadata": {},
   "outputs": [],
   "source": []
  },
  {
   "cell_type": "code",
   "execution_count": null,
   "metadata": {},
   "outputs": [],
   "source": [
    "# change annual cost increase to cat"
   ]
  },
  {
   "cell_type": "code",
   "execution_count": null,
   "metadata": {},
   "outputs": [],
   "source": [
    "# use two cols for annual cost increase, both numeric and cat"
   ]
  },
  {
   "cell_type": "code",
   "execution_count": null,
   "metadata": {},
   "outputs": [],
   "source": [
    "# normalize numeric cols"
   ]
  },
  {
   "cell_type": "code",
   "execution_count": null,
   "metadata": {},
   "outputs": [],
   "source": [
    "# ohe cat cols"
   ]
  },
  {
   "cell_type": "code",
   "execution_count": null,
   "metadata": {},
   "outputs": [],
   "source": []
  },
  {
   "cell_type": "code",
   "execution_count": null,
   "metadata": {},
   "outputs": [],
   "source": []
  }
 ],
 "metadata": {
  "kernelspec": {
   "display_name": "Python 3",
   "language": "python",
   "name": "python3"
  },
  "language_info": {
   "codemirror_mode": {
    "name": "ipython",
    "version": 3
   },
   "file_extension": ".py",
   "mimetype": "text/x-python",
   "name": "python",
   "nbconvert_exporter": "python",
   "pygments_lexer": "ipython3",
   "version": "3.7.4"
  }
 },
 "nbformat": 4,
 "nbformat_minor": 4
}
